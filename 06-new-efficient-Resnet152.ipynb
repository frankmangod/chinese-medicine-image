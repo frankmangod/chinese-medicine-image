{
 "cells": [
  {
   "cell_type": "code",
   "execution_count": 4,
   "metadata": {},
   "outputs": [],
   "source": [
    "import warnings\n",
    "\n",
    "# 屏蔽所有警告（不推荐，可能隐藏重要信息）\n",
    "warnings.filterwarnings(\"ignore\")"
   ]
  },
  {
   "cell_type": "code",
   "execution_count": 5,
   "metadata": {},
   "outputs": [],
   "source": [
    "# 数据清洗模块 - 添加到notebook开头的数据预处理部分\n",
    "\n",
    "import torch\n",
    "import torchvision.models as models\n",
    "import torchvision.transforms as transforms\n",
    "from torch.utils.data import DataLoader, Dataset\n",
    "from PIL import Image\n",
    "import os\n",
    "import numpy as np\n",
    "from tqdm import tqdm\n",
    "from sklearn.metrics.pairwise import cosine_similarity\n",
    "import shutil\n",
    "\n",
    "class DataCleaner:\n",
    "    def __init__(self, device=None):\n",
    "        \"\"\"初始化数据清洗器\"\"\"\n",
    "        if device is None:\n",
    "            self.device = torch.device(\"cuda\" if torch.cuda.is_available() else \"cpu\")\n",
    "        else:\n",
    "            self.device = device\n",
    "            \n",
    "        # 加载预训练模型用于特征提取\n",
    "        self.model = models.resnet50(pretrained=True)\n",
    "        # 去掉最后的全连接层，只保留特征提取部分\n",
    "        self.model = torch.nn.Sequential(*list(self.model.children())[:-1])\n",
    "        self.model.eval()\n",
    "        self.model.to(self.device)\n",
    "        \n",
    "        # 图像预处理\n",
    "        self.transform = transforms.Compose([\n",
    "            transforms.Resize((224, 224)),\n",
    "            transforms.ToTensor(),\n",
    "            transforms.Normalize(mean=[0.485, 0.456, 0.406], std=[0.229, 0.224, 0.225])\n",
    "        ])\n",
    "    \n",
    "    class MedicineImageDataset(Dataset):\n",
    "        \"\"\"自定义数据集类，用于加载图像和路径\"\"\"\n",
    "        def __init__(self, folder_path, transform=None):\n",
    "            self.folder_path = folder_path\n",
    "            self.transform = transform\n",
    "            self.image_paths = [os.path.join(folder_path, f) for f in os.listdir(folder_path) \n",
    "                               if f.lower().endswith(('.jpg', '.jpeg', '.png', '.bmp'))]\n",
    "            \n",
    "        def __len__(self):\n",
    "            return len(self.image_paths)\n",
    "        \n",
    "        def __getitem__(self, idx):\n",
    "            img_path = self.image_paths[idx]\n",
    "            try:\n",
    "                image = Image.open(img_path).convert('RGB')\n",
    "                if self.transform:\n",
    "                    image = self.transform(image)\n",
    "                return image, img_path\n",
    "            except Exception as e:\n",
    "                print(f\"Error loading image {img_path}: {e}\")\n",
    "                # 返回一个占位图像\n",
    "                dummy_image = torch.zeros(3, 224, 224)\n",
    "                return dummy_image, img_path\n",
    "    \n",
    "    def extract_features(self, folder_path):\n",
    "        \"\"\"提取文件夹中所有图像的特征向量\"\"\"\n",
    "        dataset = self.MedicineImageDataset(folder_path, self.transform)\n",
    "        if len(dataset) == 0:\n",
    "            print(f\"警告: {folder_path} 中没有找到图像文件\")\n",
    "            return np.array([]), []\n",
    "            \n",
    "        dataloader = DataLoader(dataset, batch_size=16, shuffle=False, num_workers=4)\n",
    "        \n",
    "        features = []\n",
    "        paths = []\n",
    "        \n",
    "        with torch.no_grad():\n",
    "            for images, img_paths in tqdm(dataloader, desc=f\"提取特征 - {os.path.basename(folder_path)}\"):\n",
    "                images = images.to(self.device)\n",
    "                output = self.model(images)\n",
    "                output = output.squeeze()\n",
    "                # 处理单张图像的情况\n",
    "                if output.dim() == 1:\n",
    "                    output = output.unsqueeze(0)\n",
    "                features.append(output.cpu().numpy())\n",
    "                paths.extend(img_paths)\n",
    "        \n",
    "        if len(features) > 0:\n",
    "            features = np.vstack(features)\n",
    "        else:\n",
    "            features = np.array([])\n",
    "            \n",
    "        return features, paths\n",
    "    \n",
    "    def clean_class_folder(self, class_folder, outliers_folder=None, num_outliers=10, move_files=True):\n",
    "        \"\"\"\n",
    "        清洗一个类别文件夹中的异常图像\n",
    "        \n",
    "        参数:\n",
    "            class_folder: 类别文件夹路径\n",
    "            outliers_folder: 存放异常图像的输出文件夹，如果为None则只返回异常图像路径不移动\n",
    "            num_outliers: 要识别的异常图像数量\n",
    "            move_files: 是否移动文件，如果为False则只返回异常图像路径\n",
    "        \n",
    "        返回:\n",
    "            outlier_paths: 识别出的异常图像路径列表\n",
    "        \"\"\"\n",
    "        print(f\"处理文件夹: {class_folder}\")\n",
    "        \n",
    "        # 提取特征\n",
    "        features, image_paths = self.extract_features(class_folder)\n",
    "        \n",
    "        if len(features) <= num_outliers:\n",
    "            print(f\"警告: {class_folder} 中的图像数量 ({len(features)}) 少于要识别的异常数量 ({num_outliers})\")\n",
    "            return []\n",
    "        \n",
    "        # 计算余弦相似度矩阵\n",
    "        similarity_matrix = cosine_similarity(features)\n",
    "        \n",
    "        # 对每个样本，计算与其他所有样本的平均相似度\n",
    "        avg_similarities = np.mean(similarity_matrix, axis=1)\n",
    "        \n",
    "        # 找出相似度最低的样本索引\n",
    "        outlier_indices = np.argsort(avg_similarities)[:num_outliers]\n",
    "        \n",
    "        # 获取异常图像路径\n",
    "        outlier_paths = [image_paths[idx] for idx in outlier_indices]\n",
    "        \n",
    "        # 如果需要移动文件且指定了输出文件夹\n",
    "        if move_files and outliers_folder:\n",
    "            # 确保输出文件夹存在\n",
    "            os.makedirs(outliers_folder, exist_ok=True)\n",
    "            \n",
    "            class_name = os.path.basename(class_folder)\n",
    "            for img_path in outlier_paths:\n",
    "                img_name = os.path.basename(img_path)\n",
    "                dst_path = os.path.join(outliers_folder, f\"{class_name}_{img_name}\")\n",
    "                shutil.move(img_path, dst_path)\n",
    "                print(f\"已移动异常图像: {img_path} -> {dst_path}\")\n",
    "        \n",
    "        return outlier_paths\n",
    "    \n",
    "    def clean_all_classes(self, root_folder, outliers_folder=None, num_outliers=10, move_files=True):\n",
    "        \"\"\"\n",
    "        清洗所有类别文件夹中的异常图像\n",
    "        \n",
    "        参数:\n",
    "            root_folder: 包含所有类别子文件夹的根目录\n",
    "            outliers_folder: 存放所有异常图像的输出文件夹\n",
    "            num_outliers: 每个类别要识别的异常图像数量\n",
    "            move_files: 是否移动文件，如果为False则只返回异常图像路径\n",
    "        \n",
    "        返回:\n",
    "            all_outliers: 字典，键为类别名称，值为该类别中识别出的异常图像路径列表\n",
    "        \"\"\"\n",
    "        # 如果需要移动文件且指定了输出文件夹\n",
    "        if move_files and outliers_folder:\n",
    "            os.makedirs(outliers_folder, exist_ok=True)\n",
    "        \n",
    "        # 获取所有类别文件夹\n",
    "        class_folders = [os.path.join(root_folder, d) for d in os.listdir(root_folder) \n",
    "                        if os.path.isdir(os.path.join(root_folder, d))]\n",
    "        \n",
    "        all_outliers = {}\n",
    "        for class_folder in class_folders:\n",
    "            class_name = os.path.basename(class_folder)\n",
    "            outlier_paths = self.clean_class_folder(\n",
    "                class_folder, outliers_folder, num_outliers, move_files\n",
    "            )\n",
    "            all_outliers[class_name] = outlier_paths\n",
    "        \n",
    "        return all_outliers"
   ]
  },
  {
   "cell_type": "code",
   "execution_count": 6,
   "metadata": {},
   "outputs": [
    {
     "name": "stdout",
     "output_type": "stream",
     "text": [
      "==================================================\n",
      "开始数据清洗过程 - 使用对比学习识别异常图像\n",
      "==================================================\n"
     ]
    }
   ],
   "source": [
    "import os\n",
    "import torch\n",
    "import torch.nn as nn\n",
    "import torch.nn.functional as F\n",
    "import numpy as np\n",
    "from PIL import Image\n",
    "from tqdm import tqdm\n",
    "from torchvision import models, transforms\n",
    "import pandas as pd\n",
    "from collections import defaultdict\n",
    "from sklearn.metrics.pairwise import cosine_similarity\n",
    "\n",
    "# --- 数据清洗模块：使用对比学习识别并移除异常图像 ---\n",
    "print(\"=\" * 50)\n",
    "print(\"开始数据清洗过程 - 使用对比学习识别异常图像\")\n",
    "print(\"=\" * 50)\n",
    "\n",
    "class FeatureExtractor(nn.Module):\n",
    "    \"\"\"特征提取器 - 使用预训练的ResNet50提取图像特征\"\"\"\n",
    "    def __init__(self):\n",
    "        super(FeatureExtractor, self).__init__()\n",
    "        # 加载预训练的ResNet50\n",
    "        model = models.resnet50(pretrained=True)\n",
    "        # 移除最后的全连接层，只保留特征提取部分\n",
    "        self.features = nn.Sequential(*list(model.children())[:-1])\n",
    "        \n",
    "    def forward(self, x):\n",
    "        # 提取特征并展平\n",
    "        x = self.features(x)\n",
    "        return x.view(x.size(0), -1)\n",
    "\n",
    "def extract_features(image_paths, batch_size=32):\n",
    "    \"\"\"批量提取图像特征\"\"\"\n",
    "    device = torch.device(\"cuda\" if torch.cuda.is_available() else \"cpu\")\n",
    "    # 移除这行输出\n",
    "    # print(f\"使用设备: {device}\")\n",
    "    \n",
    "    # 初始化特征提取器\n",
    "    extractor = FeatureExtractor().to(device)\n",
    "    extractor.eval()\n",
    "    \n",
    "    # 图像预处理\n",
    "    preprocess = transforms.Compose([\n",
    "        transforms.Resize(256),\n",
    "        transforms.CenterCrop(224),\n",
    "        transforms.ToTensor(),\n",
    "        transforms.Normalize(mean=[0.485, 0.456, 0.406], std=[0.229, 0.224, 0.225])\n",
    "    ])\n",
    "    \n",
    "    all_features = []\n",
    "    all_valid_paths = []\n",
    "    \n",
    "    # 批量处理图像 - 移除进度条\n",
    "    for i in range(0, len(image_paths), batch_size):\n",
    "        batch_paths = image_paths[i:i+batch_size]\n",
    "        batch_images = []\n",
    "        valid_indices = []\n",
    "        \n",
    "        # 加载并预处理图像\n",
    "        for j, path in enumerate(batch_paths):\n",
    "            try:\n",
    "                img = Image.open(path).convert('RGB')\n",
    "                img_tensor = preprocess(img)\n",
    "                batch_images.append(img_tensor)\n",
    "                valid_indices.append(j)\n",
    "                all_valid_paths.append(path)\n",
    "            except Exception as e:\n",
    "                # 移除错误输出\n",
    "                pass\n",
    "        \n",
    "        if not batch_images:\n",
    "            continue\n",
    "            \n",
    "        # 将图像堆叠成批次\n",
    "        batch_tensor = torch.stack(batch_images).to(device)\n",
    "        \n",
    "        # 提取特征\n",
    "        with torch.no_grad():\n",
    "            batch_features = extractor(batch_tensor).cpu().numpy()\n",
    "            \n",
    "        all_features.append(batch_features)\n",
    "    \n",
    "    # 合并所有批次的特征\n",
    "    if all_features:\n",
    "        all_features = np.vstack(all_features)\n",
    "        # 移除这行输出\n",
    "        # print(f\"成功提取 {len(all_valid_paths)} 个图像的特征，特征维度: {all_features.shape}\")\n",
    "        return all_features, all_valid_paths\n",
    "    else:\n",
    "        # 移除这行输出\n",
    "        # print(\"警告: 未能提取任何图像特征\")\n",
    "        return np.array([]), []\n",
    "\n",
    "def clean_dataset_by_class(train_paths, train_labels, outlier_ratio=0.05):\n",
    "    \"\"\"按类别清洗数据集，移除每个类别中的异常图像\"\"\"\n",
    "    # 保留这行输出\n",
    "    print(\"开始按类别清洗数据集...\")\n",
    "    \n",
    "    # 将路径按类别分组\n",
    "    class_paths = defaultdict(list)\n",
    "    class_indices = defaultdict(list)\n",
    "    \n",
    "    for i, (path, label) in enumerate(zip(train_paths, train_labels)):\n",
    "        class_paths[label].append(path)\n",
    "        class_indices[label].append(i)\n",
    "    \n",
    "    clean_paths = []\n",
    "    clean_labels = []\n",
    "    removed_count = 0\n",
    "    \n",
    "    # 对每个类别进行清洗 - 保留这个进度条\n",
    "    for label, paths in tqdm(class_paths.items(), desc=\"按类别清洗\"):\n",
    "        if len(paths) < 10:  # 样本太少的类别跳过清洗\n",
    "            clean_paths.extend(paths)\n",
    "            clean_labels.extend([label] * len(paths))\n",
    "            continue\n",
    "            \n",
    "        # 提取该类别所有图像的特征\n",
    "        features, valid_paths = extract_features(paths)\n",
    "        \n",
    "        if len(valid_paths) == 0:\n",
    "            continue\n",
    "            \n",
    "        # 如果有效图像少于预期移除数量，保留所有图像\n",
    "        outlier_count = max(1, int(len(valid_paths) * outlier_ratio))\n",
    "        if len(valid_paths) <= outlier_count:\n",
    "            clean_paths.extend(valid_paths)\n",
    "            clean_labels.extend([label] * len(valid_paths))\n",
    "            continue\n",
    "        \n",
    "        # 计算特征之间的余弦相似度\n",
    "        similarity_matrix = cosine_similarity(features)\n",
    "        \n",
    "        # 对每个样本，计算与其他所有样本的平均相似度\n",
    "        avg_similarities = np.mean(similarity_matrix, axis=1)\n",
    "        \n",
    "        # 找出相似度最低的样本（异常图像）\n",
    "        outlier_indices = np.argsort(avg_similarities)[:outlier_count]\n",
    "        \n",
    "        # 保留非异常图像\n",
    "        for i in range(len(valid_paths)):\n",
    "            if i not in outlier_indices:\n",
    "                clean_paths.append(valid_paths[i])\n",
    "                clean_labels.append(label)\n",
    "        \n",
    "        removed_count += outlier_count\n",
    "    \n",
    "    # 简化最终输出\n",
    "    print(f\"数据清洗完成! 共移除 {removed_count} 张异常图像\")\n",
    "    print(f\"清洗前: {len(train_paths)} 张，清洗后: {len(clean_paths)} 张\")\n",
    "    \n",
    "    return clean_paths, clean_labels"
   ]
  },
  {
   "cell_type": "code",
   "execution_count": 7,
   "metadata": {},
   "outputs": [
    {
     "name": "stdout",
     "output_type": "stream",
     "text": [
      "开始加载训练数据信息...\n",
      "成功加载 167017 条训练数据信息。\n",
      "训练数据示例: {'path': 'chinese-medicine-image\\\\train\\\\train\\\\一支箭\\\\2539525370.png', 'label': 1}\n",
      "------------------------------\n",
      "开始加载测试数据信息...\n",
      "成功加载 0 张测试图片路径。\n",
      "------------------------------\n",
      "加载示例图片: chinese-medicine-image\\train\\train\\一支箭\\2539525370.png\n",
      "该图片的标签ID为: 1\n",
      "图片格式: JPEG\n",
      "图片大小: (500, 500)\n",
      "图片模式: RGB\n"
     ]
    },
    {
     "data": {
      "image/png": "[encoded data removed]",
      "text/plain": [
       "<Figure size 640x480 with 1 Axes>"
      ]
     },
     "metadata": {},
     "output_type": "display_data"
    },
    {
     "name": "stdout",
     "output_type": "stream",
     "text": [
      "重新确认并加载训练数据信息...\n",
      "成功加载 167017 条训练数据信息。\n",
      "------------------------------\n",
      "开始划分数据集...\n",
      "数据集划分完成。\n",
      "训练集样本数量: 141964\n",
      "验证集样本数量: 25053\n",
      "开始数据清洗过程...\n",
      "开始按类别清洗数据集...\n"
     ]
    },
    {
     "name": "stderr",
     "output_type": "stream",
     "text": [
      "按类别清洗:   0%|          | 0/879 [00:00<?, ?it/s]"
     ]
    },
    {
     "name": "stdout",
     "output_type": "stream",
     "text": [
      "使用设备: cuda\n"
     ]
    },
    {
     "name": "stderr",
     "output_type": "stream",
     "text": [
      "提取特征: 100%|██████████| 4/4 [00:01<00:00,  2.18it/s]\n",
      "按类别清洗:   0%|          | 1/879 [00:02<31:49,  2.18s/it]"
     ]
    },
    {
     "name": "stdout",
     "output_type": "stream",
     "text": [
      "成功提取 127 个图像的特征，特征维度: (127, 2048)\n",
      "使用设备: cuda\n"
     ]
    },
    {
     "name": "stderr",
     "output_type": "stream",
     "text": [
      "提取特征: 100%|██████████| 4/4 [00:01<00:00,  3.15it/s]\n",
      "按类别清洗:   0%|          | 2/879 [00:03<26:32,  1.82s/it]"
     ]
    },
    {
     "name": "stdout",
     "output_type": "stream",
     "text": [
      "成功提取 108 个图像的特征，特征维度: (108, 2048)\n",
      "使用设备: cuda\n"
     ]
    },
    {
     "name": "stderr",
     "output_type": "stream",
     "text": [
      "提取特征: 100%|██████████| 6/6 [00:02<00:00,  2.56it/s]\n",
      "按类别清洗:   0%|          | 3/879 [00:06<31:58,  2.19s/it]"
     ]
    },
    {
     "name": "stdout",
     "output_type": "stream",
     "text": [
      "成功提取 177 个图像的特征，特征维度: (177, 2048)\n",
      "使用设备: cuda\n"
     ]
    },
    {
     "name": "stderr",
     "output_type": "stream",
     "text": [
      "提取特征: 100%|██████████| 6/6 [00:02<00:00,  2.99it/s]\n",
      "按类别清洗:   0%|          | 4/879 [00:08<32:28,  2.23s/it]"
     ]
    },
    {
     "name": "stdout",
     "output_type": "stream",
     "text": [
      "成功提取 178 个图像的特征，特征维度: (178, 2048)\n",
      "使用设备: cuda\n"
     ]
    },
    {
     "name": "stderr",
     "output_type": "stream",
     "text": [
      "提取特征: 100%|██████████| 6/6 [00:02<00:00,  2.72it/s]\n",
      "按类别清洗:   1%|          | 5/879 [00:11<33:47,  2.32s/it]"
     ]
    },
    {
     "name": "stdout",
     "output_type": "stream",
     "text": [
      "成功提取 177 个图像的特征，特征维度: (177, 2048)\n",
      "使用设备: cuda\n"
     ]
    },
    {
     "name": "stderr",
     "output_type": "stream",
     "text": [
      "提取特征: 100%|██████████| 6/6 [00:02<00:00,  2.71it/s]\n",
      "按类别清洗:   1%|          | 6/879 [00:13<34:34,  2.38s/it]"
     ]
    },
    {
     "name": "stdout",
     "output_type": "stream",
     "text": [
      "成功提取 176 个图像的特征，特征维度: (176, 2048)\n",
      "使用设备: cuda\n"
     ]
    },
    {
     "name": "stderr",
     "output_type": "stream",
     "text": [
      "提取特征: 100%|██████████| 6/6 [00:01<00:00,  4.54it/s]\n",
      "按类别清洗:   1%|          | 7/879 [00:15<30:53,  2.13s/it]"
     ]
    },
    {
     "name": "stdout",
     "output_type": "stream",
     "text": [
      "成功提取 178 个图像的特征，特征维度: (178, 2048)\n",
      "使用设备: cuda\n"
     ]
    },
    {
     "name": "stderr",
     "output_type": "stream",
     "text": [
      "提取特征: 100%|██████████| 6/6 [00:00<00:00,  6.59it/s]\n",
      "按类别清洗:   1%|          | 8/879 [00:16<26:26,  1.82s/it]"
     ]
    },
    {
     "name": "stdout",
     "output_type": "stream",
     "text": [
      "成功提取 178 个图像的特征，特征维度: (178, 2048)\n",
      "使用设备: cuda\n"
     ]
    },
    {
     "name": "stderr",
     "output_type": "stream",
     "text": [
      "提取特征: 100%|██████████| 5/5 [00:00<00:00,  6.34it/s]\n",
      "按类别清洗:   1%|          | 9/879 [00:17<23:07,  1.59s/it]"
     ]
    },
    {
     "name": "stdout",
     "output_type": "stream",
     "text": [
      "成功提取 158 个图像的特征，特征维度: (158, 2048)\n",
      "使用设备: cuda\n"
     ]
    },
    {
     "name": "stderr",
     "output_type": "stream",
     "text": [
      "提取特征: 100%|██████████| 5/5 [00:00<00:00,  6.55it/s]\n",
      "按类别清洗:   1%|          | 10/879 [00:18<20:30,  1.42s/it]"
     ]
    },
    {
     "name": "stdout",
     "output_type": "stream",
     "text": [
      "成功提取 158 个图像的特征，特征维度: (158, 2048)\n",
      "使用设备: cuda\n"
     ]
    },
    {
     "name": "stderr",
     "output_type": "stream",
     "text": [
      "提取特征: 100%|██████████| 4/4 [00:00<00:00,  7.63it/s]\n",
      "按类别清洗:   1%|▏         | 11/879 [00:19<17:29,  1.21s/it]"
     ]
    },
    {
     "name": "stdout",
     "output_type": "stream",
     "text": [
      "成功提取 106 个图像的特征，特征维度: (106, 2048)\n",
      "使用设备: cuda\n"
     ]
    },
    {
     "name": "stderr",
     "output_type": "stream",
     "text": [
      "提取特征: 100%|██████████| 6/6 [00:00<00:00,  6.65it/s]\n",
      "按类别清洗:   1%|▏         | 12/879 [00:20<17:09,  1.19s/it]"
     ]
    },
    {
     "name": "stdout",
     "output_type": "stream",
     "text": [
      "成功提取 178 个图像的特征，特征维度: (178, 2048)\n",
      "使用设备: cuda\n"
     ]
    },
    {
     "name": "stderr",
     "output_type": "stream",
     "text": [
      "提取特征: 100%|██████████| 6/6 [00:00<00:00,  6.36it/s]\n",
      "按类别清洗:   1%|▏         | 13/879 [00:21<17:14,  1.19s/it]"
     ]
    },
    {
     "name": "stdout",
     "output_type": "stream",
     "text": [
      "成功提取 178 个图像的特征，特征维度: (178, 2048)\n",
      "使用设备: cuda\n"
     ]
    },
    {
     "name": "stderr",
     "output_type": "stream",
     "text": [
      "提取特征: 100%|██████████| 5/5 [00:00<00:00,  7.45it/s]\n",
      "按类别清洗:   2%|▏         | 14/879 [00:22<16:04,  1.11s/it]"
     ]
    },
    {
     "name": "stdout",
     "output_type": "stream",
     "text": [
      "成功提取 140 个图像的特征，特征维度: (140, 2048)\n",
      "使用设备: cuda\n"
     ]
    },
    {
     "name": "stderr",
     "output_type": "stream",
     "text": [
      "提取特征: 100%|██████████| 5/5 [00:00<00:00,  6.13it/s]\n",
      "按类别清洗:   2%|▏         | 15/879 [00:23<15:46,  1.10s/it]"
     ]
    },
    {
     "name": "stdout",
     "output_type": "stream",
     "text": [
      "成功提取 158 个图像的特征，特征维度: (158, 2048)\n",
      "使用设备: cuda\n"
     ]
    },
    {
     "name": "stderr",
     "output_type": "stream",
     "text": [
      "提取特征: 100%|██████████| 6/6 [00:00<00:00,  6.73it/s]\n",
      "按类别清洗:   2%|▏         | 16/879 [00:24<15:59,  1.11s/it]"
     ]
    },
    {
     "name": "stdout",
     "output_type": "stream",
     "text": [
      "成功提取 174 个图像的特征，特征维度: (174, 2048)\n",
      "使用设备: cuda\n"
     ]
    },
    {
     "name": "stderr",
     "output_type": "stream",
     "text": [
      "提取特征: 100%|██████████| 6/6 [00:00<00:00,  6.88it/s]\n",
      "按类别清洗:   2%|▏         | 17/879 [00:25<16:08,  1.12s/it]"
     ]
    },
    {
     "name": "stdout",
     "output_type": "stream",
     "text": [
      "成功提取 176 个图像的特征，特征维度: (176, 2048)\n",
      "使用设备: cuda\n"
     ]
    },
    {
     "name": "stderr",
     "output_type": "stream",
     "text": [
      "提取特征: 100%|██████████| 6/6 [00:00<00:00,  6.81it/s]\n",
      "按类别清洗:   2%|▏         | 18/879 [00:27<16:14,  1.13s/it]"
     ]
    },
    {
     "name": "stdout",
     "output_type": "stream",
     "text": [
      "成功提取 178 个图像的特征，特征维度: (178, 2048)\n",
      "使用设备: cuda\n"
     ]
    },
    {
     "name": "stderr",
     "output_type": "stream",
     "text": [
      "提取特征: 100%|██████████| 6/6 [00:00<00:00,  6.76it/s]\n",
      "按类别清洗:   2%|▏         | 19/879 [00:28<16:18,  1.14s/it]"
     ]
    },
    {
     "name": "stdout",
     "output_type": "stream",
     "text": [
      "成功提取 176 个图像的特征，特征维度: (176, 2048)\n",
      "使用设备: cuda\n"
     ]
    },
    {
     "name": "stderr",
     "output_type": "stream",
     "text": [
      "提取特征: 100%|██████████| 6/6 [00:00<00:00,  6.95it/s]\n",
      "按类别清洗:   2%|▏         | 20/879 [00:29<16:17,  1.14s/it]"
     ]
    },
    {
     "name": "stdout",
     "output_type": "stream",
     "text": [
      "成功提取 176 个图像的特征，特征维度: (176, 2048)\n",
      "使用设备: cuda\n"
     ]
    },
    {
     "name": "stderr",
     "output_type": "stream",
     "text": [
      "提取特征: 100%|██████████| 6/6 [00:00<00:00,  6.75it/s]\n",
      "按类别清洗:   2%|▏         | 21/879 [00:30<16:22,  1.14s/it]"
     ]
    },
    {
     "name": "stdout",
     "output_type": "stream",
     "text": [
      "成功提取 176 个图像的特征，特征维度: (176, 2048)\n",
      "使用设备: cuda\n"
     ]
    },
    {
     "name": "stderr",
     "output_type": "stream",
     "text": [
      "提取特征: 100%|██████████| 6/6 [00:00<00:00,  6.72it/s]\n",
      "按类别清洗:   3%|▎         | 22/879 [00:31<16:24,  1.15s/it]"
     ]
    },
    {
     "name": "stdout",
     "output_type": "stream",
     "text": [
      "成功提取 178 个图像的特征，特征维度: (178, 2048)\n",
      "使用设备: cuda\n"
     ]
    },
    {
     "name": "stderr",
     "output_type": "stream",
     "text": [
      "提取特征: 100%|██████████| 6/6 [00:00<00:00,  6.35it/s]\n",
      "按类别清洗:   3%|▎         | 23/879 [00:32<16:41,  1.17s/it]"
     ]
    },
    {
     "name": "stdout",
     "output_type": "stream",
     "text": [
      "成功提取 176 个图像的特征，特征维度: (176, 2048)\n",
      "使用设备: cuda\n"
     ]
    },
    {
     "name": "stderr",
     "output_type": "stream",
     "text": [
      "提取特征: 100%|██████████| 6/6 [00:00<00:00,  6.42it/s]\n",
      "按类别清洗:   3%|▎         | 24/879 [00:34<16:45,  1.18s/it]"
     ]
    },
    {
     "name": "stdout",
     "output_type": "stream",
     "text": [
      "成功提取 176 个图像的特征，特征维度: (176, 2048)\n",
      "使用设备: cuda\n"
     ]
    },
    {
     "name": "stderr",
     "output_type": "stream",
     "text": [
      "提取特征: 100%|██████████| 6/6 [00:00<00:00,  6.17it/s]\n",
      "按类别清洗:   3%|▎         | 25/879 [00:35<17:00,  1.19s/it]"
     ]
    },
    {
     "name": "stdout",
     "output_type": "stream",
     "text": [
      "成功提取 177 个图像的特征，特征维度: (177, 2048)\n",
      "使用设备: cuda\n"
     ]
    },
    {
     "name": "stderr",
     "output_type": "stream",
     "text": [
      "提取特征: 100%|██████████| 5/5 [00:00<00:00,  6.25it/s]\n",
      "按类别清洗:   3%|▎         | 26/879 [00:36<16:28,  1.16s/it]"
     ]
    },
    {
     "name": "stdout",
     "output_type": "stream",
     "text": [
      "成功提取 155 个图像的特征，特征维度: (155, 2048)\n",
      "使用设备: cuda\n"
     ]
    },
    {
     "name": "stderr",
     "output_type": "stream",
     "text": [
      "提取特征: 100%|██████████| 6/6 [00:00<00:00,  6.22it/s]\n",
      "按类别清洗:   3%|▎         | 27/879 [00:37<16:44,  1.18s/it]"
     ]
    },
    {
     "name": "stdout",
     "output_type": "stream",
     "text": [
      "成功提取 175 个图像的特征，特征维度: (175, 2048)\n",
      "使用设备: cuda\n"
     ]
    },
    {
     "name": "stderr",
     "output_type": "stream",
     "text": [
      "提取特征: 100%|██████████| 6/6 [00:00<00:00,  6.27it/s]\n",
      "按类别清洗:   3%|▎         | 28/879 [00:38<16:59,  1.20s/it]"
     ]
    },
    {
     "name": "stdout",
     "output_type": "stream",
     "text": [
      "成功提取 178 个图像的特征，特征维度: (178, 2048)\n",
      "使用设备: cuda\n"
     ]
    },
    {
     "name": "stderr",
     "output_type": "stream",
     "text": [
      "提取特征: 100%|██████████| 5/5 [00:00<00:00,  5.32it/s]\n",
      "按类别清洗:   3%|▎         | 29/879 [00:40<16:58,  1.20s/it]"
     ]
    },
    {
     "name": "stdout",
     "output_type": "stream",
     "text": [
      "成功提取 159 个图像的特征，特征维度: (159, 2048)\n",
      "使用设备: cuda\n"
     ]
    },
    {
     "name": "stderr",
     "output_type": "stream",
     "text": [
      "提取特征: 100%|██████████| 6/6 [00:00<00:00,  6.08it/s]\n",
      "按类别清洗:   3%|▎         | 30/879 [00:41<17:11,  1.22s/it]"
     ]
    },
    {
     "name": "stdout",
     "output_type": "stream",
     "text": [
      "成功提取 178 个图像的特征，特征维度: (178, 2048)\n",
      "使用设备: cuda\n"
     ]
    },
    {
     "name": "stderr",
     "output_type": "stream",
     "text": [
      "提取特征: 100%|██████████| 6/6 [00:00<00:00,  6.26it/s]\n",
      "按类别清洗:   4%|▎         | 31/879 [00:42<17:15,  1.22s/it]"
     ]
    },
    {
     "name": "stdout",
     "output_type": "stream",
     "text": [
      "成功提取 174 个图像的特征，特征维度: (174, 2048)\n",
      "使用设备: cuda\n"
     ]
    },
    {
     "name": "stderr",
     "output_type": "stream",
     "text": [
      "提取特征: 100%|██████████| 5/5 [00:00<00:00,  6.64it/s]\n",
      "按类别清洗:   4%|▎         | 32/879 [00:43<16:21,  1.16s/it]"
     ]
    },
    {
     "name": "stdout",
     "output_type": "stream",
     "text": [
      "成功提取 156 个图像的特征，特征维度: (156, 2048)\n",
      "使用设备: cuda\n"
     ]
    },
    {
     "name": "stderr",
     "output_type": "stream",
     "text": [
      "提取特征: 100%|██████████| 6/6 [00:01<00:00,  5.84it/s]\n",
      "按类别清洗:   4%|▍         | 33/879 [00:44<16:45,  1.19s/it]"
     ]
    },
    {
     "name": "stdout",
     "output_type": "stream",
     "text": [
      "成功提取 177 个图像的特征，特征维度: (177, 2048)\n",
      "使用设备: cuda\n"
     ]
    },
    {
     "name": "stderr",
     "output_type": "stream",
     "text": [
      "提取特征: 100%|██████████| 6/6 [00:01<00:00,  5.49it/s]\n",
      "按类别清洗:   4%|▍         | 34/879 [00:46<17:26,  1.24s/it]"
     ]
    },
    {
     "name": "stdout",
     "output_type": "stream",
     "text": [
      "成功提取 177 个图像的特征，特征维度: (177, 2048)\n",
      "使用设备: cuda\n"
     ]
    },
    {
     "name": "stderr",
     "output_type": "stream",
     "text": [
      "提取特征: 100%|██████████| 6/6 [00:01<00:00,  5.62it/s]\n",
      "按类别清洗:   4%|▍         | 35/879 [00:47<17:54,  1.27s/it]"
     ]
    },
    {
     "name": "stdout",
     "output_type": "stream",
     "text": [
      "成功提取 178 个图像的特征，特征维度: (178, 2048)\n",
      "使用设备: cuda\n"
     ]
    },
    {
     "name": "stderr",
     "output_type": "stream",
     "text": [
      "提取特征: 100%|██████████| 5/5 [00:00<00:00,  6.44it/s]\n",
      "按类别清洗:   4%|▍         | 36/879 [00:48<16:56,  1.21s/it]"
     ]
    },
    {
     "name": "stdout",
     "output_type": "stream",
     "text": [
      "成功提取 142 个图像的特征，特征维度: (142, 2048)\n",
      "使用设备: cuda\n"
     ]
    },
    {
     "name": "stderr",
     "output_type": "stream",
     "text": [
      "提取特征: 100%|██████████| 6/6 [00:00<00:00,  6.17it/s]\n",
      "按类别清洗:   4%|▍         | 37/879 [00:49<17:03,  1.22s/it]"
     ]
    },
    {
     "name": "stdout",
     "output_type": "stream",
     "text": [
      "成功提取 176 个图像的特征，特征维度: (176, 2048)\n",
      "使用设备: cuda\n"
     ]
    },
    {
     "name": "stderr",
     "output_type": "stream",
     "text": [
      "提取特征: 100%|██████████| 6/6 [00:01<00:00,  5.75it/s]\n",
      "按类别清洗:   4%|▍         | 38/879 [00:51<17:26,  1.24s/it]"
     ]
    },
    {
     "name": "stdout",
     "output_type": "stream",
     "text": [
      "成功提取 178 个图像的特征，特征维度: (178, 2048)\n",
      "使用设备: cuda\n"
     ]
    },
    {
     "name": "stderr",
     "output_type": "stream",
     "text": [
      "提取特征: 100%|██████████| 6/6 [00:01<00:00,  5.57it/s]\n",
      "按类别清洗:   4%|▍         | 39/879 [00:52<17:49,  1.27s/it]"
     ]
    },
    {
     "name": "stdout",
     "output_type": "stream",
     "text": [
      "成功提取 178 个图像的特征，特征维度: (178, 2048)\n",
      "使用设备: cuda\n"
     ]
    },
    {
     "name": "stderr",
     "output_type": "stream",
     "text": [
      "提取特征: 100%|██████████| 4/4 [00:00<00:00,  5.55it/s]\n",
      "按类别清洗:   5%|▍         | 40/879 [00:53<16:39,  1.19s/it]"
     ]
    },
    {
     "name": "stdout",
     "output_type": "stream",
     "text": [
      "成功提取 124 个图像的特征，特征维度: (124, 2048)\n",
      "使用设备: cuda\n"
     ]
    },
    {
     "name": "stderr",
     "output_type": "stream",
     "text": [
      "提取特征: 100%|██████████| 6/6 [00:00<00:00,  6.12it/s]\n",
      "按类别清洗:   5%|▍         | 41/879 [00:54<16:50,  1.21s/it]"
     ]
    },
    {
     "name": "stdout",
     "output_type": "stream",
     "text": [
      "成功提取 173 个图像的特征，特征维度: (173, 2048)\n",
      "使用设备: cuda\n"
     ]
    },
    {
     "name": "stderr",
     "output_type": "stream",
     "text": [
      "提取特征: 100%|██████████| 6/6 [00:01<00:00,  5.96it/s]\n",
      "按类别清洗:   5%|▍         | 42/879 [00:55<17:09,  1.23s/it]"
     ]
    },
    {
     "name": "stdout",
     "output_type": "stream",
     "text": [
      "成功提取 176 个图像的特征，特征维度: (176, 2048)\n",
      "使用设备: cuda\n"
     ]
    },
    {
     "name": "stderr",
     "output_type": "stream",
     "text": [
      "提取特征: 100%|██████████| 6/6 [00:00<00:00,  6.61it/s]\n",
      "按类别清洗:   5%|▍         | 43/879 [00:57<16:52,  1.21s/it]"
     ]
    },
    {
     "name": "stdout",
     "output_type": "stream",
     "text": [
      "成功提取 178 个图像的特征，特征维度: (178, 2048)\n",
      "使用设备: cuda\n"
     ]
    },
    {
     "name": "stderr",
     "output_type": "stream",
     "text": [
      "提取特征: 100%|██████████| 5/5 [00:00<00:00,  7.58it/s]\n",
      "按类别清洗:   5%|▌         | 44/879 [00:58<15:41,  1.13s/it]"
     ]
    },
    {
     "name": "stdout",
     "output_type": "stream",
     "text": [
      "成功提取 133 个图像的特征，特征维度: (133, 2048)\n",
      "使用设备: cuda\n"
     ]
    },
    {
     "name": "stderr",
     "output_type": "stream",
     "text": [
      "提取特征: 100%|██████████| 6/6 [00:00<00:00,  6.64it/s]\n",
      "按类别清洗:   5%|▌         | 45/879 [00:59<15:43,  1.13s/it]"
     ]
    },
    {
     "name": "stdout",
     "output_type": "stream",
     "text": [
      "成功提取 177 个图像的特征，特征维度: (177, 2048)\n",
      "使用设备: cuda\n"
     ]
    },
    {
     "name": "stderr",
     "output_type": "stream",
     "text": [
      "提取特征: 100%|██████████| 6/6 [00:00<00:00,  6.42it/s]\n",
      "按类别清洗:   5%|▌         | 46/879 [01:00<15:58,  1.15s/it]"
     ]
    },
    {
     "name": "stdout",
     "output_type": "stream",
     "text": [
      "成功提取 174 个图像的特征，特征维度: (174, 2048)\n",
      "使用设备: cuda\n"
     ]
    },
    {
     "name": "stderr",
     "output_type": "stream",
     "text": [
      "提取特征: 100%|██████████| 6/6 [00:00<00:00,  7.46it/s]\n",
      "按类别清洗:   5%|▌         | 47/879 [01:01<15:38,  1.13s/it]"
     ]
    },
    {
     "name": "stdout",
     "output_type": "stream",
     "text": [
      "成功提取 165 个图像的特征，特征维度: (165, 2048)\n",
      "使用设备: cuda\n"
     ]
    },
    {
     "name": "stderr",
     "output_type": "stream",
     "text": [
      "提取特征: 100%|██████████| 6/6 [00:01<00:00,  5.97it/s]\n",
      "按类别清洗:   5%|▌         | 48/879 [01:02<16:10,  1.17s/it]"
     ]
    },
    {
     "name": "stdout",
     "output_type": "stream",
     "text": [
      "成功提取 178 个图像的特征，特征维度: (178, 2048)\n",
      "使用设备: cuda\n"
     ]
    },
    {
     "name": "stderr",
     "output_type": "stream",
     "text": [
      "提取特征: 100%|██████████| 5/5 [00:00<00:00,  7.46it/s]\n",
      "按类别清洗:   6%|▌         | 49/879 [01:03<15:10,  1.10s/it]"
     ]
    },
    {
     "name": "stdout",
     "output_type": "stream",
     "text": [
      "成功提取 142 个图像的特征，特征维度: (142, 2048)\n",
      "使用设备: cuda\n"
     ]
    },
    {
     "name": "stderr",
     "output_type": "stream",
     "text": [
      "提取特征: 100%|██████████| 6/6 [00:00<00:00,  6.35it/s]\n",
      "按类别清洗:   6%|▌         | 50/879 [01:04<15:25,  1.12s/it]"
     ]
    },
    {
     "name": "stdout",
     "output_type": "stream",
     "text": [
      "成功提取 178 个图像的特征，特征维度: (178, 2048)\n",
      "使用设备: cuda\n"
     ]
    },
    {
     "name": "stderr",
     "output_type": "stream",
     "text": [
      "提取特征: 100%|██████████| 6/6 [00:00<00:00,  6.94it/s]\n",
      "按类别清洗:   6%|▌         | 51/879 [01:05<15:28,  1.12s/it]"
     ]
    },
    {
     "name": "stdout",
     "output_type": "stream",
     "text": [
      "成功提取 161 个图像的特征，特征维度: (161, 2048)\n",
      "使用设备: cuda\n"
     ]
    },
    {
     "name": "stderr",
     "output_type": "stream",
     "text": [
      "提取特征: 100%|██████████| 6/6 [00:00<00:00,  6.41it/s]\n",
      "按类别清洗:   6%|▌         | 52/879 [01:07<15:45,  1.14s/it]"
     ]
    },
    {
     "name": "stdout",
     "output_type": "stream",
     "text": [
      "成功提取 176 个图像的特征，特征维度: (176, 2048)\n",
      "使用设备: cuda\n"
     ]
    },
    {
     "name": "stderr",
     "output_type": "stream",
     "text": [
      "提取特征: 100%|██████████| 6/6 [00:00<00:00,  6.38it/s]\n",
      "按类别清洗:   6%|▌         | 53/879 [01:08<16:01,  1.16s/it]"
     ]
    },
    {
     "name": "stdout",
     "output_type": "stream",
     "text": [
      "成功提取 173 个图像的特征，特征维度: (173, 2048)\n",
      "使用设备: cuda\n"
     ]
    },
    {
     "name": "stderr",
     "output_type": "stream",
     "text": [
      "提取特征: 100%|██████████| 6/6 [00:00<00:00,  6.87it/s]\n",
      "按类别清洗:   6%|▌         | 54/879 [01:09<16:06,  1.17s/it]"
     ]
    },
    {
     "name": "stdout",
     "output_type": "stream",
     "text": [
      "成功提取 176 个图像的特征，特征维度: (176, 2048)\n",
      "使用设备: cuda\n"
     ]
    },
    {
     "name": "stderr",
     "output_type": "stream",
     "text": [
      "提取特征: 100%|██████████| 6/6 [00:00<00:00,  6.12it/s]\n",
      "按类别清洗:   6%|▋         | 55/879 [01:10<16:25,  1.20s/it]"
     ]
    },
    {
     "name": "stdout",
     "output_type": "stream",
     "text": [
      "成功提取 178 个图像的特征，特征维度: (178, 2048)\n",
      "使用设备: cuda\n"
     ]
    },
    {
     "name": "stderr",
     "output_type": "stream",
     "text": [
      "提取特征: 100%|██████████| 5/5 [00:00<00:00,  7.29it/s]\n",
      "按类别清洗:   6%|▋         | 56/879 [01:11<15:23,  1.12s/it]"
     ]
    },
    {
     "name": "stdout",
     "output_type": "stream",
     "text": [
      "成功提取 140 个图像的特征，特征维度: (140, 2048)\n",
      "使用设备: cuda\n"
     ]
    },
    {
     "name": "stderr",
     "output_type": "stream",
     "text": [
      "提取特征: 100%|██████████| 6/6 [00:00<00:00,  6.44it/s]\n",
      "按类别清洗:   6%|▋         | 57/879 [01:12<15:31,  1.13s/it]"
     ]
    },
    {
     "name": "stdout",
     "output_type": "stream",
     "text": [
      "成功提取 176 个图像的特征，特征维度: (176, 2048)\n",
      "使用设备: cuda\n"
     ]
    },
    {
     "name": "stderr",
     "output_type": "stream",
     "text": [
      "提取特征: 100%|██████████| 6/6 [00:00<00:00,  6.35it/s]\n",
      "按类别清洗:   7%|▋         | 58/879 [01:14<15:45,  1.15s/it]"
     ]
    },
    {
     "name": "stdout",
     "output_type": "stream",
     "text": [
      "成功提取 178 个图像的特征，特征维度: (178, 2048)\n",
      "使用设备: cuda\n"
     ]
    },
    {
     "name": "stderr",
     "output_type": "stream",
     "text": [
      "提取特征: 100%|██████████| 6/6 [00:00<00:00,  6.77it/s]\n",
      "按类别清洗:   7%|▋         | 59/879 [01:15<15:43,  1.15s/it]"
     ]
    },
    {
     "name": "stdout",
     "output_type": "stream",
     "text": [
      "成功提取 171 个图像的特征，特征维度: (171, 2048)\n",
      "使用设备: cuda\n"
     ]
    },
    {
     "name": "stderr",
     "output_type": "stream",
     "text": [
      "提取特征: 100%|██████████| 5/5 [00:00<00:00,  7.18it/s]\n",
      "按类别清洗:   7%|▋         | 60/879 [01:16<14:57,  1.10s/it]"
     ]
    },
    {
     "name": "stdout",
     "output_type": "stream",
     "text": [
      "成功提取 141 个图像的特征，特征维度: (141, 2048)\n",
      "使用设备: cuda\n"
     ]
    },
    {
     "name": "stderr",
     "output_type": "stream",
     "text": [
      "提取特征: 100%|██████████| 6/6 [00:00<00:00,  6.21it/s]\n",
      "按类别清洗:   7%|▋         | 61/879 [01:17<15:18,  1.12s/it]"
     ]
    },
    {
     "name": "stdout",
     "output_type": "stream",
     "text": [
      "成功提取 176 个图像的特征，特征维度: (176, 2048)\n",
      "使用设备: cuda\n"
     ]
    },
    {
     "name": "stderr",
     "output_type": "stream",
     "text": [
      "提取特征: 100%|██████████| 6/6 [00:00<00:00,  6.25it/s]\n",
      "按类别清洗:   7%|▋         | 62/879 [01:18<15:43,  1.15s/it]"
     ]
    },
    {
     "name": "stdout",
     "output_type": "stream",
     "text": [
      "成功提取 176 个图像的特征，特征维度: (176, 2048)\n",
      "使用设备: cuda\n"
     ]
    },
    {
     "name": "stderr",
     "output_type": "stream",
     "text": [
      "提取特征: 100%|██████████| 6/6 [00:00<00:00,  6.02it/s]\n",
      "按类别清洗:   7%|▋         | 63/879 [01:19<16:08,  1.19s/it]"
     ]
    },
    {
     "name": "stdout",
     "output_type": "stream",
     "text": [
      "成功提取 178 个图像的特征，特征维度: (178, 2048)\n",
      "使用设备: cuda\n"
     ]
    },
    {
     "name": "stderr",
     "output_type": "stream",
     "text": [
      "提取特征: 100%|██████████| 6/6 [00:00<00:00,  6.04it/s]\n",
      "按类别清洗:   7%|▋         | 64/879 [01:21<16:29,  1.21s/it]"
     ]
    },
    {
     "name": "stdout",
     "output_type": "stream",
     "text": [
      "成功提取 176 个图像的特征，特征维度: (176, 2048)\n",
      "使用设备: cuda\n"
     ]
    },
    {
     "name": "stderr",
     "output_type": "stream",
     "text": [
      "提取特征: 100%|██████████| 6/6 [00:00<00:00,  6.72it/s]\n",
      "按类别清洗:   7%|▋         | 65/879 [01:22<16:15,  1.20s/it]"
     ]
    },
    {
     "name": "stdout",
     "output_type": "stream",
     "text": [
      "成功提取 177 个图像的特征，特征维度: (177, 2048)\n",
      "使用设备: cuda\n"
     ]
    },
    {
     "name": "stderr",
     "output_type": "stream",
     "text": [
      "提取特征: 100%|██████████| 6/6 [00:00<00:00,  6.60it/s]\n",
      "按类别清洗:   8%|▊         | 66/879 [01:23<16:06,  1.19s/it]"
     ]
    },
    {
     "name": "stdout",
     "output_type": "stream",
     "text": [
      "成功提取 175 个图像的特征，特征维度: (175, 2048)\n",
      "使用设备: cuda\n"
     ]
    },
    {
     "name": "stderr",
     "output_type": "stream",
     "text": [
      "提取特征: 100%|██████████| 6/6 [00:00<00:00,  6.34it/s]\n",
      "按类别清洗:   8%|▊         | 67/879 [01:24<16:12,  1.20s/it]"
     ]
    },
    {
     "name": "stdout",
     "output_type": "stream",
     "text": [
      "成功提取 176 个图像的特征，特征维度: (176, 2048)\n",
      "使用设备: cuda\n"
     ]
    },
    {
     "name": "stderr",
     "output_type": "stream",
     "text": [
      "提取特征: 100%|██████████| 6/6 [00:00<00:00,  6.96it/s]\n",
      "按类别清洗:   8%|▊         | 68/879 [01:25<15:59,  1.18s/it]"
     ]
    },
    {
     "name": "stdout",
     "output_type": "stream",
     "text": [
      "成功提取 175 个图像的特征，特征维度: (175, 2048)\n",
      "使用设备: cuda\n"
     ]
    },
    {
     "name": "stderr",
     "output_type": "stream",
     "text": [
      "提取特征: 100%|██████████| 6/6 [00:00<00:00,  6.91it/s]\n",
      "按类别清洗:   8%|▊         | 69/879 [01:27<15:46,  1.17s/it]"
     ]
    },
    {
     "name": "stdout",
     "output_type": "stream",
     "text": [
      "成功提取 176 个图像的特征，特征维度: (176, 2048)\n",
      "使用设备: cuda\n"
     ]
    },
    {
     "name": "stderr",
     "output_type": "stream",
     "text": [
      "提取特征: 100%|██████████| 6/6 [00:00<00:00,  7.20it/s]\n",
      "按类别清洗:   8%|▊         | 70/879 [01:28<15:30,  1.15s/it]"
     ]
    },
    {
     "name": "stdout",
     "output_type": "stream",
     "text": [
      "成功提取 176 个图像的特征，特征维度: (176, 2048)\n",
      "使用设备: cuda\n"
     ]
    },
    {
     "name": "stderr",
     "output_type": "stream",
     "text": [
      "提取特征: 100%|██████████| 5/5 [00:00<00:00,  5.79it/s]\n",
      "按类别清洗:   8%|▊         | 71/879 [01:29<15:25,  1.15s/it]"
     ]
    },
    {
     "name": "stdout",
     "output_type": "stream",
     "text": [
      "成功提取 159 个图像的特征，特征维度: (159, 2048)\n",
      "使用设备: cuda\n"
     ]
    },
    {
     "name": "stderr",
     "output_type": "stream",
     "text": [
      "提取特征: 100%|██████████| 5/5 [00:00<00:00,  5.57it/s]\n",
      "按类别清洗:   8%|▊         | 72/879 [01:30<15:29,  1.15s/it]"
     ]
    },
    {
     "name": "stdout",
     "output_type": "stream",
     "text": [
      "成功提取 158 个图像的特征，特征维度: (158, 2048)\n",
      "使用设备: cuda\n"
     ]
    },
    {
     "name": "stderr",
     "output_type": "stream",
     "text": [
      "提取特征: 100%|██████████| 6/6 [00:00<00:00,  6.83it/s]\n",
      "按类别清洗:   8%|▊         | 73/879 [01:31<15:25,  1.15s/it]"
     ]
    },
    {
     "name": "stdout",
     "output_type": "stream",
     "text": [
      "成功提取 174 个图像的特征，特征维度: (174, 2048)\n",
      "使用设备: cuda\n"
     ]
    },
    {
     "name": "stderr",
     "output_type": "stream",
     "text": [
      "提取特征: 100%|██████████| 5/5 [00:00<00:00,  5.63it/s]\n",
      "按类别清洗:   8%|▊         | 74/879 [01:32<15:28,  1.15s/it]"
     ]
    },
    {
     "name": "stdout",
     "output_type": "stream",
     "text": [
      "成功提取 158 个图像的特征，特征维度: (158, 2048)\n",
      "使用设备: cuda\n"
     ]
    },
    {
     "name": "stderr",
     "output_type": "stream",
     "text": [
      "提取特征: 100%|██████████| 6/6 [00:00<00:00,  6.20it/s]\n",
      "按类别清洗:   9%|▊         | 75/879 [01:33<15:50,  1.18s/it]"
     ]
    },
    {
     "name": "stdout",
     "output_type": "stream",
     "text": [
      "成功提取 178 个图像的特征，特征维度: (178, 2048)\n",
      "使用设备: cuda\n"
     ]
    },
    {
     "name": "stderr",
     "output_type": "stream",
     "text": [
      "提取特征: 100%|██████████| 6/6 [00:00<00:00,  6.59it/s]\n",
      "按类别清洗:   9%|▊         | 76/879 [01:35<15:45,  1.18s/it]"
     ]
    },
    {
     "name": "stdout",
     "output_type": "stream",
     "text": [
      "成功提取 176 个图像的特征，特征维度: (176, 2048)\n",
      "使用设备: cuda\n"
     ]
    },
    {
     "name": "stderr",
     "output_type": "stream",
     "text": [
      "提取特征: 100%|██████████| 6/6 [00:00<00:00,  6.28it/s]\n",
      "按类别清洗:   9%|▉         | 77/879 [01:36<15:54,  1.19s/it]"
     ]
    },
    {
     "name": "stdout",
     "output_type": "stream",
     "text": [
      "成功提取 174 个图像的特征，特征维度: (174, 2048)\n",
      "使用设备: cuda\n"
     ]
    },
    {
     "name": "stderr",
     "output_type": "stream",
     "text": [
      "提取特征: 100%|██████████| 6/6 [00:00<00:00,  6.52it/s]\n",
      "按类别清洗:   9%|▉         | 78/879 [01:37<15:51,  1.19s/it]"
     ]
    },
    {
     "name": "stdout",
     "output_type": "stream",
     "text": [
      "成功提取 177 个图像的特征，特征维度: (177, 2048)\n",
      "使用设备: cuda\n"
     ]
    },
    {
     "name": "stderr",
     "output_type": "stream",
     "text": [
      "提取特征: 100%|██████████| 6/6 [00:01<00:00,  5.74it/s]\n",
      "按类别清洗:   9%|▉         | 79/879 [01:38<16:17,  1.22s/it]"
     ]
    },
    {
     "name": "stdout",
     "output_type": "stream",
     "text": [
      "成功提取 176 个图像的特征，特征维度: (176, 2048)\n",
      "使用设备: cuda\n"
     ]
    },
    {
     "name": "stderr",
     "output_type": "stream",
     "text": [
      "提取特征: 100%|██████████| 6/6 [00:00<00:00,  6.99it/s]\n",
      "按类别清洗:   9%|▉         | 80/879 [01:39<15:50,  1.19s/it]"
     ]
    },
    {
     "name": "stdout",
     "output_type": "stream",
     "text": [
      "成功提取 176 个图像的特征，特征维度: (176, 2048)\n",
      "使用设备: cuda\n"
     ]
    },
    {
     "name": "stderr",
     "output_type": "stream",
     "text": [
      "提取特征: 100%|██████████| 6/6 [00:00<00:00,  6.52it/s]\n",
      "按类别清洗:   9%|▉         | 81/879 [01:41<15:47,  1.19s/it]"
     ]
    },
    {
     "name": "stdout",
     "output_type": "stream",
     "text": [
      "成功提取 176 个图像的特征，特征维度: (176, 2048)\n",
      "使用设备: cuda\n"
     ]
    },
    {
     "name": "stderr",
     "output_type": "stream",
     "text": [
      "提取特征: 100%|██████████| 6/6 [00:01<00:00,  5.83it/s]\n",
      "按类别清洗:   9%|▉         | 82/879 [01:42<16:09,  1.22s/it]"
     ]
    },
    {
     "name": "stdout",
     "output_type": "stream",
     "text": [
      "成功提取 178 个图像的特征，特征维度: (178, 2048)\n",
      "使用设备: cuda\n"
     ]
    },
    {
     "name": "stderr",
     "output_type": "stream",
     "text": [
      "提取特征: 100%|██████████| 6/6 [00:00<00:00,  6.40it/s]\n",
      "按类别清洗:   9%|▉         | 83/879 [01:43<16:02,  1.21s/it]"
     ]
    },
    {
     "name": "stdout",
     "output_type": "stream",
     "text": [
      "成功提取 178 个图像的特征，特征维度: (178, 2048)\n",
      "使用设备: cuda\n"
     ]
    },
    {
     "name": "stderr",
     "output_type": "stream",
     "text": [
      "提取特征: 100%|██████████| 6/6 [00:00<00:00,  6.69it/s]\n",
      "按类别清洗:  10%|▉         | 84/879 [01:44<15:51,  1.20s/it]"
     ]
    },
    {
     "name": "stdout",
     "output_type": "stream",
     "text": [
      "成功提取 176 个图像的特征，特征维度: (176, 2048)\n",
      "使用设备: cuda\n"
     ]
    },
    {
     "name": "stderr",
     "output_type": "stream",
     "text": [
      "提取特征: 100%|██████████| 6/6 [00:00<00:00,  6.85it/s]\n",
      "按类别清洗:  10%|▉         | 85/879 [01:45<15:36,  1.18s/it]"
     ]
    },
    {
     "name": "stdout",
     "output_type": "stream",
     "text": [
      "成功提取 175 个图像的特征，特征维度: (175, 2048)\n",
      "使用设备: cuda\n"
     ]
    },
    {
     "name": "stderr",
     "output_type": "stream",
     "text": [
      "提取特征: 100%|██████████| 6/6 [00:00<00:00,  6.63it/s]\n",
      "按类别清洗:  10%|▉         | 86/879 [01:47<15:32,  1.18s/it]"
     ]
    },
    {
     "name": "stdout",
     "output_type": "stream",
     "text": [
      "成功提取 174 个图像的特征，特征维度: (174, 2048)\n",
      "使用设备: cuda\n"
     ]
    },
    {
     "name": "stderr",
     "output_type": "stream",
     "text": [
      "提取特征: 100%|██████████| 6/6 [00:00<00:00,  6.41it/s]\n",
      "按类别清洗:  10%|▉         | 87/879 [01:48<15:36,  1.18s/it]"
     ]
    },
    {
     "name": "stdout",
     "output_type": "stream",
     "text": [
      "成功提取 174 个图像的特征，特征维度: (174, 2048)\n",
      "使用设备: cuda\n"
     ]
    },
    {
     "name": "stderr",
     "output_type": "stream",
     "text": [
      "提取特征: 100%|██████████| 6/6 [00:00<00:00,  6.02it/s]\n",
      "按类别清洗:  10%|█         | 88/879 [01:49<15:51,  1.20s/it]"
     ]
    },
    {
     "name": "stdout",
     "output_type": "stream",
     "text": [
      "成功提取 177 个图像的特征，特征维度: (177, 2048)\n",
      "使用设备: cuda\n"
     ]
    },
    {
     "name": "stderr",
     "output_type": "stream",
     "text": [
      "提取特征: 100%|██████████| 5/5 [00:00<00:00,  6.26it/s]\n",
      "按类别清洗:  10%|█         | 89/879 [01:50<15:20,  1.17s/it]"
     ]
    },
    {
     "name": "stdout",
     "output_type": "stream",
     "text": [
      "成功提取 153 个图像的特征，特征维度: (153, 2048)\n",
      "使用设备: cuda\n"
     ]
    },
    {
     "name": "stderr",
     "output_type": "stream",
     "text": [
      "提取特征: 100%|██████████| 5/5 [00:00<00:00,  6.82it/s]\n",
      "按类别清洗:  10%|█         | 90/879 [01:51<14:37,  1.11s/it]"
     ]
    },
    {
     "name": "stdout",
     "output_type": "stream",
     "text": [
      "成功提取 156 个图像的特征，特征维度: (156, 2048)\n",
      "使用设备: cuda\n"
     ]
    },
    {
     "name": "stderr",
     "output_type": "stream",
     "text": [
      "提取特征: 100%|██████████| 6/6 [00:01<00:00,  5.99it/s]\n",
      "按类别清洗:  10%|█         | 91/879 [01:52<15:05,  1.15s/it]"
     ]
    },
    {
     "name": "stdout",
     "output_type": "stream",
     "text": [
      "成功提取 178 个图像的特征，特征维度: (178, 2048)\n",
      "使用设备: cuda\n"
     ]
    },
    {
     "name": "stderr",
     "output_type": "stream",
     "text": [
      "提取特征: 100%|██████████| 6/6 [00:00<00:00,  7.21it/s]\n",
      "按类别清洗:  10%|█         | 92/879 [01:53<14:55,  1.14s/it]"
     ]
    },
    {
     "name": "stdout",
     "output_type": "stream",
     "text": [
      "成功提取 171 个图像的特征，特征维度: (171, 2048)\n",
      "使用设备: cuda\n"
     ]
    },
    {
     "name": "stderr",
     "output_type": "stream",
     "text": [
      "提取特征: 100%|██████████| 6/6 [00:01<00:00,  5.95it/s]\n",
      "按类别清洗:  11%|█         | 93/879 [01:55<15:22,  1.17s/it]"
     ]
    },
    {
     "name": "stdout",
     "output_type": "stream",
     "text": [
      "成功提取 178 个图像的特征，特征维度: (178, 2048)\n",
      "使用设备: cuda\n"
     ]
    },
    {
     "name": "stderr",
     "output_type": "stream",
     "text": [
      "提取特征: 100%|██████████| 6/6 [00:01<00:00,  5.79it/s]\n",
      "按类别清洗:  11%|█         | 94/879 [01:56<15:54,  1.22s/it]"
     ]
    },
    {
     "name": "stdout",
     "output_type": "stream",
     "text": [
      "成功提取 178 个图像的特征，特征维度: (178, 2048)\n",
      "使用设备: cuda\n"
     ]
    },
    {
     "name": "stderr",
     "output_type": "stream",
     "text": [
      "提取特征: 100%|██████████| 6/6 [00:00<00:00,  6.52it/s]\n",
      "按类别清洗:  11%|█         | 95/879 [01:57<15:46,  1.21s/it]"
     ]
    },
    {
     "name": "stdout",
     "output_type": "stream",
     "text": [
      "成功提取 161 个图像的特征，特征维度: (161, 2048)\n",
      "使用设备: cuda\n"
     ]
    },
    {
     "name": "stderr",
     "output_type": "stream",
     "text": [
      "提取特征: 100%|██████████| 6/6 [00:00<00:00,  6.37it/s]\n",
      "按类别清洗:  11%|█         | 96/879 [01:59<16:09,  1.24s/it]"
     ]
    },
    {
     "name": "stdout",
     "output_type": "stream",
     "text": [
      "成功提取 179 个图像的特征，特征维度: (179, 2048)\n",
      "使用设备: cuda\n"
     ]
    },
    {
     "name": "stderr",
     "output_type": "stream",
     "text": [
      "提取特征: 100%|██████████| 5/5 [00:00<00:00,  6.09it/s]\n",
      "按类别清洗:  11%|█         | 97/879 [02:00<15:33,  1.19s/it]"
     ]
    },
    {
     "name": "stdout",
     "output_type": "stream",
     "text": [
      "成功提取 143 个图像的特征，特征维度: (143, 2048)\n",
      "使用设备: cuda\n"
     ]
    },
    {
     "name": "stderr",
     "output_type": "stream",
     "text": [
      "提取特征: 100%|██████████| 6/6 [00:01<00:00,  5.90it/s]\n",
      "按类别清洗:  11%|█         | 98/879 [02:01<15:53,  1.22s/it]"
     ]
    },
    {
     "name": "stdout",
     "output_type": "stream",
     "text": [
      "成功提取 176 个图像的特征，特征维度: (176, 2048)\n",
      "使用设备: cuda\n"
     ]
    },
    {
     "name": "stderr",
     "output_type": "stream",
     "text": [
      "提取特征: 100%|██████████| 5/5 [00:00<00:00,  6.62it/s]\n",
      "按类别清洗:  11%|█▏        | 99/879 [02:02<15:04,  1.16s/it]"
     ]
    },
    {
     "name": "stdout",
     "output_type": "stream",
     "text": [
      "成功提取 155 个图像的特征，特征维度: (155, 2048)\n",
      "使用设备: cuda\n"
     ]
    },
    {
     "name": "stderr",
     "output_type": "stream",
     "text": [
      "提取特征: 100%|██████████| 6/6 [00:00<00:00,  6.51it/s]\n",
      "按类别清洗:  11%|█▏        | 100/879 [02:03<15:00,  1.16s/it]"
     ]
    },
    {
     "name": "stdout",
     "output_type": "stream",
     "text": [
      "成功提取 161 个图像的特征，特征维度: (161, 2048)\n",
      "使用设备: cuda\n"
     ]
    },
    {
     "name": "stderr",
     "output_type": "stream",
     "text": [
      "提取特征: 100%|██████████| 4/4 [00:00<00:00,  6.43it/s]\n",
      "按类别清洗:  11%|█▏        | 101/879 [02:04<13:54,  1.07s/it]"
     ]
    },
    {
     "name": "stdout",
     "output_type": "stream",
     "text": [
      "成功提取 122 个图像的特征，特征维度: (122, 2048)\n",
      "使用设备: cuda\n"
     ]
    },
    {
     "name": "stderr",
     "output_type": "stream",
     "text": [
      "提取特征: 100%|██████████| 5/5 [00:01<00:00,  4.57it/s]\n",
      "按类别清洗:  12%|█▏        | 102/879 [02:05<14:53,  1.15s/it]"
     ]
    },
    {
     "name": "stdout",
     "output_type": "stream",
     "text": [
      "成功提取 156 个图像的特征，特征维度: (156, 2048)\n",
      "使用设备: cuda\n"
     ]
    },
    {
     "name": "stderr",
     "output_type": "stream",
     "text": [
      "提取特征: 100%|██████████| 6/6 [00:01<00:00,  5.78it/s]\n",
      "按类别清洗:  12%|█▏        | 103/879 [02:07<15:30,  1.20s/it]"
     ]
    },
    {
     "name": "stdout",
     "output_type": "stream",
     "text": [
      "成功提取 176 个图像的特征，特征维度: (176, 2048)\n",
      "使用设备: cuda\n"
     ]
    },
    {
     "name": "stderr",
     "output_type": "stream",
     "text": [
      "提取特征: 100%|██████████| 6/6 [00:01<00:00,  5.75it/s]\n",
      "按类别清洗:  12%|█▏        | 104/879 [02:08<15:56,  1.23s/it]"
     ]
    },
    {
     "name": "stdout",
     "output_type": "stream",
     "text": [
      "成功提取 173 个图像的特征，特征维度: (173, 2048)\n",
      "使用设备: cuda\n"
     ]
    },
    {
     "name": "stderr",
     "output_type": "stream",
     "text": [
      "提取特征: 100%|██████████| 6/6 [00:00<00:00,  6.08it/s]\n",
      "按类别清洗:  12%|█▏        | 105/879 [02:09<16:01,  1.24s/it]"
     ]
    },
    {
     "name": "stdout",
     "output_type": "stream",
     "text": [
      "成功提取 176 个图像的特征，特征维度: (176, 2048)\n",
      "使用设备: cuda\n"
     ]
    },
    {
     "name": "stderr",
     "output_type": "stream",
     "text": [
      "提取特征: 100%|██████████| 6/6 [00:00<00:00,  6.81it/s]\n",
      "按类别清洗:  12%|█▏        | 106/879 [02:10<15:40,  1.22s/it]"
     ]
    },
    {
     "name": "stdout",
     "output_type": "stream",
     "text": [
      "成功提取 175 个图像的特征，特征维度: (175, 2048)\n",
      "使用设备: cuda\n"
     ]
    },
    {
     "name": "stderr",
     "output_type": "stream",
     "text": [
      "提取特征: 100%|██████████| 5/5 [00:00<00:00,  5.17it/s]\n",
      "按类别清洗:  12%|█▏        | 107/879 [02:12<15:41,  1.22s/it]"
     ]
    },
    {
     "name": "stdout",
     "output_type": "stream",
     "text": [
      "成功提取 160 个图像的特征，特征维度: (160, 2048)\n",
      "使用设备: cuda\n"
     ]
    },
    {
     "name": "stderr",
     "output_type": "stream",
     "text": [
      "提取特征: 100%|██████████| 6/6 [00:00<00:00,  6.19it/s]\n",
      "按类别清洗:  12%|█▏        | 108/879 [02:13<15:44,  1.23s/it]"
     ]
    },
    {
     "name": "stdout",
     "output_type": "stream",
     "text": [
      "成功提取 176 个图像的特征，特征维度: (176, 2048)\n",
      "使用设备: cuda\n"
     ]
    },
    {
     "name": "stderr",
     "output_type": "stream",
     "text": [
      "提取特征: 100%|██████████| 4/4 [00:00<00:00,  6.18it/s]\n",
      "按类别清洗:  12%|█▏        | 109/879 [02:14<14:31,  1.13s/it]"
     ]
    },
    {
     "name": "stdout",
     "output_type": "stream",
     "text": [
      "成功提取 121 个图像的特征，特征维度: (121, 2048)\n",
      "使用设备: cuda\n"
     ]
    },
    {
     "name": "stderr",
     "output_type": "stream",
     "text": [
      "提取特征: 100%|██████████| 5/5 [00:00<00:00,  6.63it/s]\n",
      "按类别清洗:  13%|█▎        | 110/879 [02:15<13:56,  1.09s/it]"
     ]
    },
    {
     "name": "stdout",
     "output_type": "stream",
     "text": [
      "成功提取 139 个图像的特征，特征维度: (139, 2048)\n",
      "使用设备: cuda\n"
     ]
    },
    {
     "name": "stderr",
     "output_type": "stream",
     "text": [
      "提取特征: 100%|██████████| 6/6 [00:01<00:00,  5.59it/s]\n",
      "按类别清洗:  13%|█▎        | 111/879 [02:16<14:46,  1.15s/it]"
     ]
    },
    {
     "name": "stdout",
     "output_type": "stream",
     "text": [
      "成功提取 175 个图像的特征，特征维度: (175, 2048)\n",
      "使用设备: cuda\n"
     ]
    },
    {
     "name": "stderr",
     "output_type": "stream",
     "text": [
      "提取特征: 100%|██████████| 6/6 [00:01<00:00,  5.55it/s]\n",
      "按类别清洗:  13%|█▎        | 112/879 [02:17<15:30,  1.21s/it]"
     ]
    },
    {
     "name": "stdout",
     "output_type": "stream",
     "text": [
      "成功提取 178 个图像的特征，特征维度: (178, 2048)\n",
      "使用设备: cuda\n"
     ]
    },
    {
     "name": "stderr",
     "output_type": "stream",
     "text": [
      "提取特征: 100%|██████████| 5/5 [00:00<00:00,  5.92it/s]\n",
      "按类别清洗:  13%|█▎        | 113/879 [02:18<15:06,  1.18s/it]"
     ]
    },
    {
     "name": "stdout",
     "output_type": "stream",
     "text": [
      "成功提取 158 个图像的特征，特征维度: (158, 2048)\n",
      "使用设备: cuda\n"
     ]
    },
    {
     "name": "stderr",
     "output_type": "stream",
     "text": [
      "提取特征: 100%|██████████| 6/6 [00:01<00:00,  5.58it/s]\n",
      "按类别清洗:  13%|█▎        | 114/879 [02:20<15:48,  1.24s/it]"
     ]
    },
    {
     "name": "stdout",
     "output_type": "stream",
     "text": [
      "成功提取 178 个图像的特征，特征维度: (178, 2048)\n",
      "使用设备: cuda\n"
     ]
    },
    {
     "name": "stderr",
     "output_type": "stream",
     "text": [
      "提取特征: 100%|██████████| 6/6 [00:01<00:00,  5.49it/s]\n",
      "按类别清洗:  13%|█▎        | 115/879 [02:21<16:18,  1.28s/it]"
     ]
    },
    {
     "name": "stdout",
     "output_type": "stream",
     "text": [
      "成功提取 178 个图像的特征，特征维度: (178, 2048)\n",
      "使用设备: cuda\n"
     ]
    },
    {
     "name": "stderr",
     "output_type": "stream",
     "text": [
      "提取特征: 100%|██████████| 6/6 [00:00<00:00,  6.41it/s]\n",
      "按类别清洗:  13%|█▎        | 116/879 [02:22<15:59,  1.26s/it]"
     ]
    },
    {
     "name": "stdout",
     "output_type": "stream",
     "text": [
      "成功提取 178 个图像的特征，特征维度: (178, 2048)\n",
      "使用设备: cuda\n"
     ]
    },
    {
     "name": "stderr",
     "output_type": "stream",
     "text": [
      "提取特征: 100%|██████████| 6/6 [00:01<00:00,  5.76it/s]\n",
      "按类别清洗:  13%|█▎        | 117/879 [02:24<16:08,  1.27s/it]"
     ]
    },
    {
     "name": "stdout",
     "output_type": "stream",
     "text": [
      "成功提取 177 个图像的特征，特征维度: (177, 2048)\n",
      "使用设备: cuda\n"
     ]
    },
    {
     "name": "stderr",
     "output_type": "stream",
     "text": [
      "提取特征: 100%|██████████| 6/6 [00:00<00:00,  6.28it/s]\n",
      "按类别清洗:  13%|█▎        | 118/879 [02:25<15:57,  1.26s/it]"
     ]
    },
    {
     "name": "stdout",
     "output_type": "stream",
     "text": [
      "成功提取 175 个图像的特征，特征维度: (175, 2048)\n",
      "使用设备: cuda\n"
     ]
    },
    {
     "name": "stderr",
     "output_type": "stream",
     "text": [
      "提取特征: 100%|██████████| 5/5 [00:00<00:00,  6.19it/s]\n",
      "按类别清洗:  14%|█▎        | 119/879 [02:26<15:16,  1.21s/it]"
     ]
    },
    {
     "name": "stdout",
     "output_type": "stream",
     "text": [
      "成功提取 140 个图像的特征，特征维度: (140, 2048)\n",
      "使用设备: cuda\n"
     ]
    },
    {
     "name": "stderr",
     "output_type": "stream",
     "text": [
      "提取特征: 100%|██████████| 6/6 [00:01<00:00,  5.72it/s]\n",
      "按类别清洗:  14%|█▎        | 120/879 [02:27<15:41,  1.24s/it]"
     ]
    },
    {
     "name": "stdout",
     "output_type": "stream",
     "text": [
      "成功提取 178 个图像的特征，特征维度: (178, 2048)\n",
      "使用设备: cuda\n"
     ]
    },
    {
     "name": "stderr",
     "output_type": "stream",
     "text": [
      "提取特征: 100%|██████████| 6/6 [00:00<00:00,  6.08it/s]\n",
      "按类别清洗:  14%|█▍        | 121/879 [02:29<15:46,  1.25s/it]"
     ]
    },
    {
     "name": "stdout",
     "output_type": "stream",
     "text": [
      "成功提取 178 个图像的特征，特征维度: (178, 2048)\n",
      "使用设备: cuda\n"
     ]
    },
    {
     "name": "stderr",
     "output_type": "stream",
     "text": [
      "提取特征: 100%|██████████| 5/5 [00:00<00:00,  5.59it/s]\n",
      "按类别清洗:  14%|█▍        | 122/879 [02:30<15:23,  1.22s/it]"
     ]
    },
    {
     "name": "stdout",
     "output_type": "stream",
     "text": [
      "成功提取 158 个图像的特征，特征维度: (158, 2048)\n",
      "使用设备: cuda\n"
     ]
    },
    {
     "name": "stderr",
     "output_type": "stream",
     "text": [
      "提取特征: 100%|██████████| 6/6 [00:01<00:00,  5.77it/s]\n",
      "按类别清洗:  14%|█▍        | 123/879 [02:31<15:39,  1.24s/it]"
     ]
    },
    {
     "name": "stdout",
     "output_type": "stream",
     "text": [
      "成功提取 178 个图像的特征，特征维度: (178, 2048)\n",
      "使用设备: cuda\n"
     ]
    },
    {
     "name": "stderr",
     "output_type": "stream",
     "text": [
      "提取特征: 100%|██████████| 6/6 [00:00<00:00,  6.53it/s]\n",
      "按类别清洗:  14%|█▍        | 124/879 [02:32<15:26,  1.23s/it]"
     ]
    },
    {
     "name": "stdout",
     "output_type": "stream",
     "text": [
      "成功提取 177 个图像的特征，特征维度: (177, 2048)\n",
      "使用设备: cuda\n"
     ]
    },
    {
     "name": "stderr",
     "output_type": "stream",
     "text": [
      "提取特征: 100%|██████████| 3/3 [00:00<00:00,  7.65it/s]\n",
      "按类别清洗:  14%|█▍        | 125/879 [02:33<13:13,  1.05s/it]"
     ]
    },
    {
     "name": "stdout",
     "output_type": "stream",
     "text": [
      "成功提取 74 个图像的特征，特征维度: (74, 2048)\n",
      "使用设备: cuda\n"
     ]
    },
    {
     "name": "stderr",
     "output_type": "stream",
     "text": [
      "提取特征: 100%|██████████| 6/6 [00:00<00:00,  6.35it/s]\n",
      "按类别清洗:  14%|█▍        | 126/879 [02:34<13:38,  1.09s/it]"
     ]
    },
    {
     "name": "stdout",
     "output_type": "stream",
     "text": [
      "成功提取 177 个图像的特征，特征维度: (177, 2048)\n",
      "使用设备: cuda\n"
     ]
    },
    {
     "name": "stderr",
     "output_type": "stream",
     "text": [
      "提取特征: 100%|██████████| 6/6 [00:00<00:00,  6.84it/s]\n",
      "按类别清洗:  14%|█▍        | 127/879 [02:35<13:54,  1.11s/it]"
     ]
    },
    {
     "name": "stdout",
     "output_type": "stream",
     "text": [
      "成功提取 175 个图像的特征，特征维度: (175, 2048)\n",
      "使用设备: cuda\n"
     ]
    },
    {
     "name": "stderr",
     "output_type": "stream",
     "text": [
      "提取特征: 100%|██████████| 5/5 [00:00<00:00,  5.14it/s]\n",
      "按类别清洗:  15%|█▍        | 128/879 [02:37<14:27,  1.16s/it]"
     ]
    },
    {
     "name": "stdout",
     "output_type": "stream",
     "text": [
      "成功提取 156 个图像的特征，特征维度: (156, 2048)\n",
      "使用设备: cuda\n"
     ]
    },
    {
     "name": "stderr",
     "output_type": "stream",
     "text": [
      "提取特征: 100%|██████████| 6/6 [00:01<00:00,  5.77it/s]\n",
      "按类别清洗:  15%|█▍        | 129/879 [02:38<14:59,  1.20s/it]"
     ]
    },
    {
     "name": "stdout",
     "output_type": "stream",
     "text": [
      "成功提取 175 个图像的特征，特征维度: (175, 2048)\n",
      "使用设备: cuda\n"
     ]
    },
    {
     "name": "stderr",
     "output_type": "stream",
     "text": [
      "提取特征: 100%|██████████| 6/6 [00:00<00:00,  6.76it/s]\n",
      "按类别清洗:  15%|█▍        | 130/879 [02:39<14:47,  1.19s/it]"
     ]
    },
    {
     "name": "stdout",
     "output_type": "stream",
     "text": [
      "成功提取 174 个图像的特征，特征维度: (174, 2048)\n",
      "使用设备: cuda\n"
     ]
    },
    {
     "name": "stderr",
     "output_type": "stream",
     "text": [
      "提取特征: 100%|██████████| 5/5 [00:00<00:00,  6.05it/s]\n",
      "按类别清洗:  15%|█▍        | 131/879 [02:40<14:24,  1.16s/it]"
     ]
    },
    {
     "name": "stdout",
     "output_type": "stream",
     "text": [
      "成功提取 159 个图像的特征，特征维度: (159, 2048)\n",
      "使用设备: cuda\n"
     ]
    },
    {
     "name": "stderr",
     "output_type": "stream",
     "text": [
      "提取特征: 100%|██████████| 6/6 [00:01<00:00,  5.52it/s]\n",
      "按类别清洗:  15%|█▌        | 132/879 [02:41<15:08,  1.22s/it]"
     ]
    },
    {
     "name": "stdout",
     "output_type": "stream",
     "text": [
      "成功提取 179 个图像的特征，特征维度: (179, 2048)\n",
      "使用设备: cuda\n"
     ]
    },
    {
     "name": "stderr",
     "output_type": "stream",
     "text": [
      "提取特征: 100%|██████████| 5/5 [00:00<00:00,  5.81it/s]\n",
      "按类别清洗:  15%|█▌        | 133/879 [02:43<14:44,  1.19s/it]"
     ]
    },
    {
     "name": "stdout",
     "output_type": "stream",
     "text": [
      "成功提取 158 个图像的特征，特征维度: (158, 2048)\n",
      "使用设备: cuda\n"
     ]
    },
    {
     "name": "stderr",
     "output_type": "stream",
     "text": [
      "提取特征: 100%|██████████| 6/6 [00:01<00:00,  5.91it/s]\n",
      "按类别清洗:  15%|█▌        | 134/879 [02:44<15:04,  1.21s/it]"
     ]
    },
    {
     "name": "stdout",
     "output_type": "stream",
     "text": [
      "成功提取 176 个图像的特征，特征维度: (176, 2048)\n",
      "使用设备: cuda\n"
     ]
    },
    {
     "name": "stderr",
     "output_type": "stream",
     "text": [
      "提取特征: 100%|██████████| 5/5 [00:00<00:00,  6.59it/s]\n",
      "按类别清洗:  15%|█▌        | 135/879 [02:45<14:29,  1.17s/it]"
     ]
    },
    {
     "name": "stdout",
     "output_type": "stream",
     "text": [
      "成功提取 143 个图像的特征，特征维度: (143, 2048)\n",
      "使用设备: cuda\n"
     ]
    },
    {
     "name": "stderr",
     "output_type": "stream",
     "text": [
      "提取特征: 100%|██████████| 5/5 [00:00<00:00,  5.20it/s]\n",
      "按类别清洗:  15%|█▌        | 136/879 [02:46<14:41,  1.19s/it]"
     ]
    },
    {
     "name": "stdout",
     "output_type": "stream",
     "text": [
      "成功提取 160 个图像的特征，特征维度: (160, 2048)\n",
      "使用设备: cuda\n"
     ]
    },
    {
     "name": "stderr",
     "output_type": "stream",
     "text": [
      "提取特征: 100%|██████████| 5/5 [00:00<00:00,  5.85it/s]\n",
      "按类别清洗:  16%|█▌        | 137/879 [02:47<14:26,  1.17s/it]"
     ]
    },
    {
     "name": "stdout",
     "output_type": "stream",
     "text": [
      "成功提取 158 个图像的特征，特征维度: (158, 2048)\n",
      "使用设备: cuda\n"
     ]
    },
    {
     "name": "stderr",
     "output_type": "stream",
     "text": [
      "提取特征: 100%|██████████| 6/6 [00:00<00:00,  6.09it/s]\n",
      "按类别清洗:  16%|█▌        | 138/879 [02:48<14:40,  1.19s/it]"
     ]
    },
    {
     "name": "stdout",
     "output_type": "stream",
     "text": [
      "成功提取 177 个图像的特征，特征维度: (177, 2048)\n",
      "使用设备: cuda\n"
     ]
    },
    {
     "name": "stderr",
     "output_type": "stream",
     "text": [
      "提取特征: 100%|██████████| 5/5 [00:00<00:00,  5.97it/s]\n",
      "按类别清洗:  16%|█▌        | 139/879 [02:50<14:19,  1.16s/it]"
     ]
    },
    {
     "name": "stdout",
     "output_type": "stream",
     "text": [
      "成功提取 158 个图像的特征，特征维度: (158, 2048)\n",
      "使用设备: cuda\n"
     ]
    },
    {
     "name": "stderr",
     "output_type": "stream",
     "text": [
      "提取特征: 100%|██████████| 6/6 [00:00<00:00,  6.39it/s]\n",
      "按类别清洗:  16%|█▌        | 140/879 [02:51<14:25,  1.17s/it]"
     ]
    },
    {
     "name": "stdout",
     "output_type": "stream",
     "text": [
      "成功提取 176 个图像的特征，特征维度: (176, 2048)\n",
      "使用设备: cuda\n"
     ]
    },
    {
     "name": "stderr",
     "output_type": "stream",
     "text": [
      "提取特征: 100%|██████████| 6/6 [00:00<00:00,  6.43it/s]\n",
      "按类别清洗:  16%|█▌        | 141/879 [02:52<14:30,  1.18s/it]"
     ]
    },
    {
     "name": "stdout",
     "output_type": "stream",
     "text": [
      "成功提取 176 个图像的特征，特征维度: (176, 2048)\n",
      "使用设备: cuda\n"
     ]
    },
    {
     "name": "stderr",
     "output_type": "stream",
     "text": [
      "提取特征: 100%|██████████| 5/5 [00:00<00:00,  5.79it/s]\n",
      "按类别清洗:  16%|█▌        | 142/879 [02:53<14:21,  1.17s/it]"
     ]
    },
    {
     "name": "stdout",
     "output_type": "stream",
     "text": [
      "成功提取 159 个图像的特征，特征维度: (159, 2048)\n",
      "使用设备: cuda\n"
     ]
    },
    {
     "name": "stderr",
     "output_type": "stream",
     "text": [
      "提取特征: 100%|██████████| 5/5 [00:00<00:00,  7.18it/s]\n",
      "按类别清洗:  16%|█▋        | 143/879 [02:54<13:32,  1.10s/it]"
     ]
    },
    {
     "name": "stdout",
     "output_type": "stream",
     "text": [
      "成功提取 141 个图像的特征，特征维度: (141, 2048)\n",
      "使用设备: cuda\n"
     ]
    },
    {
     "name": "stderr",
     "output_type": "stream",
     "text": [
      "提取特征: 100%|██████████| 6/6 [00:01<00:00,  5.71it/s]\n",
      "按类别清洗:  16%|█▋        | 144/879 [02:55<14:09,  1.16s/it]"
     ]
    },
    {
     "name": "stdout",
     "output_type": "stream",
     "text": [
      "成功提取 178 个图像的特征，特征维度: (178, 2048)\n",
      "使用设备: cuda\n"
     ]
    },
    {
     "name": "stderr",
     "output_type": "stream",
     "text": [
      "提取特征: 100%|██████████| 6/6 [00:00<00:00,  6.33it/s]\n",
      "按类别清洗:  16%|█▋        | 145/879 [02:57<14:26,  1.18s/it]"
     ]
    },
    {
     "name": "stdout",
     "output_type": "stream",
     "text": [
      "成功提取 176 个图像的特征，特征维度: (176, 2048)\n",
      "使用设备: cuda\n"
     ]
    },
    {
     "name": "stderr",
     "output_type": "stream",
     "text": [
      "提取特征: 100%|██████████| 6/6 [00:00<00:00,  6.80it/s]\n",
      "按类别清洗:  17%|█▋        | 146/879 [02:58<14:18,  1.17s/it]"
     ]
    },
    {
     "name": "stdout",
     "output_type": "stream",
     "text": [
      "成功提取 175 个图像的特征，特征维度: (175, 2048)\n",
      "使用设备: cuda\n"
     ]
    },
    {
     "name": "stderr",
     "output_type": "stream",
     "text": [
      "提取特征: 100%|██████████| 6/6 [00:01<00:00,  5.99it/s]\n",
      "按类别清洗:  17%|█▋        | 147/879 [02:59<14:40,  1.20s/it]"
     ]
    },
    {
     "name": "stdout",
     "output_type": "stream",
     "text": [
      "成功提取 177 个图像的特征，特征维度: (177, 2048)\n",
      "使用设备: cuda\n"
     ]
    },
    {
     "name": "stderr",
     "output_type": "stream",
     "text": [
      "提取特征: 100%|██████████| 6/6 [00:00<00:00,  6.50it/s]\n",
      "按类别清洗:  17%|█▋        | 148/879 [03:00<14:37,  1.20s/it]"
     ]
    },
    {
     "name": "stdout",
     "output_type": "stream",
     "text": [
      "成功提取 175 个图像的特征，特征维度: (175, 2048)\n",
      "使用设备: cuda\n"
     ]
    },
    {
     "name": "stderr",
     "output_type": "stream",
     "text": [
      "提取特征: 100%|██████████| 6/6 [00:00<00:00,  6.72it/s]\n",
      "按类别清洗:  17%|█▋        | 149/879 [03:01<14:29,  1.19s/it]"
     ]
    },
    {
     "name": "stdout",
     "output_type": "stream",
     "text": [
      "成功提取 162 个图像的特征，特征维度: (162, 2048)\n",
      "使用设备: cuda\n"
     ]
    },
    {
     "name": "stderr",
     "output_type": "stream",
     "text": [
      "提取特征: 100%|██████████| 5/5 [00:00<00:00,  6.66it/s]\n",
      "按类别清洗:  17%|█▋        | 150/879 [03:02<13:52,  1.14s/it]"
     ]
    },
    {
     "name": "stdout",
     "output_type": "stream",
     "text": [
      "成功提取 142 个图像的特征，特征维度: (142, 2048)\n",
      "使用设备: cuda\n"
     ]
    },
    {
     "name": "stderr",
     "output_type": "stream",
     "text": [
      "提取特征: 100%|██████████| 6/6 [00:01<00:00,  5.86it/s]\n",
      "按类别清洗:  17%|█▋        | 151/879 [03:04<14:15,  1.18s/it]"
     ]
    },
    {
     "name": "stdout",
     "output_type": "stream",
     "text": [
      "成功提取 176 个图像的特征，特征维度: (176, 2048)\n",
      "使用设备: cuda\n"
     ]
    },
    {
     "name": "stderr",
     "output_type": "stream",
     "text": [
      "提取特征: 100%|██████████| 6/6 [00:00<00:00,  6.50it/s]\n",
      "按类别清洗:  17%|█▋        | 152/879 [03:05<14:16,  1.18s/it]"
     ]
    },
    {
     "name": "stdout",
     "output_type": "stream",
     "text": [
      "成功提取 175 个图像的特征，特征维度: (175, 2048)\n",
      "使用设备: cuda\n"
     ]
    },
    {
     "name": "stderr",
     "output_type": "stream",
     "text": [
      "提取特征: 100%|██████████| 5/5 [00:00<00:00,  6.33it/s]\n",
      "按类别清洗:  17%|█▋        | 153/879 [03:06<13:50,  1.14s/it]"
     ]
    },
    {
     "name": "stdout",
     "output_type": "stream",
     "text": [
      "成功提取 140 个图像的特征，特征维度: (140, 2048)\n",
      "使用设备: cuda\n"
     ]
    },
    {
     "name": "stderr",
     "output_type": "stream",
     "text": [
      "提取特征: 100%|██████████| 5/5 [00:00<00:00,  5.98it/s]\n",
      "按类别清洗:  18%|█▊        | 154/879 [03:07<13:43,  1.14s/it]"
     ]
    },
    {
     "name": "stdout",
     "output_type": "stream",
     "text": [
      "成功提取 156 个图像的特征，特征维度: (156, 2048)\n",
      "使用设备: cuda\n"
     ]
    },
    {
     "name": "stderr",
     "output_type": "stream",
     "text": [
      "提取特征: 100%|██████████| 6/6 [00:00<00:00,  7.22it/s]\n",
      "按类别清洗:  18%|█▊        | 155/879 [03:08<13:33,  1.12s/it]"
     ]
    },
    {
     "name": "stdout",
     "output_type": "stream",
     "text": [
      "成功提取 171 个图像的特征，特征维度: (171, 2048)\n",
      "使用设备: cuda\n"
     ]
    },
    {
     "name": "stderr",
     "output_type": "stream",
     "text": [
      "提取特征: 100%|██████████| 6/6 [00:00<00:00,  6.26it/s]\n",
      "按类别清洗:  18%|█▊        | 156/879 [03:09<13:55,  1.16s/it]"
     ]
    },
    {
     "name": "stdout",
     "output_type": "stream",
     "text": [
      "成功提取 177 个图像的特征，特征维度: (177, 2048)\n",
      "使用设备: cuda\n"
     ]
    },
    {
     "name": "stderr",
     "output_type": "stream",
     "text": [
      "提取特征: 100%|██████████| 6/6 [00:00<00:00,  6.32it/s]\n",
      "按类别清洗:  18%|█▊        | 157/879 [03:11<14:10,  1.18s/it]"
     ]
    },
    {
     "name": "stdout",
     "output_type": "stream",
     "text": [
      "成功提取 178 个图像的特征，特征维度: (178, 2048)\n",
      "使用设备: cuda\n"
     ]
    },
    {
     "name": "stderr",
     "output_type": "stream",
     "text": [
      "提取特征: 100%|██████████| 5/5 [00:00<00:00,  5.67it/s]\n",
      "按类别清洗:  18%|█▊        | 158/879 [03:12<14:01,  1.17s/it]"
     ]
    },
    {
     "name": "stdout",
     "output_type": "stream",
     "text": [
      "成功提取 158 个图像的特征，特征维度: (158, 2048)\n",
      "使用设备: cuda\n"
     ]
    },
    {
     "name": "stderr",
     "output_type": "stream",
     "text": [
      "提取特征: 100%|██████████| 5/5 [00:00<00:00,  5.56it/s]\n",
      "按类别清洗:  18%|█▊        | 159/879 [03:13<13:58,  1.16s/it]"
     ]
    },
    {
     "name": "stdout",
     "output_type": "stream",
     "text": [
      "成功提取 159 个图像的特征，特征维度: (159, 2048)\n",
      "使用设备: cuda\n"
     ]
    },
    {
     "name": "stderr",
     "output_type": "stream",
     "text": [
      "提取特征: 100%|██████████| 5/5 [00:00<00:00,  6.16it/s]\n",
      "按类别清洗:  18%|█▊        | 160/879 [03:14<13:42,  1.14s/it]"
     ]
    },
    {
     "name": "stdout",
     "output_type": "stream",
     "text": [
      "成功提取 150 个图像的特征，特征维度: (150, 2048)\n",
      "使用设备: cuda\n"
     ]
    },
    {
     "name": "stderr",
     "output_type": "stream",
     "text": [
      "提取特征: 100%|██████████| 5/5 [00:00<00:00,  5.96it/s]\n",
      "按类别清洗:  18%|█▊        | 161/879 [03:15<13:34,  1.13s/it]"
     ]
    },
    {
     "name": "stdout",
     "output_type": "stream",
     "text": [
      "成功提取 156 个图像的特征，特征维度: (156, 2048)\n",
      "使用设备: cuda\n"
     ]
    },
    {
     "name": "stderr",
     "output_type": "stream",
     "text": [
      "提取特征: 100%|██████████| 6/6 [00:00<00:00,  6.34it/s]\n",
      "按类别清洗:  18%|█▊        | 162/879 [03:16<13:54,  1.16s/it]"
     ]
    },
    {
     "name": "stdout",
     "output_type": "stream",
     "text": [
      "成功提取 176 个图像的特征，特征维度: (176, 2048)\n",
      "使用设备: cuda\n"
     ]
    },
    {
     "name": "stderr",
     "output_type": "stream",
     "text": [
      "提取特征: 100%|██████████| 6/6 [00:00<00:00,  6.11it/s]\n",
      "按类别清洗:  19%|█▊        | 163/879 [03:18<14:15,  1.19s/it]"
     ]
    },
    {
     "name": "stdout",
     "output_type": "stream",
     "text": [
      "成功提取 178 个图像的特征，特征维度: (178, 2048)\n",
      "使用设备: cuda\n"
     ]
    },
    {
     "name": "stderr",
     "output_type": "stream",
     "text": [
      "提取特征: 100%|██████████| 5/5 [00:00<00:00,  7.07it/s]\n",
      "按类别清洗:  19%|█▊        | 164/879 [03:19<13:26,  1.13s/it]"
     ]
    },
    {
     "name": "stdout",
     "output_type": "stream",
     "text": [
      "成功提取 141 个图像的特征，特征维度: (141, 2048)\n",
      "使用设备: cuda\n"
     ]
    },
    {
     "name": "stderr",
     "output_type": "stream",
     "text": [
      "提取特征: 100%|██████████| 6/6 [00:00<00:00,  6.11it/s]\n",
      "按类别清洗:  19%|█▉        | 165/879 [03:20<13:42,  1.15s/it]"
     ]
    },
    {
     "name": "stdout",
     "output_type": "stream",
     "text": [
      "成功提取 176 个图像的特征，特征维度: (176, 2048)\n",
      "使用设备: cuda\n"
     ]
    },
    {
     "name": "stderr",
     "output_type": "stream",
     "text": [
      "提取特征: 100%|██████████| 5/5 [00:00<00:00,  5.56it/s]\n",
      "按类别清洗:  19%|█▉        | 166/879 [03:21<13:46,  1.16s/it]"
     ]
    },
    {
     "name": "stdout",
     "output_type": "stream",
     "text": [
      "成功提取 155 个图像的特征，特征维度: (155, 2048)\n",
      "使用设备: cuda\n"
     ]
    },
    {
     "name": "stderr",
     "output_type": "stream",
     "text": [
      "提取特征: 100%|██████████| 6/6 [00:01<00:00,  5.32it/s]\n",
      "按类别清洗:  19%|█▉        | 167/879 [03:22<14:36,  1.23s/it]"
     ]
    },
    {
     "name": "stdout",
     "output_type": "stream",
     "text": [
      "成功提取 178 个图像的特征，特征维度: (178, 2048)\n",
      "使用设备: cuda\n"
     ]
    },
    {
     "name": "stderr",
     "output_type": "stream",
     "text": [
      "提取特征: 100%|██████████| 5/5 [00:00<00:00,  6.82it/s]\n",
      "按类别清洗:  19%|█▉        | 168/879 [03:23<13:44,  1.16s/it]"
     ]
    },
    {
     "name": "stdout",
     "output_type": "stream",
     "text": [
      "成功提取 140 个图像的特征，特征维度: (140, 2048)\n",
      "使用设备: cuda\n"
     ]
    },
    {
     "name": "stderr",
     "output_type": "stream",
     "text": [
      "提取特征: 100%|██████████| 6/6 [00:01<00:00,  5.95it/s]\n",
      "按类别清洗:  19%|█▉        | 169/879 [03:25<13:59,  1.18s/it]"
     ]
    },
    {
     "name": "stdout",
     "output_type": "stream",
     "text": [
      "成功提取 178 个图像的特征，特征维度: (178, 2048)\n",
      "使用设备: cuda\n"
     ]
    },
    {
     "name": "stderr",
     "output_type": "stream",
     "text": [
      "提取特征: 100%|██████████| 6/6 [00:00<00:00,  6.57it/s]\n",
      "按类别清洗:  19%|█▉        | 170/879 [03:26<13:56,  1.18s/it]"
     ]
    },
    {
     "name": "stdout",
     "output_type": "stream",
     "text": [
      "成功提取 177 个图像的特征，特征维度: (177, 2048)\n",
      "使用设备: cuda\n"
     ]
    },
    {
     "name": "stderr",
     "output_type": "stream",
     "text": [
      "提取特征: 100%|██████████| 6/6 [00:00<00:00,  6.72it/s]\n",
      "按类别清洗:  19%|█▉        | 171/879 [03:27<13:50,  1.17s/it]"
     ]
    },
    {
     "name": "stdout",
     "output_type": "stream",
     "text": [
      "成功提取 172 个图像的特征，特征维度: (172, 2048)\n",
      "使用设备: cuda\n"
     ]
    },
    {
     "name": "stderr",
     "output_type": "stream",
     "text": [
      "提取特征: 100%|██████████| 4/4 [00:00<00:00,  6.33it/s]\n",
      "按类别清洗:  20%|█▉        | 172/879 [03:28<12:52,  1.09s/it]"
     ]
    },
    {
     "name": "stdout",
     "output_type": "stream",
     "text": [
      "成功提取 122 个图像的特征，特征维度: (122, 2048)\n",
      "使用设备: cuda\n"
     ]
    },
    {
     "name": "stderr",
     "output_type": "stream",
     "text": [
      "提取特征: 100%|██████████| 6/6 [00:00<00:00,  6.27it/s]\n",
      "按类别清洗:  20%|█▉        | 173/879 [03:29<13:11,  1.12s/it]"
     ]
    },
    {
     "name": "stdout",
     "output_type": "stream",
     "text": [
      "成功提取 178 个图像的特征，特征维度: (178, 2048)\n",
      "使用设备: cuda\n"
     ]
    },
    {
     "name": "stderr",
     "output_type": "stream",
     "text": [
      "提取特征: 100%|██████████| 6/6 [00:00<00:00,  6.04it/s]\n",
      "按类别清洗:  20%|█▉        | 174/879 [03:30<13:43,  1.17s/it]"
     ]
    },
    {
     "name": "stdout",
     "output_type": "stream",
     "text": [
      "成功提取 178 个图像的特征，特征维度: (178, 2048)\n",
      "使用设备: cuda\n"
     ]
    },
    {
     "name": "stderr",
     "output_type": "stream",
     "text": [
      "提取特征: 100%|██████████| 6/6 [00:01<00:00,  5.79it/s]\n",
      "按类别清洗:  20%|█▉        | 175/879 [03:32<14:10,  1.21s/it]"
     ]
    },
    {
     "name": "stdout",
     "output_type": "stream",
     "text": [
      "成功提取 178 个图像的特征，特征维度: (178, 2048)\n",
      "使用设备: cuda\n"
     ]
    },
    {
     "name": "stderr",
     "output_type": "stream",
     "text": [
      "提取特征: 100%|██████████| 5/5 [00:00<00:00,  6.16it/s]\n",
      "按类别清洗:  20%|██        | 176/879 [03:33<13:40,  1.17s/it]"
     ]
    },
    {
     "name": "stdout",
     "output_type": "stream",
     "text": [
      "成功提取 140 个图像的特征，特征维度: (140, 2048)\n",
      "使用设备: cuda\n"
     ]
    },
    {
     "name": "stderr",
     "output_type": "stream",
     "text": [
      "提取特征: 100%|██████████| 6/6 [00:00<00:00,  6.45it/s]\n",
      "按类别清洗:  20%|██        | 177/879 [03:34<13:45,  1.18s/it]"
     ]
    },
    {
     "name": "stdout",
     "output_type": "stream",
     "text": [
      "成功提取 178 个图像的特征，特征维度: (178, 2048)\n",
      "使用设备: cuda\n"
     ]
    },
    {
     "name": "stderr",
     "output_type": "stream",
     "text": [
      "提取特征: 100%|██████████| 5/5 [00:00<00:00,  5.81it/s]\n",
      "按类别清洗:  20%|██        | 178/879 [03:35<13:33,  1.16s/it]"
     ]
    },
    {
     "name": "stdout",
     "output_type": "stream",
     "text": [
      "成功提取 160 个图像的特征，特征维度: (160, 2048)\n",
      "使用设备: cuda\n"
     ]
    },
    {
     "name": "stderr",
     "output_type": "stream",
     "text": [
      "提取特征: 100%|██████████| 2/2 [00:00<00:00,  6.05it/s]\n",
      "按类别清洗:  20%|██        | 179/879 [03:36<11:33,  1.01it/s]"
     ]
    },
    {
     "name": "stdout",
     "output_type": "stream",
     "text": [
      "成功提取 61 个图像的特征，特征维度: (61, 2048)\n",
      "使用设备: cuda\n"
     ]
    },
    {
     "name": "stderr",
     "output_type": "stream",
     "text": [
      "提取特征: 100%|██████████| 6/6 [00:00<00:00,  6.52it/s]\n",
      "按类别清洗:  20%|██        | 180/879 [03:37<12:04,  1.04s/it]"
     ]
    },
    {
     "name": "stdout",
     "output_type": "stream",
     "text": [
      "成功提取 176 个图像的特征，特征维度: (176, 2048)\n",
      "使用设备: cuda\n"
     ]
    },
    {
     "name": "stderr",
     "output_type": "stream",
     "text": [
      "提取特征: 100%|██████████| 5/5 [00:00<00:00,  7.12it/s]\n",
      "按类别清洗:  21%|██        | 181/879 [03:38<11:50,  1.02s/it]"
     ]
    },
    {
     "name": "stdout",
     "output_type": "stream",
     "text": [
      "成功提取 140 个图像的特征，特征维度: (140, 2048)\n",
      "使用设备: cuda\n"
     ]
    },
    {
     "name": "stderr",
     "output_type": "stream",
     "text": [
      "提取特征: 100%|██████████| 6/6 [00:00<00:00,  6.14it/s]\n",
      "按类别清洗:  21%|██        | 182/879 [03:39<12:26,  1.07s/it]"
     ]
    },
    {
     "name": "stdout",
     "output_type": "stream",
     "text": [
      "成功提取 177 个图像的特征，特征维度: (177, 2048)\n",
      "使用设备: cuda\n"
     ]
    },
    {
     "name": "stderr",
     "output_type": "stream",
     "text": [
      "提取特征: 100%|██████████| 6/6 [00:00<00:00,  6.57it/s]\n",
      "按类别清洗:  21%|██        | 183/879 [03:40<12:45,  1.10s/it]"
     ]
    },
    {
     "name": "stdout",
     "output_type": "stream",
     "text": [
      "成功提取 175 个图像的特征，特征维度: (175, 2048)\n",
      "使用设备: cuda\n"
     ]
    },
    {
     "name": "stderr",
     "output_type": "stream",
     "text": [
      "提取特征: 100%|██████████| 6/6 [00:00<00:00,  6.69it/s]\n",
      "按类别清洗:  21%|██        | 184/879 [03:41<12:54,  1.11s/it]"
     ]
    },
    {
     "name": "stdout",
     "output_type": "stream",
     "text": [
      "成功提取 170 个图像的特征，特征维度: (170, 2048)\n",
      "使用设备: cuda\n"
     ]
    },
    {
     "name": "stderr",
     "output_type": "stream",
     "text": [
      "提取特征: 100%|██████████| 6/6 [00:00<00:00,  6.60it/s]\n",
      "按类别清洗:  21%|██        | 185/879 [03:42<13:03,  1.13s/it]"
     ]
    },
    {
     "name": "stdout",
     "output_type": "stream",
     "text": [
      "成功提取 173 个图像的特征，特征维度: (173, 2048)\n",
      "使用设备: cuda\n"
     ]
    },
    {
     "name": "stderr",
     "output_type": "stream",
     "text": [
      "提取特征: 100%|██████████| 6/6 [00:00<00:00,  6.48it/s]\n",
      "按类别清洗:  21%|██        | 186/879 [03:43<13:12,  1.14s/it]"
     ]
    },
    {
     "name": "stdout",
     "output_type": "stream",
     "text": [
      "成功提取 175 个图像的特征，特征维度: (175, 2048)\n",
      "使用设备: cuda\n"
     ]
    },
    {
     "name": "stderr",
     "output_type": "stream",
     "text": [
      "提取特征: 100%|██████████| 5/5 [00:00<00:00,  6.38it/s]\n",
      "按类别清洗:  21%|██▏       | 187/879 [03:45<12:51,  1.12s/it]"
     ]
    },
    {
     "name": "stdout",
     "output_type": "stream",
     "text": [
      "成功提取 158 个图像的特征，特征维度: (158, 2048)\n",
      "使用设备: cuda\n"
     ]
    },
    {
     "name": "stderr",
     "output_type": "stream",
     "text": [
      "提取特征: 100%|██████████| 5/5 [00:00<00:00,  6.36it/s]\n",
      "按类别清洗:  21%|██▏       | 188/879 [03:46<12:36,  1.09s/it]"
     ]
    },
    {
     "name": "stdout",
     "output_type": "stream",
     "text": [
      "成功提取 159 个图像的特征，特征维度: (159, 2048)\n",
      "使用设备: cuda\n"
     ]
    },
    {
     "name": "stderr",
     "output_type": "stream",
     "text": [
      "提取特征: 100%|██████████| 6/6 [00:00<00:00,  6.55it/s]\n",
      "按类别清洗:  22%|██▏       | 189/879 [03:47<12:51,  1.12s/it]"
     ]
    },
    {
     "name": "stdout",
     "output_type": "stream",
     "text": [
      "成功提取 175 个图像的特征，特征维度: (175, 2048)\n",
      "使用设备: cuda\n"
     ]
    },
    {
     "name": "stderr",
     "output_type": "stream",
     "text": [
      "提取特征: 100%|██████████| 6/6 [00:00<00:00,  6.25it/s]\n",
      "按类别清洗:  22%|██▏       | 190/879 [03:48<13:10,  1.15s/it]"
     ]
    },
    {
     "name": "stdout",
     "output_type": "stream",
     "text": [
      "成功提取 161 个图像的特征，特征维度: (161, 2048)\n",
      "使用设备: cuda\n"
     ]
    },
    {
     "name": "stderr",
     "output_type": "stream",
     "text": [
      "提取特征: 100%|██████████| 6/6 [00:00<00:00,  7.00it/s]\n",
      "按类别清洗:  22%|██▏       | 191/879 [03:49<13:07,  1.14s/it]"
     ]
    },
    {
     "name": "stdout",
     "output_type": "stream",
     "text": [
      "成功提取 167 个图像的特征，特征维度: (167, 2048)\n",
      "使用设备: cuda\n"
     ]
    },
    {
     "name": "stderr",
     "output_type": "stream",
     "text": [
      "提取特征: 100%|██████████| 6/6 [00:00<00:00,  6.12it/s]\n",
      "按类别清洗:  22%|██▏       | 192/879 [03:50<13:24,  1.17s/it]"
     ]
    },
    {
     "name": "stdout",
     "output_type": "stream",
     "text": [
      "成功提取 179 个图像的特征，特征维度: (179, 2048)\n",
      "使用设备: cuda\n"
     ]
    },
    {
     "name": "stderr",
     "output_type": "stream",
     "text": [
      "提取特征: 100%|██████████| 5/5 [00:00<00:00,  7.67it/s]\n",
      "按类别清洗:  22%|██▏       | 193/879 [03:51<12:27,  1.09s/it]"
     ]
    },
    {
     "name": "stdout",
     "output_type": "stream",
     "text": [
      "成功提取 142 个图像的特征，特征维度: (142, 2048)\n",
      "使用设备: cuda\n"
     ]
    },
    {
     "name": "stderr",
     "output_type": "stream",
     "text": [
      "提取特征: 100%|██████████| 6/6 [00:00<00:00,  6.69it/s]\n",
      "按类别清洗:  22%|██▏       | 194/879 [03:52<12:30,  1.10s/it]"
     ]
    },
    {
     "name": "stdout",
     "output_type": "stream",
     "text": [
      "成功提取 176 个图像的特征，特征维度: (176, 2048)\n",
      "使用设备: cuda\n"
     ]
    },
    {
     "name": "stderr",
     "output_type": "stream",
     "text": [
      "提取特征: 100%|██████████| 6/6 [00:00<00:00,  6.71it/s]\n",
      "按类别清洗:  22%|██▏       | 195/879 [03:54<12:44,  1.12s/it]"
     ]
    },
    {
     "name": "stdout",
     "output_type": "stream",
     "text": [
      "成功提取 173 个图像的特征，特征维度: (173, 2048)\n",
      "使用设备: cuda\n"
     ]
    },
    {
     "name": "stderr",
     "output_type": "stream",
     "text": [
      "提取特征: 100%|██████████| 6/6 [00:00<00:00,  7.12it/s]\n",
      "按类别清洗:  22%|██▏       | 196/879 [03:55<12:38,  1.11s/it]"
     ]
    },
    {
     "name": "stdout",
     "output_type": "stream",
     "text": [
      "成功提取 161 个图像的特征，特征维度: (161, 2048)\n",
      "使用设备: cuda\n"
     ]
    },
    {
     "name": "stderr",
     "output_type": "stream",
     "text": [
      "提取特征: 100%|██████████| 6/6 [00:00<00:00,  6.44it/s]\n",
      "按类别清洗:  22%|██▏       | 197/879 [03:56<12:53,  1.13s/it]"
     ]
    },
    {
     "name": "stdout",
     "output_type": "stream",
     "text": [
      "成功提取 177 个图像的特征，特征维度: (177, 2048)\n",
      "使用设备: cuda\n"
     ]
    },
    {
     "name": "stderr",
     "output_type": "stream",
     "text": [
      "提取特征: 100%|██████████| 6/6 [00:00<00:00,  6.33it/s]\n",
      "按类别清洗:  23%|██▎       | 198/879 [03:57<13:07,  1.16s/it]"
     ]
    },
    {
     "name": "stdout",
     "output_type": "stream",
     "text": [
      "成功提取 178 个图像的特征，特征维度: (178, 2048)\n",
      "使用设备: cuda\n"
     ]
    },
    {
     "name": "stderr",
     "output_type": "stream",
     "text": [
      "提取特征: 100%|██████████| 6/6 [00:00<00:00,  6.12it/s]\n",
      "按类别清洗:  23%|██▎       | 199/879 [03:58<13:23,  1.18s/it]"
     ]
    },
    {
     "name": "stdout",
     "output_type": "stream",
     "text": [
      "成功提取 177 个图像的特征，特征维度: (177, 2048)\n",
      "使用设备: cuda\n"
     ]
    },
    {
     "name": "stderr",
     "output_type": "stream",
     "text": [
      "提取特征: 100%|██████████| 5/5 [00:00<00:00,  6.01it/s]\n",
      "按类别清洗:  23%|██▎       | 200/879 [03:59<13:01,  1.15s/it]"
     ]
    },
    {
     "name": "stdout",
     "output_type": "stream",
     "text": [
      "成功提取 153 个图像的特征，特征维度: (153, 2048)\n",
      "使用设备: cuda\n"
     ]
    },
    {
     "name": "stderr",
     "output_type": "stream",
     "text": [
      "提取特征: 100%|██████████| 5/5 [00:00<00:00,  5.34it/s]\n",
      "按类别清洗:  23%|██▎       | 201/879 [04:01<13:10,  1.17s/it]"
     ]
    },
    {
     "name": "stdout",
     "output_type": "stream",
     "text": [
      "成功提取 159 个图像的特征，特征维度: (159, 2048)\n",
      "使用设备: cuda\n"
     ]
    },
    {
     "name": "stderr",
     "output_type": "stream",
     "text": [
      "提取特征: 100%|██████████| 6/6 [00:00<00:00,  6.45it/s]\n",
      "按类别清洗:  23%|██▎       | 202/879 [04:02<13:12,  1.17s/it]"
     ]
    },
    {
     "name": "stdout",
     "output_type": "stream",
     "text": [
      "成功提取 177 个图像的特征，特征维度: (177, 2048)\n",
      "使用设备: cuda\n"
     ]
    },
    {
     "name": "stderr",
     "output_type": "stream",
     "text": [
      "提取特征: 100%|██████████| 5/5 [00:00<00:00,  5.43it/s]\n",
      "按类别清洗:  23%|██▎       | 203/879 [04:03<13:11,  1.17s/it]"
     ]
    },
    {
     "name": "stdout",
     "output_type": "stream",
     "text": [
      "成功提取 158 个图像的特征，特征维度: (158, 2048)\n",
      "使用设备: cuda\n"
     ]
    },
    {
     "name": "stderr",
     "output_type": "stream",
     "text": [
      "提取特征: 100%|██████████| 6/6 [00:00<00:00,  6.48it/s]\n",
      "按类别清洗:  23%|██▎       | 204/879 [04:04<13:15,  1.18s/it]"
     ]
    },
    {
     "name": "stdout",
     "output_type": "stream",
     "text": [
      "成功提取 177 个图像的特征，特征维度: (177, 2048)\n",
      "使用设备: cuda\n"
     ]
    },
    {
     "name": "stderr",
     "output_type": "stream",
     "text": [
      "提取特征: 100%|██████████| 6/6 [00:00<00:00,  6.08it/s]\n",
      "按类别清洗:  23%|██▎       | 205/879 [04:05<13:27,  1.20s/it]"
     ]
    },
    {
     "name": "stdout",
     "output_type": "stream",
     "text": [
      "成功提取 178 个图像的特征，特征维度: (178, 2048)\n",
      "使用设备: cuda\n"
     ]
    },
    {
     "name": "stderr",
     "output_type": "stream",
     "text": [
      "提取特征: 100%|██████████| 6/6 [00:00<00:00,  6.18it/s]\n",
      "按类别清洗:  23%|██▎       | 206/879 [04:07<13:32,  1.21s/it]"
     ]
    },
    {
     "name": "stdout",
     "output_type": "stream",
     "text": [
      "成功提取 178 个图像的特征，特征维度: (178, 2048)\n",
      "使用设备: cuda\n"
     ]
    },
    {
     "name": "stderr",
     "output_type": "stream",
     "text": [
      "提取特征: 100%|██████████| 5/5 [00:00<00:00,  5.36it/s]\n",
      "按类别清洗:  24%|██▎       | 207/879 [04:08<13:28,  1.20s/it]"
     ]
    },
    {
     "name": "stdout",
     "output_type": "stream",
     "text": [
      "成功提取 157 个图像的特征，特征维度: (157, 2048)\n",
      "使用设备: cuda\n"
     ]
    },
    {
     "name": "stderr",
     "output_type": "stream",
     "text": [
      "提取特征: 100%|██████████| 5/5 [00:00<00:00,  6.52it/s]\n",
      "按类别清洗:  24%|██▎       | 208/879 [04:09<12:50,  1.15s/it]"
     ]
    },
    {
     "name": "stdout",
     "output_type": "stream",
     "text": [
      "成功提取 157 个图像的特征，特征维度: (157, 2048)\n",
      "使用设备: cuda\n"
     ]
    },
    {
     "name": "stderr",
     "output_type": "stream",
     "text": [
      "提取特征: 100%|██████████| 5/5 [00:00<00:00,  6.75it/s]\n",
      "按类别清洗:  24%|██▍       | 209/879 [04:10<12:13,  1.09s/it]"
     ]
    },
    {
     "name": "stdout",
     "output_type": "stream",
     "text": [
      "成功提取 146 个图像的特征，特征维度: (146, 2048)\n",
      "使用设备: cuda\n"
     ]
    },
    {
     "name": "stderr",
     "output_type": "stream",
     "text": [
      "提取特征: 100%|██████████| 6/6 [00:00<00:00,  6.63it/s]\n",
      "按类别清洗:  24%|██▍       | 210/879 [04:11<12:19,  1.11s/it]"
     ]
    },
    {
     "name": "stdout",
     "output_type": "stream",
     "text": [
      "成功提取 176 个图像的特征，特征维度: (176, 2048)\n",
      "使用设备: cuda\n"
     ]
    },
    {
     "name": "stderr",
     "output_type": "stream",
     "text": [
      "提取特征: 100%|██████████| 6/6 [00:00<00:00,  6.66it/s]\n",
      "按类别清洗:  24%|██▍       | 211/879 [04:12<12:27,  1.12s/it]"
     ]
    },
    {
     "name": "stdout",
     "output_type": "stream",
     "text": [
      "成功提取 178 个图像的特征，特征维度: (178, 2048)\n",
      "使用设备: cuda\n"
     ]
    },
    {
     "name": "stderr",
     "output_type": "stream",
     "text": [
      "提取特征: 100%|██████████| 6/6 [00:00<00:00,  6.70it/s]\n",
      "按类别清洗:  24%|██▍       | 212/879 [04:13<12:34,  1.13s/it]"
     ]
    },
    {
     "name": "stdout",
     "output_type": "stream",
     "text": [
      "成功提取 175 个图像的特征，特征维度: (175, 2048)\n",
      "使用设备: cuda\n"
     ]
    },
    {
     "name": "stderr",
     "output_type": "stream",
     "text": [
      "提取特征: 100%|██████████| 6/6 [00:01<00:00,  5.90it/s]\n",
      "按类别清洗:  24%|██▍       | 213/879 [04:14<13:01,  1.17s/it]"
     ]
    },
    {
     "name": "stdout",
     "output_type": "stream",
     "text": [
      "成功提取 175 个图像的特征，特征维度: (175, 2048)\n",
      "使用设备: cuda\n"
     ]
    },
    {
     "name": "stderr",
     "output_type": "stream",
     "text": [
      "提取特征: 100%|██████████| 5/5 [00:00<00:00,  5.73it/s]\n",
      "按类别清洗:  24%|██▍       | 214/879 [04:16<12:54,  1.17s/it]"
     ]
    },
    {
     "name": "stdout",
     "output_type": "stream",
     "text": [
      "成功提取 156 个图像的特征，特征维度: (156, 2048)\n",
      "使用设备: cuda\n"
     ]
    },
    {
     "name": "stderr",
     "output_type": "stream",
     "text": [
      "提取特征: 100%|██████████| 6/6 [00:00<00:00,  6.55it/s]\n",
      "按类别清洗:  24%|██▍       | 215/879 [04:17<12:57,  1.17s/it]"
     ]
    },
    {
     "name": "stdout",
     "output_type": "stream",
     "text": [
      "成功提取 178 个图像的特征，特征维度: (178, 2048)\n",
      "使用设备: cuda\n"
     ]
    },
    {
     "name": "stderr",
     "output_type": "stream",
     "text": [
      "提取特征: 100%|██████████| 6/6 [00:00<00:00,  6.50it/s]\n",
      "按类别清洗:  25%|██▍       | 216/879 [04:18<13:01,  1.18s/it]"
     ]
    },
    {
     "name": "stdout",
     "output_type": "stream",
     "text": [
      "成功提取 175 个图像的特征，特征维度: (175, 2048)\n",
      "使用设备: cuda\n"
     ]
    },
    {
     "name": "stderr",
     "output_type": "stream",
     "text": [
      "提取特征: 100%|██████████| 6/6 [00:00<00:00,  6.10it/s]\n",
      "按类别清洗:  25%|██▍       | 217/879 [04:19<13:14,  1.20s/it]"
     ]
    },
    {
     "name": "stdout",
     "output_type": "stream",
     "text": [
      "成功提取 176 个图像的特征，特征维度: (176, 2048)\n",
      "使用设备: cuda\n"
     ]
    },
    {
     "name": "stderr",
     "output_type": "stream",
     "text": [
      "提取特征: 100%|██████████| 6/6 [00:01<00:00,  5.94it/s]\n",
      "按类别清洗:  25%|██▍       | 218/879 [04:21<13:52,  1.26s/it]"
     ]
    },
    {
     "name": "stdout",
     "output_type": "stream",
     "text": [
      "成功提取 177 个图像的特征，特征维度: (177, 2048)\n",
      "使用设备: cuda\n"
     ]
    },
    {
     "name": "stderr",
     "output_type": "stream",
     "text": [
      "提取特征: 100%|██████████| 6/6 [00:00<00:00,  6.14it/s]\n",
      "按类别清洗:  25%|██▍       | 219/879 [04:22<13:47,  1.25s/it]"
     ]
    },
    {
     "name": "stdout",
     "output_type": "stream",
     "text": [
      "成功提取 178 个图像的特征，特征维度: (178, 2048)\n",
      "使用设备: cuda\n"
     ]
    },
    {
     "name": "stderr",
     "output_type": "stream",
     "text": [
      "提取特征: 100%|██████████| 5/5 [00:00<00:00,  5.55it/s]\n",
      "按类别清洗:  25%|██▌       | 220/879 [04:23<13:29,  1.23s/it]"
     ]
    },
    {
     "name": "stdout",
     "output_type": "stream",
     "text": [
      "成功提取 157 个图像的特征，特征维度: (157, 2048)\n",
      "使用设备: cuda\n"
     ]
    },
    {
     "name": "stderr",
     "output_type": "stream",
     "text": [
      "提取特征: 100%|██████████| 5/5 [00:00<00:00,  6.73it/s]\n",
      "按类别清洗:  25%|██▌       | 221/879 [04:24<12:43,  1.16s/it]"
     ]
    },
    {
     "name": "stdout",
     "output_type": "stream",
     "text": [
      "成功提取 139 个图像的特征，特征维度: (139, 2048)\n",
      "使用设备: cuda\n"
     ]
    },
    {
     "name": "stderr",
     "output_type": "stream",
     "text": [
      "提取特征: 100%|██████████| 5/5 [00:00<00:00,  5.76it/s]\n",
      "按类别清洗:  25%|██▌       | 222/879 [04:25<12:30,  1.14s/it]"
     ]
    },
    {
     "name": "stdout",
     "output_type": "stream",
     "text": [
      "成功提取 158 个图像的特征，特征维度: (158, 2048)\n",
      "使用设备: cuda\n"
     ]
    },
    {
     "name": "stderr",
     "output_type": "stream",
     "text": [
      "提取特征: 100%|██████████| 6/6 [00:00<00:00,  6.87it/s]\n",
      "按类别清洗:  25%|██▌       | 223/879 [04:26<12:26,  1.14s/it]"
     ]
    },
    {
     "name": "stdout",
     "output_type": "stream",
     "text": [
      "成功提取 174 个图像的特征，特征维度: (174, 2048)\n",
      "使用设备: cuda\n"
     ]
    },
    {
     "name": "stderr",
     "output_type": "stream",
     "text": [
      "提取特征: 100%|██████████| 6/6 [00:00<00:00,  6.12it/s]\n",
      "按类别清洗:  25%|██▌       | 224/879 [04:28<12:46,  1.17s/it]"
     ]
    },
    {
     "name": "stdout",
     "output_type": "stream",
     "text": [
      "成功提取 175 个图像的特征，特征维度: (175, 2048)\n",
      "使用设备: cuda\n"
     ]
    },
    {
     "name": "stderr",
     "output_type": "stream",
     "text": [
      "提取特征: 100%|██████████| 5/5 [00:00<00:00,  5.91it/s]\n",
      "按类别清洗:  26%|██▌       | 225/879 [04:29<12:31,  1.15s/it]"
     ]
    },
    {
     "name": "stdout",
     "output_type": "stream",
     "text": [
      "成功提取 157 个图像的特征，特征维度: (157, 2048)\n",
      "使用设备: cuda\n"
     ]
    },
    {
     "name": "stderr",
     "output_type": "stream",
     "text": [
      "提取特征: 100%|██████████| 6/6 [00:01<00:00,  4.74it/s]\n",
      "按类别清洗:  26%|██▌       | 226/879 [04:30<13:48,  1.27s/it]"
     ]
    },
    {
     "name": "stdout",
     "output_type": "stream",
     "text": [
      "成功提取 176 个图像的特征，特征维度: (176, 2048)\n",
      "使用设备: cuda\n"
     ]
    },
    {
     "name": "stderr",
     "output_type": "stream",
     "text": [
      "提取特征: 100%|██████████| 5/5 [00:00<00:00,  5.63it/s]\n",
      "按类别清洗:  26%|██▌       | 227/879 [04:31<13:21,  1.23s/it]"
     ]
    },
    {
     "name": "stdout",
     "output_type": "stream",
     "text": [
      "成功提取 155 个图像的特征，特征维度: (155, 2048)\n",
      "使用设备: cuda\n"
     ]
    },
    {
     "name": "stderr",
     "output_type": "stream",
     "text": [
      "提取特征: 100%|██████████| 5/5 [00:00<00:00,  5.94it/s]\n",
      "按类别清洗:  26%|██▌       | 228/879 [04:32<12:56,  1.19s/it]"
     ]
    },
    {
     "name": "stdout",
     "output_type": "stream",
     "text": [
      "成功提取 160 个图像的特征，特征维度: (160, 2048)\n",
      "使用设备: cuda\n"
     ]
    },
    {
     "name": "stderr",
     "output_type": "stream",
     "text": [
      "提取特征: 100%|██████████| 5/5 [00:00<00:00,  5.80it/s]\n",
      "按类别清洗:  26%|██▌       | 229/879 [04:34<12:40,  1.17s/it]"
     ]
    },
    {
     "name": "stdout",
     "output_type": "stream",
     "text": [
      "成功提取 151 个图像的特征，特征维度: (151, 2048)\n",
      "使用设备: cuda\n"
     ]
    },
    {
     "name": "stderr",
     "output_type": "stream",
     "text": [
      "提取特征: 100%|██████████| 6/6 [00:00<00:00,  6.26it/s]\n",
      "按类别清洗:  26%|██▌       | 230/879 [04:35<12:48,  1.18s/it]"
     ]
    },
    {
     "name": "stdout",
     "output_type": "stream",
     "text": [
      "成功提取 178 个图像的特征，特征维度: (178, 2048)\n",
      "使用设备: cuda\n"
     ]
    },
    {
     "name": "stderr",
     "output_type": "stream",
     "text": [
      "提取特征: 100%|██████████| 6/6 [00:01<00:00,  5.97it/s]\n",
      "按类别清洗:  26%|██▋       | 231/879 [04:36<13:06,  1.21s/it]"
     ]
    },
    {
     "name": "stdout",
     "output_type": "stream",
     "text": [
      "成功提取 178 个图像的特征，特征维度: (178, 2048)\n",
      "使用设备: cuda\n"
     ]
    },
    {
     "name": "stderr",
     "output_type": "stream",
     "text": [
      "提取特征: 100%|██████████| 6/6 [00:00<00:00,  6.67it/s]\n",
      "按类别清洗:  26%|██▋       | 232/879 [04:37<12:55,  1.20s/it]"
     ]
    },
    {
     "name": "stdout",
     "output_type": "stream",
     "text": [
      "成功提取 173 个图像的特征，特征维度: (173, 2048)\n",
      "使用设备: cuda\n"
     ]
    },
    {
     "name": "stderr",
     "output_type": "stream",
     "text": [
      "提取特征: 100%|██████████| 6/6 [00:00<00:00,  6.79it/s]\n",
      "按类别清洗:  27%|██▋       | 233/879 [04:38<12:46,  1.19s/it]"
     ]
    },
    {
     "name": "stdout",
     "output_type": "stream",
     "text": [
      "成功提取 177 个图像的特征，特征维度: (177, 2048)\n",
      "使用设备: cuda\n"
     ]
    },
    {
     "name": "stderr",
     "output_type": "stream",
     "text": [
      "提取特征: 100%|██████████| 5/5 [00:00<00:00,  6.06it/s]\n",
      "按类别清洗:  27%|██▋       | 234/879 [04:39<12:28,  1.16s/it]"
     ]
    },
    {
     "name": "stdout",
     "output_type": "stream",
     "text": [
      "成功提取 159 个图像的特征，特征维度: (159, 2048)\n",
      "使用设备: cuda\n"
     ]
    },
    {
     "name": "stderr",
     "output_type": "stream",
     "text": [
      "提取特征: 100%|██████████| 5/5 [00:00<00:00,  6.12it/s]\n",
      "按类别清洗:  27%|██▋       | 235/879 [04:41<12:10,  1.13s/it]"
     ]
    },
    {
     "name": "stdout",
     "output_type": "stream",
     "text": [
      "成功提取 143 个图像的特征，特征维度: (143, 2048)\n",
      "使用设备: cuda\n"
     ]
    },
    {
     "name": "stderr",
     "output_type": "stream",
     "text": [
      "提取特征: 100%|██████████| 6/6 [00:00<00:00,  6.72it/s]\n",
      "按类别清洗:  27%|██▋       | 236/879 [04:42<12:09,  1.13s/it]"
     ]
    },
    {
     "name": "stdout",
     "output_type": "stream",
     "text": [
      "成功提取 178 个图像的特征，特征维度: (178, 2048)\n",
      "使用设备: cuda\n"
     ]
    },
    {
     "name": "stderr",
     "output_type": "stream",
     "text": [
      "提取特征: 100%|██████████| 6/6 [00:00<00:00,  7.06it/s]\n",
      "按类别清洗:  27%|██▋       | 237/879 [04:43<12:12,  1.14s/it]"
     ]
    },
    {
     "name": "stdout",
     "output_type": "stream",
     "text": [
      "成功提取 174 个图像的特征，特征维度: (174, 2048)\n",
      "使用设备: cuda\n"
     ]
    },
    {
     "name": "stderr",
     "output_type": "stream",
     "text": [
      "提取特征: 100%|██████████| 6/6 [00:00<00:00,  6.52it/s]\n",
      "按类别清洗:  27%|██▋       | 238/879 [04:44<12:19,  1.15s/it]"
     ]
    },
    {
     "name": "stdout",
     "output_type": "stream",
     "text": [
      "成功提取 175 个图像的特征，特征维度: (175, 2048)\n",
      "使用设备: cuda\n"
     ]
    },
    {
     "name": "stderr",
     "output_type": "stream",
     "text": [
      "提取特征: 100%|██████████| 6/6 [00:00<00:00,  6.43it/s]\n",
      "按类别清洗:  27%|██▋       | 239/879 [04:45<12:25,  1.17s/it]"
     ]
    },
    {
     "name": "stdout",
     "output_type": "stream",
     "text": [
      "成功提取 174 个图像的特征，特征维度: (174, 2048)\n",
      "使用设备: cuda\n"
     ]
    },
    {
     "name": "stderr",
     "output_type": "stream",
     "text": [
      "提取特征: 100%|██████████| 6/6 [00:01<00:00,  5.92it/s]\n",
      "按类别清洗:  27%|██▋       | 240/879 [04:46<12:46,  1.20s/it]"
     ]
    },
    {
     "name": "stdout",
     "output_type": "stream",
     "text": [
      "成功提取 178 个图像的特征，特征维度: (178, 2048)\n",
      "使用设备: cuda\n"
     ]
    },
    {
     "name": "stderr",
     "output_type": "stream",
     "text": [
      "提取特征: 100%|██████████| 6/6 [00:00<00:00,  6.52it/s]\n",
      "按类别清洗:  27%|██▋       | 241/879 [04:48<12:42,  1.19s/it]"
     ]
    },
    {
     "name": "stdout",
     "output_type": "stream",
     "text": [
      "成功提取 178 个图像的特征，特征维度: (178, 2048)\n",
      "使用设备: cuda\n"
     ]
    },
    {
     "name": "stderr",
     "output_type": "stream",
     "text": [
      "提取特征: 100%|██████████| 6/6 [00:01<00:00,  5.86it/s]\n",
      "按类别清洗:  28%|██▊       | 242/879 [04:49<12:55,  1.22s/it]"
     ]
    },
    {
     "name": "stdout",
     "output_type": "stream",
     "text": [
      "成功提取 178 个图像的特征，特征维度: (178, 2048)\n",
      "使用设备: cuda\n"
     ]
    },
    {
     "name": "stderr",
     "output_type": "stream",
     "text": [
      "提取特征: 100%|██████████| 6/6 [00:00<00:00,  6.39it/s]\n",
      "按类别清洗:  28%|██▊       | 243/879 [04:50<12:52,  1.21s/it]"
     ]
    },
    {
     "name": "stdout",
     "output_type": "stream",
     "text": [
      "成功提取 178 个图像的特征，特征维度: (178, 2048)\n",
      "使用设备: cuda\n"
     ]
    },
    {
     "name": "stderr",
     "output_type": "stream",
     "text": [
      "提取特征: 100%|██████████| 5/5 [00:00<00:00,  6.07it/s]\n",
      "按类别清洗:  28%|██▊       | 244/879 [04:51<12:28,  1.18s/it]"
     ]
    },
    {
     "name": "stdout",
     "output_type": "stream",
     "text": [
      "成功提取 157 个图像的特征，特征维度: (157, 2048)\n",
      "使用设备: cuda\n"
     ]
    },
    {
     "name": "stderr",
     "output_type": "stream",
     "text": [
      "提取特征: 100%|██████████| 6/6 [00:00<00:00,  6.42it/s]\n",
      "按类别清洗:  28%|██▊       | 245/879 [04:52<12:31,  1.19s/it]"
     ]
    },
    {
     "name": "stdout",
     "output_type": "stream",
     "text": [
      "成功提取 175 个图像的特征，特征维度: (175, 2048)\n",
      "使用设备: cuda\n"
     ]
    },
    {
     "name": "stderr",
     "output_type": "stream",
     "text": [
      "提取特征: 100%|██████████| 6/6 [00:01<00:00,  5.83it/s]\n",
      "按类别清洗:  28%|██▊       | 246/879 [04:54<12:50,  1.22s/it]"
     ]
    },
    {
     "name": "stdout",
     "output_type": "stream",
     "text": [
      "成功提取 178 个图像的特征，特征维度: (178, 2048)\n",
      "使用设备: cuda\n"
     ]
    },
    {
     "name": "stderr",
     "output_type": "stream",
     "text": [
      "提取特征: 100%|██████████| 6/6 [00:00<00:00,  6.44it/s]\n",
      "按类别清洗:  28%|██▊       | 247/879 [04:55<12:45,  1.21s/it]"
     ]
    },
    {
     "name": "stdout",
     "output_type": "stream",
     "text": [
      "成功提取 176 个图像的特征，特征维度: (176, 2048)\n",
      "使用设备: cuda\n"
     ]
    },
    {
     "name": "stderr",
     "output_type": "stream",
     "text": [
      "提取特征: 100%|██████████| 6/6 [00:01<00:00,  5.78it/s]\n",
      "按类别清洗:  28%|██▊       | 248/879 [04:56<13:02,  1.24s/it]"
     ]
    },
    {
     "name": "stdout",
     "output_type": "stream",
     "text": [
      "成功提取 177 个图像的特征，特征维度: (177, 2048)\n",
      "使用设备: cuda\n"
     ]
    },
    {
     "name": "stderr",
     "output_type": "stream",
     "text": [
      "提取特征: 100%|██████████| 5/5 [00:00<00:00,  6.05it/s]\n",
      "按类别清洗:  28%|██▊       | 249/879 [04:57<12:33,  1.20s/it]"
     ]
    },
    {
     "name": "stdout",
     "output_type": "stream",
     "text": [
      "成功提取 149 个图像的特征，特征维度: (149, 2048)\n",
      "使用设备: cuda\n"
     ]
    },
    {
     "name": "stderr",
     "output_type": "stream",
     "text": [
      "提取特征: 100%|██████████| 6/6 [00:00<00:00,  6.23it/s]\n",
      "按类别清洗:  28%|██▊       | 250/879 [04:59<12:37,  1.20s/it]"
     ]
    },
    {
     "name": "stdout",
     "output_type": "stream",
     "text": [
      "成功提取 177 个图像的特征，特征维度: (177, 2048)\n",
      "使用设备: cuda\n"
     ]
    },
    {
     "name": "stderr",
     "output_type": "stream",
     "text": [
      "提取特征: 100%|██████████| 6/6 [00:00<00:00,  6.01it/s]\n",
      "按类别清洗:  29%|██▊       | 251/879 [05:00<12:47,  1.22s/it]"
     ]
    },
    {
     "name": "stdout",
     "output_type": "stream",
     "text": [
      "成功提取 178 个图像的特征，特征维度: (178, 2048)\n",
      "使用设备: cuda\n"
     ]
    },
    {
     "name": "stderr",
     "output_type": "stream",
     "text": [
      "提取特征: 100%|██████████| 6/6 [00:01<00:00,  5.74it/s]\n",
      "按类别清洗:  29%|██▊       | 252/879 [05:01<13:05,  1.25s/it]"
     ]
    },
    {
     "name": "stdout",
     "output_type": "stream",
     "text": [
      "成功提取 176 个图像的特征，特征维度: (176, 2048)\n",
      "使用设备: cuda\n"
     ]
    },
    {
     "name": "stderr",
     "output_type": "stream",
     "text": [
      "提取特征: 100%|██████████| 5/5 [00:00<00:00,  5.89it/s]\n",
      "按类别清洗:  29%|██▉       | 253/879 [05:02<12:37,  1.21s/it]"
     ]
    },
    {
     "name": "stdout",
     "output_type": "stream",
     "text": [
      "成功提取 159 个图像的特征，特征维度: (159, 2048)\n",
      "使用设备: cuda\n"
     ]
    },
    {
     "name": "stderr",
     "output_type": "stream",
     "text": [
      "提取特征: 100%|██████████| 5/5 [00:00<00:00,  6.66it/s]\n",
      "按类别清洗:  29%|██▉       | 254/879 [05:03<11:59,  1.15s/it]"
     ]
    },
    {
     "name": "stdout",
     "output_type": "stream",
     "text": [
      "成功提取 157 个图像的特征，特征维度: (157, 2048)\n",
      "使用设备: cuda\n"
     ]
    },
    {
     "name": "stderr",
     "output_type": "stream",
     "text": [
      "提取特征: 100%|██████████| 6/6 [00:00<00:00,  6.43it/s]\n",
      "按类别清洗:  29%|██▉       | 255/879 [05:04<11:58,  1.15s/it]"
     ]
    },
    {
     "name": "stdout",
     "output_type": "stream",
     "text": [
      "成功提取 176 个图像的特征，特征维度: (176, 2048)\n",
      "使用设备: cuda\n"
     ]
    },
    {
     "name": "stderr",
     "output_type": "stream",
     "text": [
      "提取特征: 100%|██████████| 5/5 [00:00<00:00,  5.16it/s]\n",
      "按类别清洗:  29%|██▉       | 256/879 [05:06<12:14,  1.18s/it]"
     ]
    },
    {
     "name": "stdout",
     "output_type": "stream",
     "text": [
      "成功提取 157 个图像的特征，特征维度: (157, 2048)\n",
      "使用设备: cuda\n"
     ]
    },
    {
     "name": "stderr",
     "output_type": "stream",
     "text": [
      "提取特征: 100%|██████████| 6/6 [00:00<00:00,  6.51it/s]\n",
      "按类别清洗:  29%|██▉       | 257/879 [05:07<12:11,  1.18s/it]"
     ]
    },
    {
     "name": "stdout",
     "output_type": "stream",
     "text": [
      "成功提取 176 个图像的特征，特征维度: (176, 2048)\n",
      "使用设备: cuda\n"
     ]
    },
    {
     "name": "stderr",
     "output_type": "stream",
     "text": [
      "提取特征: 100%|██████████| 5/5 [00:00<00:00,  5.66it/s]\n",
      "按类别清洗:  29%|██▉       | 258/879 [05:08<12:03,  1.16s/it]"
     ]
    },
    {
     "name": "stdout",
     "output_type": "stream",
     "text": [
      "成功提取 159 个图像的特征，特征维度: (159, 2048)\n",
      "使用设备: cuda\n"
     ]
    },
    {
     "name": "stderr",
     "output_type": "stream",
     "text": [
      "提取特征: 100%|██████████| 5/5 [00:00<00:00,  5.66it/s]\n",
      "按类别清洗:  29%|██▉       | 259/879 [05:09<12:04,  1.17s/it]"
     ]
    },
    {
     "name": "stdout",
     "output_type": "stream",
     "text": [
      "成功提取 158 个图像的特征，特征维度: (158, 2048)\n",
      "使用设备: cuda\n"
     ]
    },
    {
     "name": "stderr",
     "output_type": "stream",
     "text": [
      "提取特征: 100%|██████████| 6/6 [00:00<00:00,  6.50it/s]\n",
      "按类别清洗:  30%|██▉       | 260/879 [05:10<12:07,  1.18s/it]"
     ]
    },
    {
     "name": "stdout",
     "output_type": "stream",
     "text": [
      "成功提取 177 个图像的特征，特征维度: (177, 2048)\n",
      "使用设备: cuda\n"
     ]
    },
    {
     "name": "stderr",
     "output_type": "stream",
     "text": [
      "提取特征: 100%|██████████| 6/6 [00:00<00:00,  6.83it/s]\n",
      "按类别清洗:  30%|██▉       | 261/879 [05:11<11:59,  1.16s/it]"
     ]
    },
    {
     "name": "stdout",
     "output_type": "stream",
     "text": [
      "成功提取 177 个图像的特征，特征维度: (177, 2048)\n",
      "使用设备: cuda\n"
     ]
    },
    {
     "name": "stderr",
     "output_type": "stream",
     "text": [
      "提取特征: 100%|██████████| 6/6 [00:00<00:00,  6.31it/s]\n",
      "按类别清洗:  30%|██▉       | 262/879 [05:13<12:05,  1.18s/it]"
     ]
    },
    {
     "name": "stdout",
     "output_type": "stream",
     "text": [
      "成功提取 176 个图像的特征，特征维度: (176, 2048)\n",
      "使用设备: cuda\n"
     ]
    },
    {
     "name": "stderr",
     "output_type": "stream",
     "text": [
      "提取特征: 100%|██████████| 6/6 [00:00<00:00,  7.00it/s]\n",
      "按类别清洗:  30%|██▉       | 263/879 [05:14<11:56,  1.16s/it]"
     ]
    },
    {
     "name": "stdout",
     "output_type": "stream",
     "text": [
      "成功提取 176 个图像的特征，特征维度: (176, 2048)\n",
      "使用设备: cuda\n"
     ]
    },
    {
     "name": "stderr",
     "output_type": "stream",
     "text": [
      "提取特征: 100%|██████████| 6/6 [00:00<00:00,  6.31it/s]\n",
      "按类别清洗:  30%|███       | 264/879 [05:15<12:04,  1.18s/it]"
     ]
    },
    {
     "name": "stdout",
     "output_type": "stream",
     "text": [
      "成功提取 176 个图像的特征，特征维度: (176, 2048)\n",
      "使用设备: cuda\n"
     ]
    },
    {
     "name": "stderr",
     "output_type": "stream",
     "text": [
      "提取特征: 100%|██████████| 6/6 [00:00<00:00,  7.36it/s]\n",
      "按类别清洗:  30%|███       | 265/879 [05:16<11:45,  1.15s/it]"
     ]
    },
    {
     "name": "stdout",
     "output_type": "stream",
     "text": [
      "成功提取 178 个图像的特征，特征维度: (178, 2048)\n",
      "使用设备: cuda\n"
     ]
    },
    {
     "name": "stderr",
     "output_type": "stream",
     "text": [
      "提取特征: 100%|██████████| 5/5 [00:00<00:00,  6.18it/s]\n",
      "按类别清洗:  30%|███       | 266/879 [05:17<11:24,  1.12s/it]"
     ]
    },
    {
     "name": "stdout",
     "output_type": "stream",
     "text": [
      "成功提取 158 个图像的特征，特征维度: (158, 2048)\n",
      "使用设备: cuda\n"
     ]
    },
    {
     "name": "stderr",
     "output_type": "stream",
     "text": [
      "提取特征: 100%|██████████| 6/6 [00:00<00:00,  6.37it/s]\n",
      "按类别清洗:  30%|███       | 267/879 [05:18<11:40,  1.14s/it]"
     ]
    },
    {
     "name": "stdout",
     "output_type": "stream",
     "text": [
      "成功提取 173 个图像的特征，特征维度: (173, 2048)\n",
      "使用设备: cuda\n"
     ]
    },
    {
     "name": "stderr",
     "output_type": "stream",
     "text": [
      "提取特征: 100%|██████████| 6/6 [00:00<00:00,  6.26it/s]\n",
      "按类别清洗:  30%|███       | 268/879 [05:20<11:53,  1.17s/it]"
     ]
    },
    {
     "name": "stdout",
     "output_type": "stream",
     "text": [
      "成功提取 175 个图像的特征，特征维度: (175, 2048)\n",
      "使用设备: cuda\n"
     ]
    },
    {
     "name": "stderr",
     "output_type": "stream",
     "text": [
      "提取特征: 100%|██████████| 6/6 [00:00<00:00,  6.86it/s]\n",
      "按类别清洗:  31%|███       | 269/879 [05:21<11:44,  1.16s/it]"
     ]
    },
    {
     "name": "stdout",
     "output_type": "stream",
     "text": [
      "成功提取 176 个图像的特征，特征维度: (176, 2048)\n",
      "使用设备: cuda\n"
     ]
    },
    {
     "name": "stderr",
     "output_type": "stream",
     "text": [
      "提取特征: 100%|██████████| 6/6 [00:00<00:00,  6.43it/s]\n",
      "按类别清洗:  31%|███       | 270/879 [05:22<11:51,  1.17s/it]"
     ]
    },
    {
     "name": "stdout",
     "output_type": "stream",
     "text": [
      "成功提取 178 个图像的特征，特征维度: (178, 2048)\n",
      "使用设备: cuda\n"
     ]
    },
    {
     "name": "stderr",
     "output_type": "stream",
     "text": [
      "提取特征: 100%|██████████| 5/5 [00:00<00:00,  5.89it/s]\n",
      "按类别清洗:  31%|███       | 271/879 [05:23<11:39,  1.15s/it]"
     ]
    },
    {
     "name": "stdout",
     "output_type": "stream",
     "text": [
      "成功提取 159 个图像的特征，特征维度: (159, 2048)\n",
      "使用设备: cuda\n"
     ]
    },
    {
     "name": "stderr",
     "output_type": "stream",
     "text": [
      "提取特征: 100%|██████████| 5/5 [00:00<00:00,  6.66it/s]\n",
      "按类别清洗:  31%|███       | 272/879 [05:24<11:13,  1.11s/it]"
     ]
    },
    {
     "name": "stdout",
     "output_type": "stream",
     "text": [
      "成功提取 158 个图像的特征，特征维度: (158, 2048)\n",
      "使用设备: cuda\n"
     ]
    },
    {
     "name": "stderr",
     "output_type": "stream",
     "text": [
      "提取特征: 100%|██████████| 5/5 [00:00<00:00,  6.83it/s]\n",
      "按类别清洗:  31%|███       | 273/879 [05:25<10:44,  1.06s/it]"
     ]
    },
    {
     "name": "stdout",
     "output_type": "stream",
     "text": [
      "成功提取 140 个图像的特征，特征维度: (140, 2048)\n",
      "使用设备: cuda\n"
     ]
    },
    {
     "name": "stderr",
     "output_type": "stream",
     "text": [
      "提取特征: 100%|██████████| 5/5 [00:00<00:00,  5.75it/s]\n",
      "按类别清洗:  31%|███       | 274/879 [05:26<10:49,  1.07s/it]"
     ]
    },
    {
     "name": "stdout",
     "output_type": "stream",
     "text": [
      "成功提取 143 个图像的特征，特征维度: (143, 2048)\n",
      "使用设备: cuda\n"
     ]
    },
    {
     "name": "stderr",
     "output_type": "stream",
     "text": [
      "提取特征: 100%|██████████| 6/6 [00:00<00:00,  6.51it/s]\n",
      "按类别清洗:  31%|███▏      | 275/879 [05:27<11:08,  1.11s/it]"
     ]
    },
    {
     "name": "stdout",
     "output_type": "stream",
     "text": [
      "成功提取 174 个图像的特征，特征维度: (174, 2048)\n",
      "使用设备: cuda\n"
     ]
    },
    {
     "name": "stderr",
     "output_type": "stream",
     "text": [
      "提取特征: 100%|██████████| 6/6 [00:01<00:00,  5.84it/s]\n",
      "按类别清洗:  31%|███▏      | 276/879 [05:29<11:39,  1.16s/it]"
     ]
    },
    {
     "name": "stdout",
     "output_type": "stream",
     "text": [
      "成功提取 176 个图像的特征，特征维度: (176, 2048)\n",
      "使用设备: cuda\n"
     ]
    },
    {
     "name": "stderr",
     "output_type": "stream",
     "text": [
      "提取特征: 100%|██████████| 6/6 [00:00<00:00,  6.63it/s]\n",
      "按类别清洗:  32%|███▏      | 277/879 [05:30<11:39,  1.16s/it]"
     ]
    },
    {
     "name": "stdout",
     "output_type": "stream",
     "text": [
      "成功提取 174 个图像的特征，特征维度: (174, 2048)\n",
      "使用设备: cuda\n"
     ]
    },
    {
     "name": "stderr",
     "output_type": "stream",
     "text": [
      "提取特征: 100%|██████████| 6/6 [00:01<00:00,  5.76it/s]\n",
      "按类别清洗:  32%|███▏      | 278/879 [05:31<12:05,  1.21s/it]"
     ]
    },
    {
     "name": "stdout",
     "output_type": "stream",
     "text": [
      "成功提取 178 个图像的特征，特征维度: (178, 2048)\n",
      "使用设备: cuda\n"
     ]
    },
    {
     "name": "stderr",
     "output_type": "stream",
     "text": [
      "提取特征: 100%|██████████| 6/6 [00:01<00:00,  5.54it/s]\n",
      "按类别清洗:  32%|███▏      | 279/879 [05:32<12:30,  1.25s/it]"
     ]
    },
    {
     "name": "stdout",
     "output_type": "stream",
     "text": [
      "成功提取 176 个图像的特征，特征维度: (176, 2048)\n",
      "使用设备: cuda\n"
     ]
    },
    {
     "name": "stderr",
     "output_type": "stream",
     "text": [
      "提取特征: 100%|██████████| 6/6 [00:00<00:00,  6.48it/s]\n",
      "按类别清洗:  32%|███▏      | 280/879 [05:34<12:17,  1.23s/it]"
     ]
    },
    {
     "name": "stdout",
     "output_type": "stream",
     "text": [
      "成功提取 178 个图像的特征，特征维度: (178, 2048)\n",
      "使用设备: cuda\n"
     ]
    },
    {
     "name": "stderr",
     "output_type": "stream",
     "text": [
      "提取特征: 100%|██████████| 6/6 [00:00<00:00,  6.27it/s]\n",
      "按类别清洗:  32%|███▏      | 281/879 [05:35<12:14,  1.23s/it]"
     ]
    },
    {
     "name": "stdout",
     "output_type": "stream",
     "text": [
      "成功提取 178 个图像的特征，特征维度: (178, 2048)\n",
      "使用设备: cuda\n"
     ]
    },
    {
     "name": "stderr",
     "output_type": "stream",
     "text": [
      "提取特征: 100%|██████████| 5/5 [00:00<00:00,  5.40it/s]\n",
      "按类别清洗:  32%|███▏      | 282/879 [05:36<12:08,  1.22s/it]"
     ]
    },
    {
     "name": "stdout",
     "output_type": "stream",
     "text": [
      "成功提取 155 个图像的特征，特征维度: (155, 2048)\n",
      "使用设备: cuda\n"
     ]
    },
    {
     "name": "stderr",
     "output_type": "stream",
     "text": [
      "提取特征: 100%|██████████| 5/5 [00:00<00:00,  5.47it/s]\n",
      "按类别清洗:  32%|███▏      | 283/879 [05:37<11:58,  1.21s/it]"
     ]
    },
    {
     "name": "stdout",
     "output_type": "stream",
     "text": [
      "成功提取 158 个图像的特征，特征维度: (158, 2048)\n",
      "使用设备: cuda\n"
     ]
    },
    {
     "name": "stderr",
     "output_type": "stream",
     "text": [
      "提取特征: 100%|██████████| 6/6 [00:01<00:00,  5.58it/s]\n",
      "按类别清洗:  32%|███▏      | 284/879 [05:38<12:22,  1.25s/it]"
     ]
    },
    {
     "name": "stdout",
     "output_type": "stream",
     "text": [
      "成功提取 177 个图像的特征，特征维度: (177, 2048)\n",
      "使用设备: cuda\n"
     ]
    },
    {
     "name": "stderr",
     "output_type": "stream",
     "text": [
      "提取特征: 100%|██████████| 5/5 [00:00<00:00,  5.78it/s]\n",
      "按类别清洗:  32%|███▏      | 285/879 [05:40<11:57,  1.21s/it]"
     ]
    },
    {
     "name": "stdout",
     "output_type": "stream",
     "text": [
      "成功提取 156 个图像的特征，特征维度: (156, 2048)\n",
      "使用设备: cuda\n"
     ]
    },
    {
     "name": "stderr",
     "output_type": "stream",
     "text": [
      "提取特征: 100%|██████████| 5/5 [00:00<00:00,  6.24it/s]\n",
      "按类别清洗:  33%|███▎      | 286/879 [05:41<11:29,  1.16s/it]"
     ]
    },
    {
     "name": "stdout",
     "output_type": "stream",
     "text": [
      "成功提取 139 个图像的特征，特征维度: (139, 2048)\n",
      "使用设备: cuda\n"
     ]
    },
    {
     "name": "stderr",
     "output_type": "stream",
     "text": [
      "提取特征: 100%|██████████| 5/5 [00:00<00:00,  7.02it/s]\n",
      "按类别清洗:  33%|███▎      | 287/879 [05:42<10:53,  1.10s/it]"
     ]
    },
    {
     "name": "stdout",
     "output_type": "stream",
     "text": [
      "成功提取 140 个图像的特征，特征维度: (140, 2048)\n",
      "使用设备: cuda\n"
     ]
    },
    {
     "name": "stderr",
     "output_type": "stream",
     "text": [
      "提取特征: 100%|██████████| 4/4 [00:00<00:00,  5.87it/s]\n",
      "按类别清洗:  33%|███▎      | 288/879 [05:43<10:16,  1.04s/it]"
     ]
    },
    {
     "name": "stdout",
     "output_type": "stream",
     "text": [
      "成功提取 125 个图像的特征，特征维度: (125, 2048)\n",
      "使用设备: cuda\n"
     ]
    },
    {
     "name": "stderr",
     "output_type": "stream",
     "text": [
      "提取特征: 100%|██████████| 6/6 [00:00<00:00,  6.42it/s]\n",
      "按类别清洗:  33%|███▎      | 289/879 [05:44<10:34,  1.08s/it]"
     ]
    },
    {
     "name": "stdout",
     "output_type": "stream",
     "text": [
      "成功提取 177 个图像的特征，特征维度: (177, 2048)\n",
      "使用设备: cuda\n"
     ]
    },
    {
     "name": "stderr",
     "output_type": "stream",
     "text": [
      "提取特征: 100%|██████████| 6/6 [00:00<00:00,  6.27it/s]\n",
      "按类别清洗:  33%|███▎      | 290/879 [05:45<10:56,  1.11s/it]"
     ]
    },
    {
     "name": "stdout",
     "output_type": "stream",
     "text": [
      "成功提取 176 个图像的特征，特征维度: (176, 2048)\n",
      "使用设备: cuda\n"
     ]
    },
    {
     "name": "stderr",
     "output_type": "stream",
     "text": [
      "提取特征: 100%|██████████| 6/6 [00:01<00:00,  5.94it/s]\n",
      "按类别清洗:  33%|███▎      | 291/879 [05:46<11:25,  1.17s/it]"
     ]
    },
    {
     "name": "stdout",
     "output_type": "stream",
     "text": [
      "成功提取 178 个图像的特征，特征维度: (178, 2048)\n",
      "使用设备: cuda\n"
     ]
    },
    {
     "name": "stderr",
     "output_type": "stream",
     "text": [
      "提取特征: 100%|██████████| 6/6 [00:00<00:00,  6.70it/s]\n",
      "按类别清洗:  33%|███▎      | 292/879 [05:47<11:22,  1.16s/it]"
     ]
    },
    {
     "name": "stdout",
     "output_type": "stream",
     "text": [
      "成功提取 171 个图像的特征，特征维度: (171, 2048)\n",
      "使用设备: cuda\n"
     ]
    },
    {
     "name": "stderr",
     "output_type": "stream",
     "text": [
      "提取特征: 100%|██████████| 5/5 [00:00<00:00,  5.69it/s]\n",
      "按类别清洗:  33%|███▎      | 293/879 [05:48<11:18,  1.16s/it]"
     ]
    },
    {
     "name": "stdout",
     "output_type": "stream",
     "text": [
      "成功提取 154 个图像的特征，特征维度: (154, 2048)\n",
      "使用设备: cuda\n"
     ]
    },
    {
     "name": "stderr",
     "output_type": "stream",
     "text": [
      "提取特征: 100%|██████████| 5/5 [00:00<00:00,  6.97it/s]\n",
      "按类别清洗:  33%|███▎      | 294/879 [05:49<10:45,  1.10s/it]"
     ]
    },
    {
     "name": "stdout",
     "output_type": "stream",
     "text": [
      "成功提取 137 个图像的特征，特征维度: (137, 2048)\n",
      "使用设备: cuda\n"
     ]
    },
    {
     "name": "stderr",
     "output_type": "stream",
     "text": [
      "提取特征: 100%|██████████| 6/6 [00:00<00:00,  6.68it/s]\n",
      "按类别清洗:  34%|███▎      | 295/879 [05:51<10:44,  1.10s/it]"
     ]
    },
    {
     "name": "stdout",
     "output_type": "stream",
     "text": [
      "成功提取 177 个图像的特征，特征维度: (177, 2048)\n",
      "使用设备: cuda\n"
     ]
    },
    {
     "name": "stderr",
     "output_type": "stream",
     "text": [
      "提取特征: 100%|██████████| 6/6 [00:00<00:00,  7.01it/s]\n",
      "按类别清洗:  34%|███▎      | 296/879 [05:52<10:45,  1.11s/it]"
     ]
    },
    {
     "name": "stdout",
     "output_type": "stream",
     "text": [
      "成功提取 161 个图像的特征，特征维度: (161, 2048)\n",
      "使用设备: cuda\n"
     ]
    },
    {
     "name": "stderr",
     "output_type": "stream",
     "text": [
      "提取特征: 100%|██████████| 6/6 [00:00<00:00,  6.31it/s]\n",
      "按类别清洗:  34%|███▍      | 297/879 [05:53<11:04,  1.14s/it]"
     ]
    },
    {
     "name": "stdout",
     "output_type": "stream",
     "text": [
      "成功提取 178 个图像的特征，特征维度: (178, 2048)\n",
      "使用设备: cuda\n"
     ]
    },
    {
     "name": "stderr",
     "output_type": "stream",
     "text": [
      "提取特征: 100%|██████████| 6/6 [00:00<00:00,  6.29it/s]\n",
      "按类别清洗:  34%|███▍      | 298/879 [05:54<11:16,  1.16s/it]"
     ]
    },
    {
     "name": "stdout",
     "output_type": "stream",
     "text": [
      "成功提取 178 个图像的特征，特征维度: (178, 2048)\n",
      "使用设备: cuda\n"
     ]
    },
    {
     "name": "stderr",
     "output_type": "stream",
     "text": [
      "提取特征: 100%|██████████| 6/6 [00:00<00:00,  7.00it/s]\n",
      "按类别清洗:  34%|███▍      | 299/879 [05:55<11:05,  1.15s/it]"
     ]
    },
    {
     "name": "stdout",
     "output_type": "stream",
     "text": [
      "成功提取 174 个图像的特征，特征维度: (174, 2048)\n",
      "使用设备: cuda\n"
     ]
    },
    {
     "name": "stderr",
     "output_type": "stream",
     "text": [
      "提取特征: 100%|██████████| 5/5 [00:00<00:00,  6.56it/s]\n",
      "按类别清洗:  34%|███▍      | 300/879 [05:56<10:42,  1.11s/it]"
     ]
    },
    {
     "name": "stdout",
     "output_type": "stream",
     "text": [
      "成功提取 141 个图像的特征，特征维度: (141, 2048)\n",
      "使用设备: cuda\n"
     ]
    },
    {
     "name": "stderr",
     "output_type": "stream",
     "text": [
      "提取特征: 100%|██████████| 6/6 [00:00<00:00,  6.17it/s]\n",
      "按类别清洗:  34%|███▍      | 301/879 [05:57<10:53,  1.13s/it]"
     ]
    },
    {
     "name": "stdout",
     "output_type": "stream",
     "text": [
      "成功提取 178 个图像的特征，特征维度: (178, 2048)\n",
      "使用设备: cuda\n"
     ]
    },
    {
     "name": "stderr",
     "output_type": "stream",
     "text": [
      "提取特征: 100%|██████████| 6/6 [00:00<00:00,  6.34it/s]\n",
      "按类别清洗:  34%|███▍      | 302/879 [05:59<11:04,  1.15s/it]"
     ]
    },
    {
     "name": "stdout",
     "output_type": "stream",
     "text": [
      "成功提取 178 个图像的特征，特征维度: (178, 2048)\n",
      "使用设备: cuda\n"
     ]
    },
    {
     "name": "stderr",
     "output_type": "stream",
     "text": [
      "提取特征: 100%|██████████| 6/6 [00:00<00:00,  6.00it/s]\n",
      "按类别清洗:  34%|███▍      | 303/879 [06:00<11:22,  1.19s/it]"
     ]
    },
    {
     "name": "stdout",
     "output_type": "stream",
     "text": [
      "成功提取 174 个图像的特征，特征维度: (174, 2048)\n",
      "使用设备: cuda\n"
     ]
    },
    {
     "name": "stderr",
     "output_type": "stream",
     "text": [
      "提取特征: 100%|██████████| 6/6 [00:00<00:00,  6.27it/s]\n",
      "按类别清洗:  35%|███▍      | 304/879 [06:01<11:30,  1.20s/it]"
     ]
    },
    {
     "name": "stdout",
     "output_type": "stream",
     "text": [
      "成功提取 174 个图像的特征，特征维度: (174, 2048)\n",
      "使用设备: cuda\n"
     ]
    },
    {
     "name": "stderr",
     "output_type": "stream",
     "text": [
      "提取特征: 100%|██████████| 5/5 [00:00<00:00,  5.33it/s]\n",
      "按类别清洗:  35%|███▍      | 305/879 [06:02<11:33,  1.21s/it]"
     ]
    },
    {
     "name": "stdout",
     "output_type": "stream",
     "text": [
      "成功提取 156 个图像的特征，特征维度: (156, 2048)\n",
      "使用设备: cuda\n"
     ]
    },
    {
     "name": "stderr",
     "output_type": "stream",
     "text": [
      "提取特征: 100%|██████████| 5/5 [00:00<00:00,  5.82it/s]\n",
      "按类别清洗:  35%|███▍      | 306/879 [06:03<11:20,  1.19s/it]"
     ]
    },
    {
     "name": "stdout",
     "output_type": "stream",
     "text": [
      "成功提取 146 个图像的特征，特征维度: (146, 2048)\n",
      "使用设备: cuda\n"
     ]
    },
    {
     "name": "stderr",
     "output_type": "stream",
     "text": [
      "提取特征: 100%|██████████| 5/5 [00:00<00:00,  6.59it/s]\n",
      "按类别清洗:  35%|███▍      | 307/879 [06:05<10:50,  1.14s/it]"
     ]
    },
    {
     "name": "stdout",
     "output_type": "stream",
     "text": [
      "成功提取 131 个图像的特征，特征维度: (131, 2048)\n",
      "使用设备: cuda\n"
     ]
    },
    {
     "name": "stderr",
     "output_type": "stream",
     "text": [
      "提取特征: 100%|██████████| 6/6 [00:01<00:00,  5.74it/s]\n",
      "按类别清洗:  35%|███▌      | 308/879 [06:06<11:21,  1.19s/it]"
     ]
    },
    {
     "name": "stdout",
     "output_type": "stream",
     "text": [
      "成功提取 176 个图像的特征，特征维度: (176, 2048)\n",
      "使用设备: cuda\n"
     ]
    },
    {
     "name": "stderr",
     "output_type": "stream",
     "text": [
      "提取特征: 100%|██████████| 5/5 [00:00<00:00,  5.77it/s]\n",
      "按类别清洗:  35%|███▌      | 309/879 [06:07<11:08,  1.17s/it]"
     ]
    },
    {
     "name": "stdout",
     "output_type": "stream",
     "text": [
      "成功提取 158 个图像的特征，特征维度: (158, 2048)\n",
      "使用设备: cuda\n"
     ]
    },
    {
     "name": "stderr",
     "output_type": "stream",
     "text": [
      "提取特征: 100%|██████████| 5/5 [00:00<00:00,  6.12it/s]\n",
      "按类别清洗:  35%|███▌      | 310/879 [06:08<10:50,  1.14s/it]"
     ]
    },
    {
     "name": "stdout",
     "output_type": "stream",
     "text": [
      "成功提取 140 个图像的特征，特征维度: (140, 2048)\n",
      "使用设备: cuda\n"
     ]
    },
    {
     "name": "stderr",
     "output_type": "stream",
     "text": [
      "提取特征: 100%|██████████| 5/5 [00:00<00:00,  5.20it/s]\n",
      "按类别清洗:  35%|███▌      | 311/879 [06:09<11:05,  1.17s/it]"
     ]
    },
    {
     "name": "stdout",
     "output_type": "stream",
     "text": [
      "成功提取 159 个图像的特征，特征维度: (159, 2048)\n",
      "使用设备: cuda\n"
     ]
    },
    {
     "name": "stderr",
     "output_type": "stream",
     "text": [
      "提取特征: 100%|██████████| 4/4 [00:00<00:00,  6.35it/s]\n",
      "按类别清洗:  35%|███▌      | 312/879 [06:10<10:17,  1.09s/it]"
     ]
    },
    {
     "name": "stdout",
     "output_type": "stream",
     "text": [
      "成功提取 115 个图像的特征，特征维度: (115, 2048)\n",
      "使用设备: cuda\n"
     ]
    },
    {
     "name": "stderr",
     "output_type": "stream",
     "text": [
      "提取特征: 100%|██████████| 6/6 [00:01<00:00,  5.59it/s]\n",
      "按类别清洗:  36%|███▌      | 313/879 [06:11<10:54,  1.16s/it]"
     ]
    },
    {
     "name": "stdout",
     "output_type": "stream",
     "text": [
      "成功提取 178 个图像的特征，特征维度: (178, 2048)\n",
      "使用设备: cuda\n"
     ]
    },
    {
     "name": "stderr",
     "output_type": "stream",
     "text": [
      "提取特征: 100%|██████████| 6/6 [00:00<00:00,  6.14it/s]\n",
      "按类别清洗:  36%|███▌      | 314/879 [06:13<11:08,  1.18s/it]"
     ]
    },
    {
     "name": "stdout",
     "output_type": "stream",
     "text": [
      "成功提取 177 个图像的特征，特征维度: (177, 2048)\n",
      "使用设备: cuda\n"
     ]
    },
    {
     "name": "stderr",
     "output_type": "stream",
     "text": [
      "提取特征: 100%|██████████| 6/6 [00:01<00:00,  6.00it/s]\n",
      "按类别清洗:  36%|███▌      | 315/879 [06:14<11:21,  1.21s/it]"
     ]
    },
    {
     "name": "stdout",
     "output_type": "stream",
     "text": [
      "成功提取 176 个图像的特征，特征维度: (176, 2048)\n",
      "使用设备: cuda\n"
     ]
    },
    {
     "name": "stderr",
     "output_type": "stream",
     "text": [
      "提取特征: 100%|██████████| 6/6 [00:01<00:00,  5.68it/s]\n",
      "按类别清洗:  36%|███▌      | 316/879 [06:15<11:39,  1.24s/it]"
     ]
    },
    {
     "name": "stdout",
     "output_type": "stream",
     "text": [
      "成功提取 178 个图像的特征，特征维度: (178, 2048)\n",
      "使用设备: cuda\n"
     ]
    },
    {
     "name": "stderr",
     "output_type": "stream",
     "text": [
      "提取特征: 100%|██████████| 6/6 [00:01<00:00,  5.79it/s]\n",
      "按类别清洗:  36%|███▌      | 317/879 [06:17<11:46,  1.26s/it]"
     ]
    },
    {
     "name": "stdout",
     "output_type": "stream",
     "text": [
      "成功提取 176 个图像的特征，特征维度: (176, 2048)\n",
      "使用设备: cuda\n"
     ]
    },
    {
     "name": "stderr",
     "output_type": "stream",
     "text": [
      "提取特征: 100%|██████████| 6/6 [00:00<00:00,  6.34it/s]\n",
      "按类别清洗:  36%|███▌      | 318/879 [06:18<11:39,  1.25s/it]"
     ]
    },
    {
     "name": "stdout",
     "output_type": "stream",
     "text": [
      "成功提取 178 个图像的特征，特征维度: (178, 2048)\n",
      "使用设备: cuda\n"
     ]
    },
    {
     "name": "stderr",
     "output_type": "stream",
     "text": [
      "提取特征: 100%|██████████| 6/6 [00:00<00:00,  6.59it/s]\n",
      "按类别清洗:  36%|███▋      | 319/879 [06:19<11:24,  1.22s/it]"
     ]
    },
    {
     "name": "stdout",
     "output_type": "stream",
     "text": [
      "成功提取 173 个图像的特征，特征维度: (173, 2048)\n",
      "使用设备: cuda\n"
     ]
    },
    {
     "name": "stderr",
     "output_type": "stream",
     "text": [
      "提取特征: 100%|██████████| 6/6 [00:00<00:00,  6.83it/s]\n",
      "按类别清洗:  36%|███▋      | 320/879 [06:20<11:10,  1.20s/it]"
     ]
    },
    {
     "name": "stdout",
     "output_type": "stream",
     "text": [
      "成功提取 174 个图像的特征，特征维度: (174, 2048)\n",
      "使用设备: cuda\n"
     ]
    },
    {
     "name": "stderr",
     "output_type": "stream",
     "text": [
      "提取特征: 100%|██████████| 6/6 [00:00<00:00,  6.33it/s]\n",
      "按类别清洗:  37%|███▋      | 321/879 [06:21<11:13,  1.21s/it]"
     ]
    },
    {
     "name": "stdout",
     "output_type": "stream",
     "text": [
      "成功提取 174 个图像的特征，特征维度: (174, 2048)\n",
      "使用设备: cuda\n"
     ]
    },
    {
     "name": "stderr",
     "output_type": "stream",
     "text": [
      "提取特征: 100%|██████████| 6/6 [00:00<00:00,  6.41it/s]\n",
      "按类别清洗:  37%|███▋      | 322/879 [06:23<11:09,  1.20s/it]"
     ]
    },
    {
     "name": "stdout",
     "output_type": "stream",
     "text": [
      "成功提取 176 个图像的特征，特征维度: (176, 2048)\n",
      "使用设备: cuda\n"
     ]
    },
    {
     "name": "stderr",
     "output_type": "stream",
     "text": [
      "提取特征: 100%|██████████| 5/5 [00:00<00:00,  5.49it/s]\n",
      "按类别清洗:  37%|███▋      | 323/879 [06:24<11:09,  1.20s/it]"
     ]
    },
    {
     "name": "stdout",
     "output_type": "stream",
     "text": [
      "成功提取 160 个图像的特征，特征维度: (160, 2048)\n",
      "使用设备: cuda\n"
     ]
    },
    {
     "name": "stderr",
     "output_type": "stream",
     "text": [
      "提取特征: 100%|██████████| 4/4 [00:00<00:00,  6.11it/s]\n",
      "按类别清洗:  37%|███▋      | 324/879 [06:25<10:20,  1.12s/it]"
     ]
    },
    {
     "name": "stdout",
     "output_type": "stream",
     "text": [
      "成功提取 124 个图像的特征，特征维度: (124, 2048)\n",
      "使用设备: cuda\n"
     ]
    },
    {
     "name": "stderr",
     "output_type": "stream",
     "text": [
      "提取特征: 100%|██████████| 5/5 [00:00<00:00,  5.95it/s]\n",
      "按类别清洗:  37%|███▋      | 325/879 [06:26<10:11,  1.10s/it]"
     ]
    },
    {
     "name": "stdout",
     "output_type": "stream",
     "text": [
      "成功提取 158 个图像的特征，特征维度: (158, 2048)\n",
      "使用设备: cuda\n"
     ]
    },
    {
     "name": "stderr",
     "output_type": "stream",
     "text": [
      "提取特征: 100%|██████████| 6/6 [00:00<00:00,  6.33it/s]\n",
      "按类别清洗:  37%|███▋      | 326/879 [06:27<10:32,  1.14s/it]"
     ]
    },
    {
     "name": "stdout",
     "output_type": "stream",
     "text": [
      "成功提取 178 个图像的特征，特征维度: (178, 2048)\n",
      "使用设备: cuda\n"
     ]
    },
    {
     "name": "stderr",
     "output_type": "stream",
     "text": [
      "提取特征: 100%|██████████| 6/6 [00:01<00:00,  5.87it/s]\n",
      "按类别清洗:  37%|███▋      | 327/879 [06:28<10:54,  1.19s/it]"
     ]
    },
    {
     "name": "stdout",
     "output_type": "stream",
     "text": [
      "成功提取 178 个图像的特征，特征维度: (178, 2048)\n",
      "使用设备: cuda\n"
     ]
    },
    {
     "name": "stderr",
     "output_type": "stream",
     "text": [
      "提取特征: 100%|██████████| 6/6 [00:00<00:00,  6.23it/s]\n",
      "按类别清洗:  37%|███▋      | 328/879 [06:30<11:16,  1.23s/it]"
     ]
    },
    {
     "name": "stdout",
     "output_type": "stream",
     "text": [
      "成功提取 177 个图像的特征，特征维度: (177, 2048)\n",
      "使用设备: cuda\n"
     ]
    },
    {
     "name": "stderr",
     "output_type": "stream",
     "text": [
      "提取特征: 100%|██████████| 5/5 [00:00<00:00,  5.83it/s]\n",
      "按类别清洗:  37%|███▋      | 329/879 [06:31<11:02,  1.20s/it]"
     ]
    },
    {
     "name": "stdout",
     "output_type": "stream",
     "text": [
      "成功提取 159 个图像的特征，特征维度: (159, 2048)\n",
      "使用设备: cuda\n"
     ]
    },
    {
     "name": "stderr",
     "output_type": "stream",
     "text": [
      "提取特征: 100%|██████████| 5/5 [00:00<00:00,  6.08it/s]\n",
      "按类别清洗:  38%|███▊      | 330/879 [06:32<10:44,  1.17s/it]"
     ]
    },
    {
     "name": "stdout",
     "output_type": "stream",
     "text": [
      "成功提取 159 个图像的特征，特征维度: (159, 2048)\n",
      "使用设备: cuda\n"
     ]
    },
    {
     "name": "stderr",
     "output_type": "stream",
     "text": [
      "提取特征: 100%|██████████| 5/5 [00:00<00:00,  5.81it/s]\n",
      "按类别清洗:  38%|███▊      | 331/879 [06:33<10:35,  1.16s/it]"
     ]
    },
    {
     "name": "stdout",
     "output_type": "stream",
     "text": [
      "成功提取 157 个图像的特征，特征维度: (157, 2048)\n",
      "使用设备: cuda\n"
     ]
    },
    {
     "name": "stderr",
     "output_type": "stream",
     "text": [
      "提取特征: 100%|██████████| 6/6 [00:01<00:00,  5.67it/s]\n",
      "按类别清洗:  38%|███▊      | 332/879 [06:34<11:03,  1.21s/it]"
     ]
    },
    {
     "name": "stdout",
     "output_type": "stream",
     "text": [
      "成功提取 176 个图像的特征，特征维度: (176, 2048)\n",
      "使用设备: cuda\n"
     ]
    },
    {
     "name": "stderr",
     "output_type": "stream",
     "text": [
      "提取特征: 100%|██████████| 6/6 [00:00<00:00,  6.01it/s]\n",
      "按类别清洗:  38%|███▊      | 333/879 [06:36<11:10,  1.23s/it]"
     ]
    },
    {
     "name": "stdout",
     "output_type": "stream",
     "text": [
      "成功提取 173 个图像的特征，特征维度: (173, 2048)\n",
      "使用设备: cuda\n"
     ]
    },
    {
     "name": "stderr",
     "output_type": "stream",
     "text": [
      "提取特征: 100%|██████████| 6/6 [00:01<00:00,  5.71it/s]\n",
      "按类别清洗:  38%|███▊      | 334/879 [06:37<11:23,  1.25s/it]"
     ]
    },
    {
     "name": "stdout",
     "output_type": "stream",
     "text": [
      "成功提取 177 个图像的特征，特征维度: (177, 2048)\n",
      "使用设备: cuda\n"
     ]
    },
    {
     "name": "stderr",
     "output_type": "stream",
     "text": [
      "提取特征: 100%|██████████| 5/5 [00:00<00:00,  5.96it/s]\n",
      "按类别清洗:  38%|███▊      | 335/879 [06:38<10:56,  1.21s/it]"
     ]
    },
    {
     "name": "stdout",
     "output_type": "stream",
     "text": [
      "成功提取 158 个图像的特征，特征维度: (158, 2048)\n",
      "使用设备: cuda\n"
     ]
    },
    {
     "name": "stderr",
     "output_type": "stream",
     "text": [
      "提取特征: 100%|██████████| 6/6 [00:01<00:00,  5.93it/s]\n",
      "按类别清洗:  38%|███▊      | 336/879 [06:39<11:06,  1.23s/it]"
     ]
    },
    {
     "name": "stdout",
     "output_type": "stream",
     "text": [
      "成功提取 177 个图像的特征，特征维度: (177, 2048)\n",
      "使用设备: cuda\n"
     ]
    },
    {
     "name": "stderr",
     "output_type": "stream",
     "text": [
      "提取特征: 100%|██████████| 6/6 [00:00<00:00,  6.62it/s]\n",
      "按类别清洗:  38%|███▊      | 337/879 [06:40<10:56,  1.21s/it]"
     ]
    },
    {
     "name": "stdout",
     "output_type": "stream",
     "text": [
      "成功提取 178 个图像的特征，特征维度: (178, 2048)\n",
      "使用设备: cuda\n"
     ]
    },
    {
     "name": "stderr",
     "output_type": "stream",
     "text": [
      "提取特征: 100%|██████████| 5/5 [00:00<00:00,  6.70it/s]\n",
      "按类别清洗:  38%|███▊      | 338/879 [06:41<10:21,  1.15s/it]"
     ]
    },
    {
     "name": "stdout",
     "output_type": "stream",
     "text": [
      "成功提取 142 个图像的特征，特征维度: (142, 2048)\n",
      "使用设备: cuda\n"
     ]
    },
    {
     "name": "stderr",
     "output_type": "stream",
     "text": [
      "提取特征: 100%|██████████| 6/6 [00:00<00:00,  6.01it/s]\n",
      "按类别清洗:  39%|███▊      | 339/879 [06:43<10:35,  1.18s/it]"
     ]
    },
    {
     "name": "stdout",
     "output_type": "stream",
     "text": [
      "成功提取 170 个图像的特征，特征维度: (170, 2048)\n",
      "使用设备: cuda\n"
     ]
    },
    {
     "name": "stderr",
     "output_type": "stream",
     "text": [
      "提取特征: 100%|██████████| 6/6 [00:00<00:00,  6.07it/s]\n",
      "按类别清洗:  39%|███▊      | 340/879 [06:44<11:10,  1.24s/it]"
     ]
    },
    {
     "name": "stdout",
     "output_type": "stream",
     "text": [
      "成功提取 177 个图像的特征，特征维度: (177, 2048)\n",
      "使用设备: cuda\n"
     ]
    },
    {
     "name": "stderr",
     "output_type": "stream",
     "text": [
      "提取特征: 100%|██████████| 6/6 [00:00<00:00,  6.10it/s]\n",
      "按类别清洗:  39%|███▉      | 341/879 [06:45<11:09,  1.24s/it]"
     ]
    },
    {
     "name": "stdout",
     "output_type": "stream",
     "text": [
      "成功提取 178 个图像的特征，特征维度: (178, 2048)\n",
      "使用设备: cuda\n"
     ]
    },
    {
     "name": "stderr",
     "output_type": "stream",
     "text": [
      "提取特征: 100%|██████████| 6/6 [00:00<00:00,  6.74it/s]\n",
      "按类别清洗:  39%|███▉      | 342/879 [06:46<10:52,  1.22s/it]"
     ]
    },
    {
     "name": "stdout",
     "output_type": "stream",
     "text": [
      "成功提取 177 个图像的特征，特征维度: (177, 2048)\n",
      "使用设备: cuda\n"
     ]
    },
    {
     "name": "stderr",
     "output_type": "stream",
     "text": [
      "提取特征: 100%|██████████| 6/6 [00:00<00:00,  6.19it/s]\n",
      "按类别清洗:  39%|███▉      | 343/879 [06:48<10:52,  1.22s/it]"
     ]
    },
    {
     "name": "stdout",
     "output_type": "stream",
     "text": [
      "成功提取 177 个图像的特征，特征维度: (177, 2048)\n",
      "使用设备: cuda\n"
     ]
    },
    {
     "name": "stderr",
     "output_type": "stream",
     "text": [
      "提取特征: 100%|██████████| 4/4 [00:00<00:00,  5.38it/s]\n",
      "按类别清洗:  39%|███▉      | 344/879 [06:49<10:18,  1.16s/it]"
     ]
    },
    {
     "name": "stdout",
     "output_type": "stream",
     "text": [
      "成功提取 125 个图像的特征，特征维度: (125, 2048)\n",
      "使用设备: cuda\n"
     ]
    },
    {
     "name": "stderr",
     "output_type": "stream",
     "text": [
      "提取特征: 100%|██████████| 6/6 [00:00<00:00,  6.14it/s]\n",
      "按类别清洗:  39%|███▉      | 345/879 [06:50<10:30,  1.18s/it]"
     ]
    },
    {
     "name": "stdout",
     "output_type": "stream",
     "text": [
      "成功提取 178 个图像的特征，特征维度: (178, 2048)\n",
      "使用设备: cuda\n"
     ]
    },
    {
     "name": "stderr",
     "output_type": "stream",
     "text": [
      "提取特征: 100%|██████████| 5/5 [00:00<00:00,  6.38it/s]\n",
      "按类别清洗:  39%|███▉      | 346/879 [06:51<10:07,  1.14s/it]"
     ]
    },
    {
     "name": "stdout",
     "output_type": "stream",
     "text": [
      "成功提取 141 个图像的特征，特征维度: (141, 2048)\n",
      "使用设备: cuda\n"
     ]
    },
    {
     "name": "stderr",
     "output_type": "stream",
     "text": [
      "提取特征: 100%|██████████| 6/6 [00:00<00:00,  6.15it/s]\n",
      "按类别清洗:  39%|███▉      | 347/879 [06:52<10:22,  1.17s/it]"
     ]
    },
    {
     "name": "stdout",
     "output_type": "stream",
     "text": [
      "成功提取 178 个图像的特征，特征维度: (178, 2048)\n",
      "使用设备: cuda\n"
     ]
    },
    {
     "name": "stderr",
     "output_type": "stream",
     "text": [
      "提取特征: 100%|██████████| 6/6 [00:00<00:00,  6.75it/s]\n",
      "按类别清洗:  40%|███▉      | 348/879 [06:53<10:20,  1.17s/it]"
     ]
    },
    {
     "name": "stdout",
     "output_type": "stream",
     "text": [
      "成功提取 172 个图像的特征，特征维度: (172, 2048)\n",
      "使用设备: cuda\n"
     ]
    },
    {
     "name": "stderr",
     "output_type": "stream",
     "text": [
      "提取特征: 100%|██████████| 6/6 [00:00<00:00,  6.37it/s]\n",
      "按类别清洗:  40%|███▉      | 349/879 [06:55<10:24,  1.18s/it]"
     ]
    },
    {
     "name": "stdout",
     "output_type": "stream",
     "text": [
      "成功提取 178 个图像的特征，特征维度: (178, 2048)\n",
      "使用设备: cuda\n"
     ]
    },
    {
     "name": "stderr",
     "output_type": "stream",
     "text": [
      "提取特征: 100%|██████████| 6/6 [00:00<00:00,  6.29it/s]\n",
      "按类别清洗:  40%|███▉      | 350/879 [06:56<10:27,  1.19s/it]"
     ]
    },
    {
     "name": "stdout",
     "output_type": "stream",
     "text": [
      "成功提取 173 个图像的特征，特征维度: (173, 2048)\n",
      "使用设备: cuda\n"
     ]
    },
    {
     "name": "stderr",
     "output_type": "stream",
     "text": [
      "提取特征: 100%|██████████| 6/6 [00:00<00:00,  6.21it/s]\n",
      "按类别清洗:  40%|███▉      | 351/879 [06:57<10:34,  1.20s/it]"
     ]
    },
    {
     "name": "stdout",
     "output_type": "stream",
     "text": [
      "成功提取 178 个图像的特征，特征维度: (178, 2048)\n",
      "使用设备: cuda\n"
     ]
    },
    {
     "name": "stderr",
     "output_type": "stream",
     "text": [
      "提取特征: 100%|██████████| 6/6 [00:00<00:00,  7.03it/s]\n",
      "按类别清洗:  40%|████      | 352/879 [06:58<10:20,  1.18s/it]"
     ]
    },
    {
     "name": "stdout",
     "output_type": "stream",
     "text": [
      "成功提取 177 个图像的特征，特征维度: (177, 2048)\n",
      "使用设备: cuda\n"
     ]
    },
    {
     "name": "stderr",
     "output_type": "stream",
     "text": [
      "提取特征: 100%|██████████| 5/5 [00:00<00:00,  5.32it/s]\n",
      "按类别清洗:  40%|████      | 353/879 [06:59<10:22,  1.18s/it]"
     ]
    },
    {
     "name": "stdout",
     "output_type": "stream",
     "text": [
      "成功提取 160 个图像的特征，特征维度: (160, 2048)\n",
      "使用设备: cuda\n"
     ]
    },
    {
     "name": "stderr",
     "output_type": "stream",
     "text": [
      "提取特征: 100%|██████████| 5/5 [00:00<00:00,  5.36it/s]\n",
      "按类别清洗:  40%|████      | 354/879 [07:01<10:24,  1.19s/it]"
     ]
    },
    {
     "name": "stdout",
     "output_type": "stream",
     "text": [
      "成功提取 160 个图像的特征，特征维度: (160, 2048)\n",
      "使用设备: cuda\n"
     ]
    },
    {
     "name": "stderr",
     "output_type": "stream",
     "text": [
      "提取特征: 100%|██████████| 6/6 [00:00<00:00,  6.47it/s]\n",
      "按类别清洗:  40%|████      | 355/879 [07:02<10:21,  1.19s/it]"
     ]
    },
    {
     "name": "stdout",
     "output_type": "stream",
     "text": [
      "成功提取 176 个图像的特征，特征维度: (176, 2048)\n",
      "使用设备: cuda\n"
     ]
    },
    {
     "name": "stderr",
     "output_type": "stream",
     "text": [
      "提取特征: 100%|██████████| 6/6 [00:00<00:00,  6.21it/s]\n",
      "按类别清洗:  41%|████      | 356/879 [07:03<10:26,  1.20s/it]"
     ]
    },
    {
     "name": "stdout",
     "output_type": "stream",
     "text": [
      "成功提取 178 个图像的特征，特征维度: (178, 2048)\n",
      "使用设备: cuda\n"
     ]
    },
    {
     "name": "stderr",
     "output_type": "stream",
     "text": [
      "提取特征: 100%|██████████| 4/4 [00:00<00:00,  5.58it/s]\n",
      "按类别清洗:  41%|████      | 357/879 [07:04<09:50,  1.13s/it]"
     ]
    },
    {
     "name": "stdout",
     "output_type": "stream",
     "text": [
      "成功提取 124 个图像的特征，特征维度: (124, 2048)\n",
      "使用设备: cuda\n"
     ]
    },
    {
     "name": "stderr",
     "output_type": "stream",
     "text": [
      "提取特征: 100%|██████████| 6/6 [00:00<00:00,  6.40it/s]\n",
      "按类别清洗:  41%|████      | 358/879 [07:05<09:59,  1.15s/it]"
     ]
    },
    {
     "name": "stdout",
     "output_type": "stream",
     "text": [
      "成功提取 176 个图像的特征，特征维度: (176, 2048)\n",
      "使用设备: cuda\n"
     ]
    },
    {
     "name": "stderr",
     "output_type": "stream",
     "text": [
      "提取特征: 100%|██████████| 6/6 [00:00<00:00,  6.61it/s]\n",
      "按类别清洗:  41%|████      | 359/879 [07:06<10:00,  1.15s/it]"
     ]
    },
    {
     "name": "stdout",
     "output_type": "stream",
     "text": [
      "成功提取 176 个图像的特征，特征维度: (176, 2048)\n",
      "使用设备: cuda\n"
     ]
    },
    {
     "name": "stderr",
     "output_type": "stream",
     "text": [
      "提取特征: 100%|██████████| 6/6 [00:00<00:00,  6.24it/s]\n",
      "按类别清洗:  41%|████      | 360/879 [07:07<10:06,  1.17s/it]"
     ]
    },
    {
     "name": "stdout",
     "output_type": "stream",
     "text": [
      "成功提取 178 个图像的特征，特征维度: (178, 2048)\n",
      "使用设备: cuda\n"
     ]
    },
    {
     "name": "stderr",
     "output_type": "stream",
     "text": [
      "提取特征: 100%|██████████| 5/5 [00:00<00:00,  6.93it/s]\n",
      "按类别清洗:  41%|████      | 361/879 [07:08<09:36,  1.11s/it]"
     ]
    },
    {
     "name": "stdout",
     "output_type": "stream",
     "text": [
      "成功提取 141 个图像的特征，特征维度: (141, 2048)\n",
      "使用设备: cuda\n"
     ]
    },
    {
     "name": "stderr",
     "output_type": "stream",
     "text": [
      "提取特征: 100%|██████████| 5/5 [00:00<00:00,  7.09it/s]\n",
      "按类别清洗:  41%|████      | 362/879 [07:09<09:13,  1.07s/it]"
     ]
    },
    {
     "name": "stdout",
     "output_type": "stream",
     "text": [
      "成功提取 139 个图像的特征，特征维度: (139, 2048)\n",
      "使用设备: cuda\n"
     ]
    },
    {
     "name": "stderr",
     "output_type": "stream",
     "text": [
      "提取特征: 100%|██████████| 6/6 [00:00<00:00,  6.06it/s]\n",
      "按类别清洗:  41%|████▏     | 363/879 [07:11<09:35,  1.11s/it]"
     ]
    },
    {
     "name": "stdout",
     "output_type": "stream",
     "text": [
      "成功提取 175 个图像的特征，特征维度: (175, 2048)\n",
      "使用设备: cuda\n"
     ]
    },
    {
     "name": "stderr",
     "output_type": "stream",
     "text": [
      "提取特征: 100%|██████████| 6/6 [00:00<00:00,  6.35it/s]\n",
      "按类别清洗:  41%|████▏     | 364/879 [07:12<09:46,  1.14s/it]"
     ]
    },
    {
     "name": "stdout",
     "output_type": "stream",
     "text": [
      "成功提取 178 个图像的特征，特征维度: (178, 2048)\n",
      "使用设备: cuda\n"
     ]
    },
    {
     "name": "stderr",
     "output_type": "stream",
     "text": [
      "提取特征: 100%|██████████| 5/5 [00:00<00:00,  5.80it/s]\n",
      "按类别清洗:  42%|████▏     | 365/879 [07:13<09:43,  1.13s/it]"
     ]
    },
    {
     "name": "stdout",
     "output_type": "stream",
     "text": [
      "成功提取 160 个图像的特征，特征维度: (160, 2048)\n",
      "使用设备: cuda\n"
     ]
    },
    {
     "name": "stderr",
     "output_type": "stream",
     "text": [
      "提取特征: 100%|██████████| 5/5 [00:00<00:00,  6.95it/s]\n",
      "按类别清洗:  42%|████▏     | 366/879 [07:14<09:18,  1.09s/it]"
     ]
    },
    {
     "name": "stdout",
     "output_type": "stream",
     "text": [
      "成功提取 139 个图像的特征，特征维度: (139, 2048)\n",
      "使用设备: cuda\n"
     ]
    },
    {
     "name": "stderr",
     "output_type": "stream",
     "text": [
      "提取特征: 100%|██████████| 6/6 [00:00<00:00,  6.33it/s]\n",
      "按类别清洗:  42%|████▏     | 367/879 [07:15<09:30,  1.11s/it]"
     ]
    },
    {
     "name": "stdout",
     "output_type": "stream",
     "text": [
      "成功提取 177 个图像的特征，特征维度: (177, 2048)\n",
      "使用设备: cuda\n"
     ]
    },
    {
     "name": "stderr",
     "output_type": "stream",
     "text": [
      "提取特征: 100%|██████████| 5/5 [00:00<00:00,  6.20it/s]\n",
      "按类别清洗:  42%|████▏     | 368/879 [07:16<09:22,  1.10s/it]"
     ]
    },
    {
     "name": "stdout",
     "output_type": "stream",
     "text": [
      "成功提取 143 个图像的特征，特征维度: (143, 2048)\n",
      "使用设备: cuda\n"
     ]
    },
    {
     "name": "stderr",
     "output_type": "stream",
     "text": [
      "提取特征: 100%|██████████| 6/6 [00:00<00:00,  6.26it/s]\n",
      "按类别清洗:  42%|████▏     | 369/879 [07:17<09:39,  1.14s/it]"
     ]
    },
    {
     "name": "stdout",
     "output_type": "stream",
     "text": [
      "成功提取 173 个图像的特征，特征维度: (173, 2048)\n",
      "使用设备: cuda\n"
     ]
    },
    {
     "name": "stderr",
     "output_type": "stream",
     "text": [
      "提取特征: 100%|██████████| 5/5 [00:00<00:00,  6.50it/s]\n",
      "按类别清洗:  42%|████▏     | 370/879 [07:18<09:21,  1.10s/it]"
     ]
    },
    {
     "name": "stdout",
     "output_type": "stream",
     "text": [
      "成功提取 150 个图像的特征，特征维度: (150, 2048)\n",
      "使用设备: cuda\n"
     ]
    },
    {
     "name": "stderr",
     "output_type": "stream",
     "text": [
      "提取特征: 100%|██████████| 5/5 [00:00<00:00,  5.57it/s]\n",
      "按类别清洗:  42%|████▏     | 371/879 [07:20<09:23,  1.11s/it]"
     ]
    },
    {
     "name": "stdout",
     "output_type": "stream",
     "text": [
      "成功提取 159 个图像的特征，特征维度: (159, 2048)\n",
      "使用设备: cuda\n"
     ]
    },
    {
     "name": "stderr",
     "output_type": "stream",
     "text": [
      "提取特征: 100%|██████████| 6/6 [00:00<00:00,  6.25it/s]\n",
      "按类别清洗:  42%|████▏     | 372/879 [07:21<09:38,  1.14s/it]"
     ]
    },
    {
     "name": "stdout",
     "output_type": "stream",
     "text": [
      "成功提取 176 个图像的特征，特征维度: (176, 2048)\n",
      "使用设备: cuda\n"
     ]
    },
    {
     "name": "stderr",
     "output_type": "stream",
     "text": [
      "提取特征: 100%|██████████| 5/5 [00:00<00:00,  7.19it/s]\n",
      "按类别清洗:  42%|████▏     | 373/879 [07:22<09:08,  1.08s/it]"
     ]
    },
    {
     "name": "stdout",
     "output_type": "stream",
     "text": [
      "成功提取 142 个图像的特征，特征维度: (142, 2048)\n",
      "使用设备: cuda\n"
     ]
    },
    {
     "name": "stderr",
     "output_type": "stream",
     "text": [
      "提取特征: 100%|██████████| 6/6 [00:00<00:00,  6.21it/s]\n",
      "按类别清洗:  43%|████▎     | 374/879 [07:23<09:22,  1.11s/it]"
     ]
    },
    {
     "name": "stdout",
     "output_type": "stream",
     "text": [
      "成功提取 178 个图像的特征，特征维度: (178, 2048)\n",
      "使用设备: cuda\n"
     ]
    },
    {
     "name": "stderr",
     "output_type": "stream",
     "text": [
      "提取特征: 100%|██████████| 6/6 [00:00<00:00,  6.07it/s]\n",
      "按类别清洗:  43%|████▎     | 375/879 [07:24<09:41,  1.15s/it]"
     ]
    },
    {
     "name": "stdout",
     "output_type": "stream",
     "text": [
      "成功提取 177 个图像的特征，特征维度: (177, 2048)\n",
      "使用设备: cuda\n"
     ]
    },
    {
     "name": "stderr",
     "output_type": "stream",
     "text": [
      "提取特征: 100%|██████████| 3/3 [00:00<00:00,  7.01it/s]\n",
      "按类别清洗:  43%|████▎     | 376/879 [07:25<08:28,  1.01s/it]"
     ]
    },
    {
     "name": "stdout",
     "output_type": "stream",
     "text": [
      "成功提取 77 个图像的特征，特征维度: (77, 2048)\n",
      "使用设备: cuda\n"
     ]
    },
    {
     "name": "stderr",
     "output_type": "stream",
     "text": [
      "提取特征: 100%|██████████| 5/5 [00:00<00:00,  6.60it/s]\n",
      "按类别清洗:  43%|████▎     | 377/879 [07:26<08:22,  1.00s/it]"
     ]
    },
    {
     "name": "stdout",
     "output_type": "stream",
     "text": [
      "成功提取 146 个图像的特征，特征维度: (146, 2048)\n",
      "使用设备: cuda\n"
     ]
    },
    {
     "name": "stderr",
     "output_type": "stream",
     "text": [
      "提取特征: 100%|██████████| 5/5 [00:00<00:00,  6.82it/s]\n",
      "按类别清洗:  43%|████▎     | 378/879 [07:27<08:22,  1.00s/it]"
     ]
    },
    {
     "name": "stdout",
     "output_type": "stream",
     "text": [
      "成功提取 140 个图像的特征，特征维度: (140, 2048)\n",
      "使用设备: cuda\n"
     ]
    },
    {
     "name": "stderr",
     "output_type": "stream",
     "text": [
      "提取特征: 100%|██████████| 5/5 [00:00<00:00,  6.90it/s]\n",
      "按类别清洗:  43%|████▎     | 379/879 [07:28<08:13,  1.01it/s]"
     ]
    },
    {
     "name": "stdout",
     "output_type": "stream",
     "text": [
      "成功提取 156 个图像的特征，特征维度: (156, 2048)\n",
      "使用设备: cuda\n"
     ]
    },
    {
     "name": "stderr",
     "output_type": "stream",
     "text": [
      "提取特征: 100%|██████████| 6/6 [00:00<00:00,  6.67it/s]\n",
      "按类别清洗:  43%|████▎     | 380/879 [07:29<08:32,  1.03s/it]"
     ]
    },
    {
     "name": "stdout",
     "output_type": "stream",
     "text": [
      "成功提取 177 个图像的特征，特征维度: (177, 2048)\n",
      "使用设备: cuda\n"
     ]
    },
    {
     "name": "stderr",
     "output_type": "stream",
     "text": [
      "提取特征: 100%|██████████| 6/6 [00:01<00:00,  5.41it/s]\n",
      "按类别清洗:  43%|████▎     | 381/879 [07:30<09:23,  1.13s/it]"
     ]
    },
    {
     "name": "stdout",
     "output_type": "stream",
     "text": [
      "成功提取 178 个图像的特征，特征维度: (178, 2048)\n",
      "使用设备: cuda\n"
     ]
    },
    {
     "name": "stderr",
     "output_type": "stream",
     "text": [
      "提取特征: 100%|██████████| 5/5 [00:00<00:00,  5.60it/s]\n",
      "按类别清洗:  43%|████▎     | 382/879 [07:31<09:23,  1.13s/it]"
     ]
    },
    {
     "name": "stdout",
     "output_type": "stream",
     "text": [
      "成功提取 158 个图像的特征，特征维度: (158, 2048)\n",
      "使用设备: cuda\n"
     ]
    },
    {
     "name": "stderr",
     "output_type": "stream",
     "text": [
      "提取特征: 100%|██████████| 5/5 [00:00<00:00,  6.58it/s]\n",
      "按类别清洗:  44%|████▎     | 383/879 [07:32<09:05,  1.10s/it]"
     ]
    },
    {
     "name": "stdout",
     "output_type": "stream",
     "text": [
      "成功提取 155 个图像的特征，特征维度: (155, 2048)\n",
      "使用设备: cuda\n"
     ]
    },
    {
     "name": "stderr",
     "output_type": "stream",
     "text": [
      "提取特征: 100%|██████████| 6/6 [00:00<00:00,  6.48it/s]\n",
      "按类别清洗:  44%|████▎     | 384/879 [07:34<09:11,  1.11s/it]"
     ]
    },
    {
     "name": "stdout",
     "output_type": "stream",
     "text": [
      "成功提取 175 个图像的特征，特征维度: (175, 2048)\n",
      "使用设备: cuda\n"
     ]
    },
    {
     "name": "stderr",
     "output_type": "stream",
     "text": [
      "提取特征: 100%|██████████| 6/6 [00:00<00:00,  6.50it/s]\n",
      "按类别清洗:  44%|████▍     | 385/879 [07:35<09:19,  1.13s/it]"
     ]
    },
    {
     "name": "stdout",
     "output_type": "stream",
     "text": [
      "成功提取 161 个图像的特征，特征维度: (161, 2048)\n",
      "使用设备: cuda\n"
     ]
    },
    {
     "name": "stderr",
     "output_type": "stream",
     "text": [
      "提取特征: 100%|██████████| 6/6 [00:00<00:00,  6.27it/s]\n",
      "按类别清洗:  44%|████▍     | 386/879 [07:36<09:29,  1.16s/it]"
     ]
    },
    {
     "name": "stdout",
     "output_type": "stream",
     "text": [
      "成功提取 176 个图像的特征，特征维度: (176, 2048)\n",
      "使用设备: cuda\n"
     ]
    },
    {
     "name": "stderr",
     "output_type": "stream",
     "text": [
      "提取特征: 100%|██████████| 6/6 [00:00<00:00,  6.10it/s]\n",
      "按类别清洗:  44%|████▍     | 387/879 [07:37<09:39,  1.18s/it]"
     ]
    },
    {
     "name": "stdout",
     "output_type": "stream",
     "text": [
      "成功提取 174 个图像的特征，特征维度: (174, 2048)\n",
      "使用设备: cuda\n"
     ]
    },
    {
     "name": "stderr",
     "output_type": "stream",
     "text": [
      "提取特征: 100%|██████████| 6/6 [00:01<00:00,  5.85it/s]\n",
      "按类别清洗:  44%|████▍     | 388/879 [07:38<09:54,  1.21s/it]"
     ]
    },
    {
     "name": "stdout",
     "output_type": "stream",
     "text": [
      "成功提取 176 个图像的特征，特征维度: (176, 2048)\n",
      "使用设备: cuda\n"
     ]
    },
    {
     "name": "stderr",
     "output_type": "stream",
     "text": [
      "提取特征: 100%|██████████| 6/6 [00:00<00:00,  6.19it/s]\n",
      "按类别清洗:  44%|████▍     | 389/879 [07:40<09:55,  1.22s/it]"
     ]
    },
    {
     "name": "stdout",
     "output_type": "stream",
     "text": [
      "成功提取 174 个图像的特征，特征维度: (174, 2048)\n",
      "使用设备: cuda\n"
     ]
    },
    {
     "name": "stderr",
     "output_type": "stream",
     "text": [
      "提取特征: 100%|██████████| 6/6 [00:01<00:00,  5.63it/s]\n",
      "按类别清洗:  44%|████▍     | 390/879 [07:41<10:10,  1.25s/it]"
     ]
    },
    {
     "name": "stdout",
     "output_type": "stream",
     "text": [
      "成功提取 178 个图像的特征，特征维度: (178, 2048)\n",
      "使用设备: cuda\n"
     ]
    },
    {
     "name": "stderr",
     "output_type": "stream",
     "text": [
      "提取特征: 100%|██████████| 6/6 [00:00<00:00,  6.36it/s]\n",
      "按类别清洗:  44%|████▍     | 391/879 [07:42<10:02,  1.23s/it]"
     ]
    },
    {
     "name": "stdout",
     "output_type": "stream",
     "text": [
      "成功提取 174 个图像的特征，特征维度: (174, 2048)\n",
      "使用设备: cuda\n"
     ]
    },
    {
     "name": "stderr",
     "output_type": "stream",
     "text": [
      "提取特征: 100%|██████████| 5/5 [00:00<00:00,  5.77it/s]\n",
      "按类别清洗:  45%|████▍     | 392/879 [07:43<09:45,  1.20s/it]"
     ]
    },
    {
     "name": "stdout",
     "output_type": "stream",
     "text": [
      "成功提取 143 个图像的特征，特征维度: (143, 2048)\n",
      "使用设备: cuda\n"
     ]
    },
    {
     "name": "stderr",
     "output_type": "stream",
     "text": [
      "提取特征: 100%|██████████| 6/6 [00:00<00:00,  6.09it/s]\n",
      "按类别清洗:  45%|████▍     | 393/879 [07:45<09:50,  1.22s/it]"
     ]
    },
    {
     "name": "stdout",
     "output_type": "stream",
     "text": [
      "成功提取 175 个图像的特征，特征维度: (175, 2048)\n",
      "使用设备: cuda\n"
     ]
    },
    {
     "name": "stderr",
     "output_type": "stream",
     "text": [
      "提取特征: 100%|██████████| 5/5 [00:00<00:00,  6.16it/s]\n",
      "按类别清洗:  45%|████▍     | 394/879 [07:46<09:28,  1.17s/it]"
     ]
    },
    {
     "name": "stdout",
     "output_type": "stream",
     "text": [
      "成功提取 141 个图像的特征，特征维度: (141, 2048)\n",
      "使用设备: cuda\n"
     ]
    },
    {
     "name": "stderr",
     "output_type": "stream",
     "text": [
      "提取特征: 100%|██████████| 6/6 [00:00<00:00,  6.84it/s]\n",
      "按类别清洗:  45%|████▍     | 395/879 [07:47<09:21,  1.16s/it]"
     ]
    },
    {
     "name": "stdout",
     "output_type": "stream",
     "text": [
      "成功提取 161 个图像的特征，特征维度: (161, 2048)\n",
      "使用设备: cuda\n"
     ]
    },
    {
     "name": "stderr",
     "output_type": "stream",
     "text": [
      "提取特征: 100%|██████████| 5/5 [00:00<00:00,  5.96it/s]\n",
      "按类别清洗:  45%|████▌     | 396/879 [07:48<09:11,  1.14s/it]"
     ]
    },
    {
     "name": "stdout",
     "output_type": "stream",
     "text": [
      "成功提取 158 个图像的特征，特征维度: (158, 2048)\n",
      "使用设备: cuda\n"
     ]
    },
    {
     "name": "stderr",
     "output_type": "stream",
     "text": [
      "提取特征: 100%|██████████| 5/5 [00:00<00:00,  5.20it/s]\n",
      "按类别清洗:  45%|████▌     | 397/879 [07:49<09:21,  1.16s/it]"
     ]
    },
    {
     "name": "stdout",
     "output_type": "stream",
     "text": [
      "成功提取 160 个图像的特征，特征维度: (160, 2048)\n",
      "使用设备: cuda\n"
     ]
    },
    {
     "name": "stderr",
     "output_type": "stream",
     "text": [
      "提取特征: 100%|██████████| 6/6 [00:00<00:00,  6.36it/s]\n",
      "按类别清洗:  45%|████▌     | 398/879 [07:50<09:28,  1.18s/it]"
     ]
    },
    {
     "name": "stdout",
     "output_type": "stream",
     "text": [
      "成功提取 174 个图像的特征，特征维度: (174, 2048)\n",
      "使用设备: cuda\n"
     ]
    },
    {
     "name": "stderr",
     "output_type": "stream",
     "text": [
      "提取特征: 100%|██████████| 5/5 [00:00<00:00,  5.89it/s]\n",
      "按类别清洗:  45%|████▌     | 399/879 [07:51<09:17,  1.16s/it]"
     ]
    },
    {
     "name": "stdout",
     "output_type": "stream",
     "text": [
      "成功提取 155 个图像的特征，特征维度: (155, 2048)\n",
      "使用设备: cuda\n"
     ]
    },
    {
     "name": "stderr",
     "output_type": "stream",
     "text": [
      "提取特征: 100%|██████████| 5/5 [00:00<00:00,  6.98it/s]\n",
      "按类别清洗:  46%|████▌     | 400/879 [07:52<08:49,  1.10s/it]"
     ]
    },
    {
     "name": "stdout",
     "output_type": "stream",
     "text": [
      "成功提取 140 个图像的特征，特征维度: (140, 2048)\n",
      "使用设备: cuda\n"
     ]
    },
    {
     "name": "stderr",
     "output_type": "stream",
     "text": [
      "提取特征: 100%|██████████| 5/5 [00:00<00:00,  6.60it/s]\n",
      "按类别清洗:  46%|████▌     | 401/879 [07:53<08:33,  1.07s/it]"
     ]
    },
    {
     "name": "stdout",
     "output_type": "stream",
     "text": [
      "成功提取 158 个图像的特征，特征维度: (158, 2048)\n",
      "使用设备: cuda\n"
     ]
    },
    {
     "name": "stderr",
     "output_type": "stream",
     "text": [
      "提取特征: 100%|██████████| 5/5 [00:00<00:00,  5.52it/s]\n",
      "按类别清洗:  46%|████▌     | 402/879 [07:55<08:42,  1.09s/it]"
     ]
    },
    {
     "name": "stdout",
     "output_type": "stream",
     "text": [
      "成功提取 158 个图像的特征，特征维度: (158, 2048)\n",
      "使用设备: cuda\n"
     ]
    },
    {
     "name": "stderr",
     "output_type": "stream",
     "text": [
      "提取特征: 100%|██████████| 5/5 [00:00<00:00,  5.11it/s]\n",
      "按类别清洗:  46%|████▌     | 403/879 [07:56<09:01,  1.14s/it]"
     ]
    },
    {
     "name": "stdout",
     "output_type": "stream",
     "text": [
      "成功提取 160 个图像的特征，特征维度: (160, 2048)\n",
      "使用设备: cuda\n"
     ]
    },
    {
     "name": "stderr",
     "output_type": "stream",
     "text": [
      "提取特征: 100%|██████████| 6/6 [00:01<00:00,  5.49it/s]\n",
      "按类别清洗:  46%|████▌     | 404/879 [07:57<09:34,  1.21s/it]"
     ]
    },
    {
     "name": "stdout",
     "output_type": "stream",
     "text": [
      "成功提取 172 个图像的特征，特征维度: (172, 2048)\n",
      "使用设备: cuda\n"
     ]
    },
    {
     "name": "stderr",
     "output_type": "stream",
     "text": [
      "提取特征: 100%|██████████| 6/6 [00:00<00:00,  6.60it/s]\n",
      "按类别清洗:  46%|████▌     | 405/879 [07:58<09:27,  1.20s/it]"
     ]
    },
    {
     "name": "stdout",
     "output_type": "stream",
     "text": [
      "成功提取 172 个图像的特征，特征维度: (172, 2048)\n",
      "使用设备: cuda\n"
     ]
    },
    {
     "name": "stderr",
     "output_type": "stream",
     "text": [
      "提取特征:   0%|          | 0/6 [00:00<?, ?it/s]\n",
      "按类别清洗:  46%|████▌     | 405/879 [07:59<09:20,  1.18s/it]\n"
     ]
    },
    {
     "ename": "KeyboardInterrupt",
     "evalue": "",
     "output_type": "error",
     "traceback": [
      "\u001b[1;31m---------------------------------------------------------------------------\u001b[0m",
      "\u001b[1;31mKeyboardInterrupt\u001b[0m                         Traceback (most recent call last)",
      "Cell \u001b[1;32mIn[7], line 186\u001b[0m\n\u001b[0;32m    184\u001b[0m \u001b[38;5;28mprint\u001b[39m(\u001b[38;5;124m\"\u001b[39m\u001b[38;5;124m开始数据清洗过程...\u001b[39m\u001b[38;5;124m\"\u001b[39m)\n\u001b[0;32m    185\u001b[0m \u001b[38;5;66;03m# 使用较小的批次进行特征提取，以减少内存使用\u001b[39;00m\n\u001b[1;32m--> 186\u001b[0m clean_train_paths, clean_train_labels \u001b[38;5;241m=\u001b[39m \u001b[43mclean_dataset_by_class\u001b[49m\u001b[43m(\u001b[49m\n\u001b[0;32m    187\u001b[0m \u001b[43m    \u001b[49m\u001b[43mtrain_paths\u001b[49m\u001b[43m,\u001b[49m\u001b[43m \u001b[49m\u001b[43mtrain_labels\u001b[49m\u001b[43m,\u001b[49m\u001b[43m \u001b[49m\u001b[43moutlier_ratio\u001b[49m\u001b[38;5;241;43m=\u001b[39;49m\u001b[38;5;241;43m0.05\u001b[39;49m\u001b[43m)\u001b[49m\n\u001b[0;32m    189\u001b[0m \u001b[38;5;66;03m# 更新训练数据路径和标签\u001b[39;00m\n\u001b[0;32m    190\u001b[0m train_paths \u001b[38;5;241m=\u001b[39m clean_train_paths\n",
      "Cell \u001b[1;32mIn[6], line 114\u001b[0m, in \u001b[0;36mclean_dataset_by_class\u001b[1;34m(train_paths, train_labels, outlier_ratio)\u001b[0m\n\u001b[0;32m    111\u001b[0m     \u001b[38;5;28;01mcontinue\u001b[39;00m\n\u001b[0;32m    113\u001b[0m \u001b[38;5;66;03m# 提取该类别所有图像的特征\u001b[39;00m\n\u001b[1;32m--> 114\u001b[0m features, valid_paths \u001b[38;5;241m=\u001b[39m \u001b[43mextract_features\u001b[49m\u001b[43m(\u001b[49m\u001b[43mpaths\u001b[49m\u001b[43m)\u001b[49m\n\u001b[0;32m    116\u001b[0m \u001b[38;5;28;01mif\u001b[39;00m \u001b[38;5;28mlen\u001b[39m(valid_paths) \u001b[38;5;241m==\u001b[39m \u001b[38;5;241m0\u001b[39m:\n\u001b[0;32m    117\u001b[0m     \u001b[38;5;28;01mcontinue\u001b[39;00m\n",
      "Cell \u001b[1;32mIn[6], line 62\u001b[0m, in \u001b[0;36mextract_features\u001b[1;34m(image_paths, batch_size)\u001b[0m\n\u001b[0;32m     60\u001b[0m \u001b[38;5;28;01mtry\u001b[39;00m:\n\u001b[0;32m     61\u001b[0m     img \u001b[38;5;241m=\u001b[39m Image\u001b[38;5;241m.\u001b[39mopen(path)\u001b[38;5;241m.\u001b[39mconvert(\u001b[38;5;124m'\u001b[39m\u001b[38;5;124mRGB\u001b[39m\u001b[38;5;124m'\u001b[39m)\n\u001b[1;32m---> 62\u001b[0m     img_tensor \u001b[38;5;241m=\u001b[39m \u001b[43mpreprocess\u001b[49m\u001b[43m(\u001b[49m\u001b[43mimg\u001b[49m\u001b[43m)\u001b[49m\n\u001b[0;32m     63\u001b[0m     batch_images\u001b[38;5;241m.\u001b[39mappend(img_tensor)\n\u001b[0;32m     64\u001b[0m     valid_indices\u001b[38;5;241m.\u001b[39mappend(j)\n",
      "File \u001b[1;32mc:\\Users\\lenovo\\AppData\\Local\\Programs\\Python\\Python312\\Lib\\site-packages\\torchvision\\transforms\\transforms.py:95\u001b[0m, in \u001b[0;36mCompose.__call__\u001b[1;34m(self, img)\u001b[0m\n\u001b[0;32m     93\u001b[0m \u001b[38;5;28;01mdef\u001b[39;00m \u001b[38;5;21m__call__\u001b[39m(\u001b[38;5;28mself\u001b[39m, img):\n\u001b[0;32m     94\u001b[0m     \u001b[38;5;28;01mfor\u001b[39;00m t \u001b[38;5;129;01min\u001b[39;00m \u001b[38;5;28mself\u001b[39m\u001b[38;5;241m.\u001b[39mtransforms:\n\u001b[1;32m---> 95\u001b[0m         img \u001b[38;5;241m=\u001b[39m \u001b[43mt\u001b[49m\u001b[43m(\u001b[49m\u001b[43mimg\u001b[49m\u001b[43m)\u001b[49m\n\u001b[0;32m     96\u001b[0m     \u001b[38;5;28;01mreturn\u001b[39;00m img\n",
      "File \u001b[1;32mc:\\Users\\lenovo\\AppData\\Local\\Programs\\Python\\Python312\\Lib\\site-packages\\torch\\nn\\modules\\module.py:1739\u001b[0m, in \u001b[0;36mModule._wrapped_call_impl\u001b[1;34m(self, *args, **kwargs)\u001b[0m\n\u001b[0;32m   1737\u001b[0m     \u001b[38;5;28;01mreturn\u001b[39;00m \u001b[38;5;28mself\u001b[39m\u001b[38;5;241m.\u001b[39m_compiled_call_impl(\u001b[38;5;241m*\u001b[39margs, \u001b[38;5;241m*\u001b[39m\u001b[38;5;241m*\u001b[39mkwargs)  \u001b[38;5;66;03m# type: ignore[misc]\u001b[39;00m\n\u001b[0;32m   1738\u001b[0m \u001b[38;5;28;01melse\u001b[39;00m:\n\u001b[1;32m-> 1739\u001b[0m     \u001b[38;5;28;01mreturn\u001b[39;00m \u001b[38;5;28;43mself\u001b[39;49m\u001b[38;5;241;43m.\u001b[39;49m\u001b[43m_call_impl\u001b[49m\u001b[43m(\u001b[49m\u001b[38;5;241;43m*\u001b[39;49m\u001b[43margs\u001b[49m\u001b[43m,\u001b[49m\u001b[43m \u001b[49m\u001b[38;5;241;43m*\u001b[39;49m\u001b[38;5;241;43m*\u001b[39;49m\u001b[43mkwargs\u001b[49m\u001b[43m)\u001b[49m\n",
      "File \u001b[1;32mc:\\Users\\lenovo\\AppData\\Local\\Programs\\Python\\Python312\\Lib\\site-packages\\torch\\nn\\modules\\module.py:1750\u001b[0m, in \u001b[0;36mModule._call_impl\u001b[1;34m(self, *args, **kwargs)\u001b[0m\n\u001b[0;32m   1745\u001b[0m \u001b[38;5;66;03m# If we don't have any hooks, we want to skip the rest of the logic in\u001b[39;00m\n\u001b[0;32m   1746\u001b[0m \u001b[38;5;66;03m# this function, and just call forward.\u001b[39;00m\n\u001b[0;32m   1747\u001b[0m \u001b[38;5;28;01mif\u001b[39;00m \u001b[38;5;129;01mnot\u001b[39;00m (\u001b[38;5;28mself\u001b[39m\u001b[38;5;241m.\u001b[39m_backward_hooks \u001b[38;5;129;01mor\u001b[39;00m \u001b[38;5;28mself\u001b[39m\u001b[38;5;241m.\u001b[39m_backward_pre_hooks \u001b[38;5;129;01mor\u001b[39;00m \u001b[38;5;28mself\u001b[39m\u001b[38;5;241m.\u001b[39m_forward_hooks \u001b[38;5;129;01mor\u001b[39;00m \u001b[38;5;28mself\u001b[39m\u001b[38;5;241m.\u001b[39m_forward_pre_hooks\n\u001b[0;32m   1748\u001b[0m         \u001b[38;5;129;01mor\u001b[39;00m _global_backward_pre_hooks \u001b[38;5;129;01mor\u001b[39;00m _global_backward_hooks\n\u001b[0;32m   1749\u001b[0m         \u001b[38;5;129;01mor\u001b[39;00m _global_forward_hooks \u001b[38;5;129;01mor\u001b[39;00m _global_forward_pre_hooks):\n\u001b[1;32m-> 1750\u001b[0m     \u001b[38;5;28;01mreturn\u001b[39;00m \u001b[43mforward_call\u001b[49m\u001b[43m(\u001b[49m\u001b[38;5;241;43m*\u001b[39;49m\u001b[43margs\u001b[49m\u001b[43m,\u001b[49m\u001b[43m \u001b[49m\u001b[38;5;241;43m*\u001b[39;49m\u001b[38;5;241;43m*\u001b[39;49m\u001b[43mkwargs\u001b[49m\u001b[43m)\u001b[49m\n\u001b[0;32m   1752\u001b[0m result \u001b[38;5;241m=\u001b[39m \u001b[38;5;28;01mNone\u001b[39;00m\n\u001b[0;32m   1753\u001b[0m called_always_called_hooks \u001b[38;5;241m=\u001b[39m \u001b[38;5;28mset\u001b[39m()\n",
      "File \u001b[1;32mc:\\Users\\lenovo\\AppData\\Local\\Programs\\Python\\Python312\\Lib\\site-packages\\torchvision\\transforms\\transforms.py:277\u001b[0m, in \u001b[0;36mNormalize.forward\u001b[1;34m(self, tensor)\u001b[0m\n\u001b[0;32m    269\u001b[0m \u001b[38;5;28;01mdef\u001b[39;00m \u001b[38;5;21mforward\u001b[39m(\u001b[38;5;28mself\u001b[39m, tensor: Tensor) \u001b[38;5;241m-\u001b[39m\u001b[38;5;241m>\u001b[39m Tensor:\n\u001b[0;32m    270\u001b[0m \u001b[38;5;250m    \u001b[39m\u001b[38;5;124;03m\"\"\"\u001b[39;00m\n\u001b[0;32m    271\u001b[0m \u001b[38;5;124;03m    Args:\u001b[39;00m\n\u001b[0;32m    272\u001b[0m \u001b[38;5;124;03m        tensor (Tensor): Tensor image to be normalized.\u001b[39;00m\n\u001b[1;32m   (...)\u001b[0m\n\u001b[0;32m    275\u001b[0m \u001b[38;5;124;03m        Tensor: Normalized Tensor image.\u001b[39;00m\n\u001b[0;32m    276\u001b[0m \u001b[38;5;124;03m    \"\"\"\u001b[39;00m\n\u001b[1;32m--> 277\u001b[0m     \u001b[38;5;28;01mreturn\u001b[39;00m \u001b[43mF\u001b[49m\u001b[38;5;241;43m.\u001b[39;49m\u001b[43mnormalize\u001b[49m\u001b[43m(\u001b[49m\u001b[43mtensor\u001b[49m\u001b[43m,\u001b[49m\u001b[43m \u001b[49m\u001b[38;5;28;43mself\u001b[39;49m\u001b[38;5;241;43m.\u001b[39;49m\u001b[43mmean\u001b[49m\u001b[43m,\u001b[49m\u001b[43m \u001b[49m\u001b[38;5;28;43mself\u001b[39;49m\u001b[38;5;241;43m.\u001b[39;49m\u001b[43mstd\u001b[49m\u001b[43m,\u001b[49m\u001b[43m \u001b[49m\u001b[38;5;28;43mself\u001b[39;49m\u001b[38;5;241;43m.\u001b[39;49m\u001b[43minplace\u001b[49m\u001b[43m)\u001b[49m\n",
      "File \u001b[1;32mc:\\Users\\lenovo\\AppData\\Local\\Programs\\Python\\Python312\\Lib\\site-packages\\torchvision\\transforms\\functional.py:350\u001b[0m, in \u001b[0;36mnormalize\u001b[1;34m(tensor, mean, std, inplace)\u001b[0m\n\u001b[0;32m    347\u001b[0m \u001b[38;5;28;01mif\u001b[39;00m \u001b[38;5;129;01mnot\u001b[39;00m \u001b[38;5;28misinstance\u001b[39m(tensor, torch\u001b[38;5;241m.\u001b[39mTensor):\n\u001b[0;32m    348\u001b[0m     \u001b[38;5;28;01mraise\u001b[39;00m \u001b[38;5;167;01mTypeError\u001b[39;00m(\u001b[38;5;124mf\u001b[39m\u001b[38;5;124m\"\u001b[39m\u001b[38;5;124mimg should be Tensor Image. Got \u001b[39m\u001b[38;5;132;01m{\u001b[39;00m\u001b[38;5;28mtype\u001b[39m(tensor)\u001b[38;5;132;01m}\u001b[39;00m\u001b[38;5;124m\"\u001b[39m)\n\u001b[1;32m--> 350\u001b[0m \u001b[38;5;28;01mreturn\u001b[39;00m \u001b[43mF_t\u001b[49m\u001b[38;5;241;43m.\u001b[39;49m\u001b[43mnormalize\u001b[49m\u001b[43m(\u001b[49m\u001b[43mtensor\u001b[49m\u001b[43m,\u001b[49m\u001b[43m \u001b[49m\u001b[43mmean\u001b[49m\u001b[38;5;241;43m=\u001b[39;49m\u001b[43mmean\u001b[49m\u001b[43m,\u001b[49m\u001b[43m \u001b[49m\u001b[43mstd\u001b[49m\u001b[38;5;241;43m=\u001b[39;49m\u001b[43mstd\u001b[49m\u001b[43m,\u001b[49m\u001b[43m \u001b[49m\u001b[43minplace\u001b[49m\u001b[38;5;241;43m=\u001b[39;49m\u001b[43minplace\u001b[49m\u001b[43m)\u001b[49m\n",
      "File \u001b[1;32mc:\\Users\\lenovo\\AppData\\Local\\Programs\\Python\\Python312\\Lib\\site-packages\\torchvision\\transforms\\_functional_tensor.py:928\u001b[0m, in \u001b[0;36mnormalize\u001b[1;34m(tensor, mean, std, inplace)\u001b[0m\n\u001b[0;32m    926\u001b[0m \u001b[38;5;28;01mif\u001b[39;00m std\u001b[38;5;241m.\u001b[39mndim \u001b[38;5;241m==\u001b[39m \u001b[38;5;241m1\u001b[39m:\n\u001b[0;32m    927\u001b[0m     std \u001b[38;5;241m=\u001b[39m std\u001b[38;5;241m.\u001b[39mview(\u001b[38;5;241m-\u001b[39m\u001b[38;5;241m1\u001b[39m, \u001b[38;5;241m1\u001b[39m, \u001b[38;5;241m1\u001b[39m)\n\u001b[1;32m--> 928\u001b[0m \u001b[38;5;28;01mreturn\u001b[39;00m \u001b[43mtensor\u001b[49m\u001b[38;5;241;43m.\u001b[39;49m\u001b[43msub_\u001b[49m\u001b[43m(\u001b[49m\u001b[43mmean\u001b[49m\u001b[43m)\u001b[49m\u001b[38;5;241m.\u001b[39mdiv_(std)\n",
      "\u001b[1;31mKeyboardInterrupt\u001b[0m: "
     ]
    }
   ],
   "source": [
    "import os\n",
    "import pandas as pd\n",
    "from PIL import Image\n",
    "import matplotlib.pyplot as plt\n",
    "from torch.optim.swa_utils import AveragedModel, SWALR, update_bn\n",
    "\n",
    "# 定义数据集的根目录\n",
    "base_dir = 'chinese-medicine-image'\n",
    "train_dir = os.path.join(base_dir, 'train', 'train')\n",
    "test_dir = os.path.join(base_dir, 'test', 'test')\n",
    "train_labels_file = os.path.join(base_dir, 'train_labels.csv')\n",
    "\n",
    "# --- 1. 加载训练数据信息 ---\n",
    "print(\"开始加载训练数据信息...\")\n",
    "try:\n",
    "    train_df = pd.read_csv(train_labels_file)\n",
    "    # 确保ID列是图片文件的相对路径，方便后续拼接\n",
    "    # train_labels.csv中的ID已经是 \"train/类别名/图片名.png\" 的形式\n",
    "    # 我们需要将其转换为相对于 base_dir 的完整路径或确保我们的拼接逻辑正确\n",
    "\n",
    "    # 创建一个包含完整图片路径和标签的列表\n",
    "    train_data = []\n",
    "    for index, row in train_df.iterrows():\n",
    "        # row['ID'] 的格式是 \"train/类别中文名/图片文件名.png\"\n",
    "        # 我们需要将其转换为实际的文件系统路径\n",
    "        # 例如，如果 base_dir 是 'chinese-medicine-image'\n",
    "        # 那么图片路径是 'chinese-medicine-image/' + row['ID'] (如果row['ID']已经是 'train/类别/文件名')\n",
    "        # 或者 'chinese-medicine-image/train/train/类别中文名/图片文件名.png'\n",
    "        # 从截图看，train_labels.csv里的ID是 'train/一支箭/2539525370.png'\n",
    "        # 而实际图片存储在 'chinese-medicine-image/train/train/一支箭/2539525370.png'\n",
    "        # 所以需要调整路径\n",
    "        \n",
    "        path_parts = row['ID'].split('/') # 例如: ['train', '一支箭', '2539525370.png']\n",
    "        if len(path_parts) == 3 and path_parts[0] == 'train':\n",
    "             # 构建相对于 base_dir 的正确路径\n",
    "            img_path = os.path.join(base_dir, 'train', 'train', path_parts[1], path_parts[2])\n",
    "        else:\n",
    "            # 如果路径格式不符合预期，可以打印出来检查\n",
    "            print(f\"警告: 发现意外的训练图片路径格式: {row['ID']}\")\n",
    "            img_path = os.path.join(base_dir, row['ID']) # Fallback or adjust as needed\n",
    "\n",
    "        label = row['Label']\n",
    "        train_data.append({'path': img_path, 'label': label})\n",
    "    \n",
    "    print(f\"成功加载 {len(train_data)} 条训练数据信息。\")\n",
    "    if train_data:\n",
    "        print(\"训练数据示例:\", train_data[0])\n",
    "\n",
    "except FileNotFoundError:\n",
    "    print(f\"错误: 未找到训练标签文件 {train_labels_file}\")\n",
    "except Exception as e:\n",
    "    print(f\"加载训练数据时发生错误: {e}\")\n",
    "\n",
    "print(\"-\" * 30)\n",
    "\n",
    "# --- 2. 加载测试数据信息 ---\n",
    "print(\"开始加载测试数据信息...\")\n",
    "test_image_files = []\n",
    "if os.path.exists(test_dir):\n",
    "    for img_name in os.listdir(test_dir):\n",
    "        if img_name.lower().endswith(('.png', '.jpg', '.jpeg')):\n",
    "            img_path = os.path.join(test_dir, img_name)\n",
    "            test_image_files.append({'path': img_path, 'id': img_name}) # 保存图片名作为ID\n",
    "    print(f\"成功加载 {len(test_image_files)} 张测试图片路径。\")\n",
    "    if test_image_files:\n",
    "        print(\"测试数据示例:\", test_image_files[0])\n",
    "else:\n",
    "    print(f\"错误: 测试图片目录 {test_dir} 不存在。\")\n",
    "\n",
    "print(\"-\" * 30)\n",
    "\n",
    "# --- 3. 加载并显示单张图片的示例 ---\n",
    "# 我们从已加载的训练数据中取一张图片作为示例\n",
    "if train_data:\n",
    "    sample_image_path = train_data[0]['path']\n",
    "    sample_image_label = train_data[0]['label']\n",
    "    \n",
    "    print(f\"加载示例图片: {sample_image_path}\")\n",
    "    print(f\"该图片的标签ID为: {sample_image_label}\")\n",
    "    \n",
    "    try:\n",
    "        img = Image.open(sample_image_path)\n",
    "        \n",
    "        # 显示图片信息\n",
    "        print(f\"图片格式: {img.format}\")\n",
    "        print(f\"图片大小: {img.size}\")\n",
    "        print(f\"图片模式: {img.mode}\")\n",
    "        \n",
    "        # 显示图片 (需要 matplotlib)\n",
    "        plt.imshow(img)\n",
    "        plt.title(f\"Label: {sample_image_label}\\nPath: {os.path.basename(sample_image_path)}\")\n",
    "        plt.axis('off')\n",
    "        plt.show()\n",
    "        # print(\"示例图片加载成功。取消了显示，以免在非GUI环境出错。您可以取消注释上面的plt代码来显示图片。\")\n",
    "\n",
    "    except FileNotFoundError:\n",
    "        print(f\"错误: 示例图片 {sample_image_path} 未找到。\")\n",
    "    except Exception as e:\n",
    "        print(f\"加载或显示示例图片时发生错误: {e}\")\n",
    "else:\n",
    "    print(\"没有加载训练数据，无法展示示例图片。\")\n",
    "\n",
    "# 提示：\n",
    "# 1. 确保 `base_dir` 指向 `chinese-medicine-image` 文件夹所在的正确位置。\n",
    "#    如果 `01.ipynb` 和 `chinese-medicine-image` 在同一目录下，则 'chinese-medicine-image' 是正确的。\n",
    "# 2. `train_labels.csv` 中的图片路径 `train/类别名/图片名.png` 需要正确映射到\n",
    "#    实际的 `chinese-medicine-image/train/train/类别名/图片名.png` 结构。上面的代码已尝试处理这一点。\n",
    "# 3. 对于实际的模型训练，您通常会创建一个 PyTorch `Dataset` 类来处理数据的加载和预处理。\n",
    "\n",
    "import os\n",
    "import pandas as pd\n",
    "from sklearn.model_selection import train_test_split\n",
    "\n",
    "# --- 前提：确保 train_data 已经加载 ---\n",
    "# 这里的代码块是为了确保 train_data 的存在，如果您在上一步已经成功运行并得到了 train_data，\n",
    "# 您可以根据情况调整或跳过这个重新加载的部分。\n",
    "# 最好是在同一个 notebook 中按顺序执行。\n",
    "\n",
    "base_dir = 'chinese-medicine-image'\n",
    "train_labels_file = os.path.join(base_dir, 'train_labels.csv')\n",
    "train_data = [] # 重新初始化以避免重复添加（如果重复运行此单元格）\n",
    "\n",
    "print(\"重新确认并加载训练数据信息...\")\n",
    "try:\n",
    "    train_df = pd.read_csv(train_labels_file)\n",
    "    for index, row in train_df.iterrows():\n",
    "        path_parts = row['ID'].split('/')\n",
    "        if len(path_parts) == 3 and path_parts[0] == 'train':\n",
    "            img_path = os.path.join(base_dir, 'train', 'train', path_parts[1], path_parts[2])\n",
    "        else:\n",
    "            # print(f\"警告: 发现意外的训练图片路径格式: {row['ID']}\") # 减少不必要的打印\n",
    "            img_path = os.path.join(base_dir, row['ID'])\n",
    "        label = row['Label']\n",
    "        train_data.append({'path': img_path, 'label': label, 'id': row['ID']}) # 添加原始ID，方便追踪\n",
    "    \n",
    "    print(f\"成功加载 {len(train_data)} 条训练数据信息。\")\n",
    "    if not train_data:\n",
    "        print(\"错误：train_data 为空，无法进行划分。请检查数据加载步骤。\")\n",
    "        # exit() # 或者其他错误处理\n",
    "\n",
    "except FileNotFoundError:\n",
    "    print(f\"错误: 未找到训练标签文件 {train_labels_file}\")\n",
    "    # exit()\n",
    "except Exception as e:\n",
    "    print(f\"加载训练数据时发生错误: {e}\")\n",
    "    # exit()\n",
    "\n",
    "print(\"-\" * 30)\n",
    "\n",
    "# --- 1. 数据集划分 (训练集和验证集) ---\n",
    "if train_data: # 确保 train_data 不为空\n",
    "    print(\"开始划分数据集...\")\n",
    "    \n",
    "    # 提取所有路径和标签用于划分\n",
    "    all_image_paths = [item['path'] for item in train_data]\n",
    "    all_labels = [item['label'] for item in train_data]\n",
    "    # 为了能够将划分后的数据重新组合回字典列表，我们也需要原始的 train_data 或其索引\n",
    "    \n",
    "    # 使用 train_test_split 进行分层抽样\n",
    "    # X 通常是特征，这里是图片路径；y 是标签\n",
    "    # stratify=all_labels 确保类别比例在训练集和验证集中保持一致\n",
    "    train_paths, val_paths, train_labels, val_labels = train_test_split(\n",
    "        all_image_paths,\n",
    "        all_labels,\n",
    "        test_size=0.15,  # 20% 作为验证集\n",
    "        random_state=42,  # 设置随机种子以便结果可复现\n",
    "        stratify=all_labels # 进行分层抽样\n",
    "    )\n",
    "    \n",
    "    # 将划分后的数据重新整理成我们期望的格式（可选，但通常更方便管理）\n",
    "    # 或者，我们可以直接使用 train_paths, val_paths, train_labels, val_labels\n",
    "    \n",
    "    # 为了方便后续创建 PyTorch Dataset，我们通常需要的是文件路径列表和对应的标签列表\n",
    "    # 所以 train_paths, val_paths, train_labels, val_labels 这样的输出是合适的\n",
    "    \n",
    "    print(f\"数据集划分完成。\")\n",
    "    print(f\"训练集样本数量: {len(train_paths)}\")\n",
    "    print(f\"验证集样本数量: {len(val_paths)}\")\n",
    "    \n",
    "    \n",
    "    \n",
    "    # 执行数据清洗\n",
    "    if 'train_paths' in locals() and 'train_labels' in locals() and train_paths and train_labels:\n",
    "        print(\"开始数据清洗过程...\")\n",
    "        # 使用较小的批次进行特征提取，以减少内存使用\n",
    "        clean_train_paths, clean_train_labels = clean_dataset_by_class(\n",
    "            train_paths, train_labels, outlier_ratio=0.05)\n",
    "    \n",
    "        # 更新训练数据路径和标签\n",
    "        train_paths = clean_train_paths\n",
    "        train_labels = clean_train_labels\n",
    "    \n",
    "        print(\"数据清洗完成，已更新训练数据集。\")\n",
    "    else:\n",
    "        print(\"未找到训练数据，无法执行数据清洗。\")\n",
    "\n",
    "    print(\"=\" * 50)\n",
    "    \n",
    "    # 可以检查一下类别分布（可选，但对于验证分层抽样的效果有帮助）\n",
    "    if train_labels and val_labels:\n",
    "        train_label_counts = pd.Series(train_labels).value_counts().sort_index()\n",
    "        val_label_counts = pd.Series(val_labels).value_counts().sort_index()\n",
    "        \n",
    "        # print(\"\\n训练集部分类别分布示例:\")\n",
    "        # print(train_label_counts.head())\n",
    "        # print(\"\\n验证集部分类别分布示例:\")\n",
    "        # print(val_label_counts.head())\n",
    "        print(f\"训练集中类别数量: {len(train_label_counts)}\")\n",
    "        print(f\"验证集中类别数量: {len(val_label_counts)}\")\n",
    "        if len(train_label_counts) != len(val_label_counts):\n",
    "            print(\"警告：训练集和验证集中的类别数量不完全一致，请检查分层抽样是否按预期工作或数据是否存在极少数类别。\")\n",
    "\n",
    "    # 现在我们有了：\n",
    "    # train_paths: 训练集图片路径列表\n",
    "    # train_labels: 训练集图片对应标签列表\n",
    "    # val_paths: 验证集图片路径列表\n",
    "    # val_labels: 验证集图片对应标签列表\n",
    "    \n",
    "    # 示例输出前几个划分结果\n",
    "    print(\"\\n训练集部分样本示例:\")\n",
    "    for i in range(min(3, len(train_paths))):\n",
    "        print(f\"Path: {train_paths[i]}, Label: {train_labels[i]}\")\n",
    "        \n",
    "    print(\"\\n验证集部分样本示例:\")\n",
    "    for i in range(min(3, len(val_paths))):\n",
    "        print(f\"Path: {val_paths[i]}, Label: {val_labels[i]}\")\n",
    "\n",
    "else:\n",
    "    print(\"train_data 为空或加载失败，无法进行数据集划分。\")\n",
    "\n",
    "print(\"-\" * 30)\n",
    "# 下一步：基于 train_paths, train_labels 和 val_paths, val_labels 构建 PyTorch Dataset 和 DataLoader\n",
    "\n",
    "import torch\n",
    "from torchvision import transforms\n",
    "from PIL import Image\n",
    "import pandas as pd # 确保 pandas 已导入，如果后续代码需要\n",
    "import os # 确保 os 已导入\n",
    "\n",
    "# --- 前提：确保 train_paths, train_labels, val_paths, val_labels 已经存在 ---\n",
    "# 以下代码块是为了演示和确保变量存在，实际使用时，这些变量应来自上一步的数据集划分。\n",
    "# 如果您是在同一个 notebook 中按顺序执行，可以跳过或调整这部分模拟数据的创建。\n",
    "if 'train_paths' not in locals() or 'val_paths' not in locals():\n",
    "    print(\"模拟创建 train_paths, val_paths 等变量，实际应来自数据集划分步骤。\")\n",
    "    # 模拟数据结构 (仅为让代码可独立运行，实际应使用真实的划分结果)\n",
    "    # 假设 base_dir 和 train_data 已按先前步骤加载\n",
    "    if 'train_data' not in locals() or not train_data:\n",
    "        # 简化版 train_data 加载 (仅为填充结构，不保证路径真实性)\n",
    "        base_dir = 'chinese-medicine-image'\n",
    "        train_labels_file = os.path.join(base_dir, 'train_labels.csv')\n",
    "        try:\n",
    "            _train_df_temp = pd.read_csv(train_labels_file, nrows=100) # 只读少量模拟\n",
    "            train_data_temp = []\n",
    "            for _, row in _train_df_temp.iterrows():\n",
    "                path_parts = row['ID'].split('/')\n",
    "                if len(path_parts) == 3 and path_parts[0] == 'train':\n",
    "                    img_path = os.path.join(base_dir, 'train', 'train', path_parts[1], path_parts[2])\n",
    "                else:\n",
    "                    img_path = os.path.join(base_dir, row['ID'])\n",
    "                train_data_temp.append({'path': img_path, 'label': row['Label']})\n",
    "\n",
    "            if not train_data_temp: raise ValueError(\"Temporary train_data is empty\")\n",
    "\n",
    "            _all_image_paths = [item['path'] for item in train_data_temp]\n",
    "            _all_labels = [item['label'] for item in train_data_temp]\n",
    "            if not _all_image_paths or not _all_labels: raise ValueError(\"Paths or labels are empty for split.\")\n",
    "\n",
    "            from sklearn.model_selection import train_test_split\n",
    "            train_paths, val_paths, train_labels, val_labels = train_test_split(\n",
    "                _all_image_paths, _all_labels, test_size=0.2, random_state=42, stratify=_all_labels if len(set(_all_labels)) > 1 else None\n",
    "            )\n",
    "            print(f\"模拟数据：训练集 {len(train_paths)}，验证集 {len(val_paths)}\")\n",
    "        except Exception as e:\n",
    "            print(f\"创建模拟数据时出错: {e}. 后续 Dataset/DataLoader 代码可能无法正确运行。\")\n",
    "            # 为了让代码块能继续定义，即使模拟数据失败，也创建空列表\n",
    "            train_paths, val_paths, train_labels, val_labels = [], [], [], []\n",
    "\n",
    "\n",
    "# --- 1. 定义数据预处理和增强的变换 ---\n",
    "# 图像的目标尺寸\n",
    "IMG_SIZE = 224 # 例如 ResNet 输入尺寸\n",
    "\n",
    "# ImageNet 归一化参数\n",
    "normalize_mean = [0.485, 0.456, 0.406]\n",
    "normalize_std = [0.229, 0.224, 0.225]\n",
    "\n",
    "# 训练集的数据变换\n",
    "# 训练集的数据变换 (修正后)\n",
    "train_transforms = transforms.Compose([\n",
    "    transforms.RandomResizedCrop(IMG_SIZE),\n",
    "    transforms.RandomHorizontalFlip(p=0.5),\n",
    "    transforms.RandomVerticalFlip(p=0.5),\n",
    "    transforms.RandomRotation(degrees=30),\n",
    "    transforms.ColorJitter(brightness=0.2, contrast=0.2, saturation=0.2, hue=0.1),\n",
    "    transforms.RandomGrayscale(p=0.1),\n",
    "    # --- ToTensor 必须在期望张量的变换之前 ---\n",
    "    transforms.ToTensor(),\n",
    "    # --- 以下变换期望输入是张量 ---\n",
    "    transforms.RandomErasing(p=0.5, scale=(0.02, 0.2), ratio=(0.3, 3.3), value='random'), # 已移到 ToTensor() 之后\n",
    "    transforms.Normalize(mean=normalize_mean, std=normalize_std)\n",
    "])\n",
    "\n",
    "# 验证集/测试集的数据变换 (通常只有预处理，没有随机增强)\n",
    "val_transforms = transforms.Compose([\n",
    "    transforms.Resize(256),                 # 先将短边resize到256\n",
    "    transforms.CenterCrop(IMG_SIZE),        # 然后中心裁剪到IMG_SIZE\n",
    "    transforms.ToTensor(),                  # 转换为张量\n",
    "    transforms.Normalize(mean=normalize_mean, std=normalize_std) # 归一化\n",
    "])\n",
    "\n",
    "print(\"数据变换 (train_transforms 和 val_transforms) 定义完成。\")\n",
    "print(\"\\n训练集变换:\")\n",
    "print(train_transforms)\n",
    "print(\"\\n验证集变换:\")\n",
    "print(val_transforms)\n",
    "print(\"-\" * 30)\n",
    "\n",
    "# --- 2. 创建 PyTorch Dataset 类 ---\n",
    "class ChineseMedicineDataset(torch.utils.data.Dataset):\n",
    "    def __init__(self, image_paths, labels, transform=None, label_offset=-1):\n",
    "        \"\"\"\n",
    "        Args:\n",
    "            image_paths (list): 包含图片路径的列表。\n",
    "            labels (list): 包含对应标签的列表。\n",
    "            transform (callable, optional): 应用于样本的可选变换。\n",
    "            label_offset (int): 由于比赛标签是1-881，而PyTorch通常期望0-N-1的标签，\n",
    "                                 设置此值以进行调整。例如，如果标签是1到C，则offset为-1。\n",
    "        \"\"\"\n",
    "        self.image_paths = image_paths\n",
    "        self.labels = labels\n",
    "        self.transform = transform\n",
    "        self.label_offset = label_offset\n",
    "\n",
    "    def __len__(self):\n",
    "        return len(self.image_paths)\n",
    "\n",
    "    def __getitem__(self, idx):\n",
    "        if torch.is_tensor(idx):\n",
    "            idx = idx.tolist()\n",
    "\n",
    "        img_path = self.image_paths[idx]\n",
    "        try:\n",
    "            # 读取损坏的图像文件可能会引发各种错误，尤其是 UnidentifiedImageError\n",
    "            image = Image.open(img_path)\n",
    "            # 针对带有透明通道的调色板图像进行特殊处理\n",
    "            if image.mode == 'P' and 'transparency' in image.info:\n",
    "                image = image.convert('RGBA')\n",
    "            # 无论如何最终都转为RGB格式\n",
    "            image = image.convert('RGB')\n",
    "        except FileNotFoundError:\n",
    "            # print(f\"错误: 文件未找到 {img_path}\")\n",
    "            # 返回一个占位符或引发一个更特定的错误\n",
    "            # 或者在数据准备阶段就应该清理掉这些无效路径\n",
    "            # 为简单起见，这里我们可能返回一个None或引发错误，让DataLoader的collate_fn处理\n",
    "            return None, None # 或者根据collate_fn的健壮性决定\n",
    "        except Exception as e: # 包括 PIL.UnidentifiedImageError\n",
    "            print(f\"警告: 无法加载图片 {img_path}，错误: {e}。将跳过此样本或返回None。\")\n",
    "            # 在实际操作中，这样的样本应该被记录并在预处理阶段移除或修复\n",
    "            # 返回None可能导致DataLoader在collate时出错，除非collate_fn能处理\n",
    "            return None, None # 同样，需要健壮的collate_fn\n",
    "\n",
    "        label = self.labels[idx]\n",
    "        if self.label_offset:\n",
    "            label = label + self.label_offset # 将1-881调整为0-880\n",
    "\n",
    "        if self.transform:\n",
    "            image = self.transform(image)\n",
    "        \n",
    "        # 确保标签是torch.long类型，因为交叉熵损失函数通常期望如此\n",
    "        return image, torch.tensor(label, dtype=torch.long)\n",
    "\n",
    "print(\"ChineseMedicineDataset 类定义完成。\")\n",
    "\n",
    "# 示例：如何创建Dataset实例\n",
    "# 确保 train_paths, train_labels, val_paths, val_labels 已经从上一步的划分中获得\n",
    "if train_paths and train_labels: # 检查变量是否已定义且不为空\n",
    "    train_dataset = ChineseMedicineDataset(image_paths=train_paths,\n",
    "                                           labels=train_labels,\n",
    "                                           transform=train_transforms,\n",
    "                                           label_offset=-1) # 标签从1开始，所以减1\n",
    "    print(f\"成功创建训练集 Dataset，样本数: {len(train_dataset)}\")\n",
    "    # 可以尝试获取一个样本\n",
    "    if len(train_dataset) > 0:\n",
    "        try:\n",
    "            img_sample, lbl_sample = train_dataset[0]\n",
    "            if img_sample is not None: # 检查是否加载成功\n",
    "                 print(f\"训练集第一个样本 - 图片形状: {img_sample.shape}, 标签: {lbl_sample.item()}\")\n",
    "            else:\n",
    "                print(\"训练集第一个样本加载失败 (可能图片损坏或路径问题)。\")\n",
    "        except Exception as e:\n",
    "            print(f\"获取训练集样本时出错: {e}\")\n",
    "else:\n",
    "    print(\"train_paths 或 train_labels 未定义或为空，无法创建训练集 Dataset。\")\n",
    "\n",
    "\n",
    "if val_paths and val_labels: # 检查变量是否已定义且不为空\n",
    "    val_dataset = ChineseMedicineDataset(image_paths=val_paths,\n",
    "                                         labels=val_labels,\n",
    "                                         transform=val_transforms,\n",
    "                                         label_offset=-1) # 标签从1开始，所以减1\n",
    "    print(f\"成功创建验证集 Dataset，样本数: {len(val_dataset)}\")\n",
    "    if len(val_dataset) > 0:\n",
    "        try:\n",
    "            img_sample_val, lbl_sample_val = val_dataset[0]\n",
    "            if img_sample_val is not None:\n",
    "                print(f\"验证集第一个样本 - 图片形状: {img_sample_val.shape}, 标签: {lbl_sample_val.item()}\")\n",
    "            else:\n",
    "                print(\"验证集第一个样本加载失败。\")\n",
    "        except Exception as e:\n",
    "            print(f\"获取验证集样本时出错: {e}\")\n",
    "else:\n",
    "    print(\"val_paths 或 val_labels 未定义或为空，无法创建验证集 Dataset。\")\n",
    "\n",
    "print(\"-\" * 30)\n",
    "# 下一步：创建 DataLoaders\n",
    "# Mixup 和 Cutmix 通常在 DataLoader 产生批次后，在训练循环中应用，或者通过自定义 collate_fn。\n",
    "# 我们稍后在构建训练循环时再集成它们。\n",
    "import torch\n",
    "from torchvision import transforms # 确保导入\n",
    "from PIL import Image\n",
    "import matplotlib.pyplot as plt\n",
    "import random # 用于随机选择图片\n",
    "\n",
    "# --- 前提：确保 train_dataset 和 train_transforms 已经定义 ---\n",
    "if 'train_dataset' not in locals() or train_dataset is None:\n",
    "    print(\"错误: 'train_dataset' 未定义或为 None。请确保已运行数据加载和 Dataset 定义步骤。\")\n",
    "    # exit()\n",
    "elif 'train_transforms' not in locals() or train_transforms is None:\n",
    "    print(\"错误: 'train_transforms' 未定义或为 None。请确保已运行数据变换定义步骤。\")\n",
    "    # exit()\n",
    "elif len(train_dataset) == 0:\n",
    "    print(\"错误: 'train_dataset' 为空，无法选择图片进行可视化。\")\n",
    "    # exit()\n",
    "\n",
    "print(\"开始可视化数据增强效果...\")\n",
    "\n",
    "# --- 可视化数据增强效果 ---\n",
    "if 'train_dataset' in locals() and train_dataset is not None and len(train_dataset) > 0 and \\\n",
    "   'train_transforms' in locals() and train_transforms is not None:\n",
    "\n",
    "    # 1. 从 train_dataset 中随机选择一张图片的路径和标签\n",
    "    # 我们需要原始图片路径来加载未转换的图片\n",
    "    # train_dataset 存储的是 {'path': img_path, 'label': label} 结构，假设路径是可直接访问的\n",
    "    # 或者，如果 train_dataset 的 __init__ 保存了原始路径列表，可以直接用\n",
    "    \n",
    "    # 假设 train_dataset.image_paths 存储了所有图片的路径\n",
    "    if not hasattr(train_dataset, 'image_paths') or not train_dataset.image_paths:\n",
    "        print(\"错误: train_dataset 对象中未找到 image_paths 属性或其为空。无法加载原始图片。\")\n",
    "        print(\"请确保您的 ChineseMedicineDataset 类正确存储了图片路径列表。\")\n",
    "    else:\n",
    "        random_idx = random.randint(0, len(train_dataset) - 1)\n",
    "        original_image_path = train_dataset.image_paths[random_idx] # 获取原始路径\n",
    "        original_label = train_dataset.labels[random_idx] # 获取对应标签 (可选)\n",
    "\n",
    "        print(f\"随机选择的图片索引: {random_idx}\")\n",
    "        print(f\"原始图片路径: {original_image_path}\")\n",
    "        print(f\"原始标签: {original_label}\")\n",
    "\n",
    "        try:\n",
    "            # 加载原始图片 (PIL Image)\n",
    "            pil_image = Image.open(original_image_path).convert('RGB')\n",
    "\n",
    "            # 2. 定义一个逆归一化函数，以便更好地可视化增强后的张量图片\n",
    "            #    train_transforms 包含 ToTensor 和 Normalize\n",
    "            #    我们需要反向操作才能从归一化后的张量变回可显示的图片\n",
    "            #    注意：这只是为了近似可视化，颜色可能不会完全精确到原始状态\n",
    "            \n",
    "            # 提取 Normalize 的均值和标准差 (假设它们与之前定义的一致)\n",
    "            # normalize_mean = [0.485, 0.456, 0.406] (应已定义)\n",
    "            # normalize_std = [0.229, 0.224, 0.225] (应已定义)\n",
    "            \n",
    "            # 确保 normalize_mean 和 normalize_std 已定义\n",
    "            if 'normalize_mean' not in locals() or 'normalize_std' not in locals():\n",
    "                print(\"警告: normalize_mean 或 normalize_std 未定义。逆归一化可能不准确。\")\n",
    "                # 使用默认值以避免崩溃，但这可能不正确\n",
    "                normalize_mean = [0.485, 0.456, 0.406]\n",
    "                normalize_std = [0.229, 0.224, 0.225]\n",
    "\n",
    "\n",
    "            inv_normalize = transforms.Normalize(\n",
    "                mean=[-m/s for m, s in zip(normalize_mean, normalize_std)],\n",
    "                std=[1/s for s in normalize_std]\n",
    "            )\n",
    "\n",
    "            # 3. 多次应用 train_transforms 并显示\n",
    "            num_augmented_examples = 5 # 我们想看多少个增强后的版本\n",
    "            \n",
    "            plt.figure(figsize=(15, 5 * (num_augmented_examples // 5 + 1))) # 调整图像大小\n",
    "\n",
    "            # 显示原始图片\n",
    "            plt.subplot(num_augmented_examples // 5 + 1, 5, 1) # 假设每行最多5张图\n",
    "            plt.imshow(pil_image)\n",
    "            plt.title(f\"Original\\nLabel: {original_label}\")\n",
    "            plt.axis('off')\n",
    "\n",
    "            for i in range(num_augmented_examples):\n",
    "                # 应用完整的 train_transforms (包括 ToTensor 和 Normalize)\n",
    "                augmented_tensor = train_transforms(pil_image.copy()) # 使用副本以防原始pil_image被修改\n",
    "                \n",
    "                # 进行逆归一化以便于显示\n",
    "                # ToTensor 会将 PIL Image [0,255] 转为 Tensor [0,1]\n",
    "                # Normalize 会根据 mean, std 进一步变换\n",
    "                # 我们的 inv_normalize 是针对 Normalize 后的张量\n",
    "                \n",
    "                # 首先确保 augmented_tensor 是一个有效的张量\n",
    "                if not isinstance(augmented_tensor, torch.Tensor):\n",
    "                    print(f\"错误: train_transforms 未返回张量，而是 {type(augmented_tensor)}。无法进行逆归一化和显示。\")\n",
    "                    continue\n",
    "\n",
    "                try:\n",
    "                    # 将 (C, H, W) 转换为 (H, W, C) 以便 matplotlib 显示\n",
    "                    img_to_show = augmented_tensor.permute(1, 2, 0).cpu().numpy()\n",
    "                    \n",
    "                    # Matplotlib 会自动处理归一化张量的显示，但有时可能需要手动调整范围\n",
    "                    # 如果 RandomErasing 填充了奇怪的值，或者 Normalize 后的值范围很大，可能需要 clamp\n",
    "                    # img_to_show = np.clip(img_to_show, 0, 1) # 如果值在0-1之间\n",
    "                    \n",
    "                    plt.subplot(num_augmented_examples // 5 + 1, 5, i + 2) # i+2 是因为第一个是原始图\n",
    "                    plt.imshow(img_to_show)\n",
    "                    plt.title(f\"Augmented {i+1}\")\n",
    "                    plt.axis('off')\n",
    "                \n",
    "                except Exception as e_display:\n",
    "                    print(f\"显示增强图片 {i+1} 时出错: {e_display}\")\n",
    "                    # import traceback\n",
    "                    # traceback.print_exc()\n",
    "                    plt.subplot(num_augmented_examples // 5 + 1, 5, i + 2)\n",
    "                    plt.text(0.5, 0.5, 'Error displaying', ha='center', va='center')\n",
    "                    plt.axis('off')\n",
    "\n",
    "\n",
    "            plt.tight_layout()\n",
    "            plt.show()\n",
    "\n",
    "        except FileNotFoundError:\n",
    "            print(f\"错误: 原始图片 {original_image_path} 未找到。\")\n",
    "        except Exception as e:\n",
    "            print(f\"加载或处理图片时发生未知错误: {e}\")\n",
    "            # import traceback\n",
    "            # traceback.print_exc()\n",
    "else:\n",
    "    print(\"无法执行可视化，因为 train_dataset 或 train_transforms 未正确定义或 train_dataset 为空。\")\n",
    "    \n",
    "import torch\n",
    "from torch.utils.data import DataLoader\n",
    "\n",
    "# --- 前提：确保 train_dataset 和 val_dataset 已经创建 ---\n",
    "# (您的 notebook 中应该已经有了 train_dataset 和 val_dataset)\n",
    "if 'train_dataset' not in locals() or 'val_dataset' not in locals():\n",
    "    print(\"紧急警告: train_dataset 或 val_dataset 未在当前作用域定义。\")\n",
    "    print(\"请确保已成功运行上一步创建 Dataset 的代码。\")\n",
    "    print(\"若不解决，下面的 DataLoader 创建将失败或使用空数据。\")\n",
    "    # 为防止后续完全崩溃，可以赋一个空值，但这只是权宜之计\n",
    "    if 'train_dataset' not in locals(): train_dataset = None\n",
    "    if 'val_dataset' not in locals(): val_dataset = None\n",
    "\n",
    "\n",
    "# 定义新的 collate_fn\n",
    "def custom_collate_fn(batch):\n",
    "    # batch 是一个列表，其中每个元素是 Dataset.__getitem__ 的返回值，即 (image, label)\n",
    "    # 过滤掉那些因为图片损坏等原因导致 image 或 label 为 None 的样本\n",
    "    \n",
    "    original_size = len(batch)\n",
    "    # 只有当 image 和 label 都不是 None 时，样本才有效\n",
    "    filtered_batch = [sample for sample in batch if sample[0] is not None and sample[1] is not None]\n",
    "    \n",
    "    # if len(filtered_batch) < original_size:\n",
    "    #     print(f\"注意: 从一个批次中移除了 {original_size - len(filtered_batch)} 个无效样本。\")\n",
    "\n",
    "    if not filtered_batch:\n",
    "        # 如果过滤后批次为空 (例如，一个批次中的所有图片都损坏了)\n",
    "        # 返回 None 或者空的张量，让训练循环知道跳过这个批次\n",
    "        print(\"警告: 一个批次中的所有样本都无效，此批次将被跳过。\")\n",
    "        return None, None # 或者返回 (torch.empty(0), torch.empty(0))\n",
    "\n",
    "    # 使用 PyTorch 默认的 collate 函数来将有效样本列表堆叠成批次张量\n",
    "    return torch.utils.data.dataloader.default_collate(filtered_batch)\n",
    "\n",
    "# 定义超参数\n",
    "BATCH_SIZE = 64\n",
    "NUM_WORKERS = 10 # Windows 保持 0\n",
    "\n",
    "print(\"-\" * 30)\n",
    "print(\"开始创建 DataLoaders (使用修正后的 collate_fn)...\")\n",
    "\n",
    "# 创建训练集的 DataLoader\n",
    "train_loader = None # 先初始化为 None\n",
    "if train_dataset is not None and len(train_dataset) > 0:\n",
    "    try:\n",
    "        train_loader = DataLoader(\n",
    "            dataset=train_dataset,\n",
    "            batch_size=BATCH_SIZE,\n",
    "            shuffle=True,\n",
    "            num_workers=NUM_WORKERS,\n",
    "            pin_memory=True,\n",
    "            collate_fn=custom_collate_fn # 使用我们定义的 collate_fn\n",
    "        )\n",
    "        print(f\"成功创建训练集 DataLoader。\")\n",
    "        print(f\"每个批次大小 (batch_size): {BATCH_SIZE}\")\n",
    "        print(f\"数据加载子进程数 (num_workers): {NUM_WORKERS}\")\n",
    "\n",
    "        # 尝试从 train_loader 获取一个批次的数据 (可选，用于验证)\n",
    "        # print(\"尝试从 train_loader 获取一个批次...\")\n",
    "        train_iter = iter(train_loader)\n",
    "        batch_data = next(train_iter, (None, None)) # 加一个默认值以防迭代器立即耗尽\n",
    "        \n",
    "        if batch_data != (None, None) and batch_data[0] is not None:\n",
    "            train_batch_images, train_batch_labels = batch_data\n",
    "            if train_batch_images.nelement() > 0 : # 检查张量是否为空\n",
    "                 print(f\"从 train_loader 获取的第一个批次 - 图片形状: {train_batch_images.shape}, 标签形状: {train_batch_labels.shape}\")\n",
    "            else:\n",
    "                print(\"从 train_loader 获取的第一个批次为空 (所有图片都无效或被过滤)。\")\n",
    "        else:\n",
    "            print(\"从 train_loader 获取的第一个批次数据为 None 或无效，可能所有样本均加载失败或被过滤。\")\n",
    "\n",
    "    except Exception as e:\n",
    "        print(f\"创建或测试 train_loader 时发生错误: {e}\")\n",
    "else:\n",
    "    print(\"train_dataset 未定义或为空，无法创建训练集 DataLoader。\")\n",
    "\n",
    "print(\"-\" * 30)\n",
    "\n",
    "# 创建验证集的 DataLoader\n",
    "val_loader = None # 先初始化为 None\n",
    "if val_dataset is not None and len(val_dataset) > 0:\n",
    "    try:\n",
    "        val_loader = DataLoader(\n",
    "            dataset=val_dataset,\n",
    "            batch_size=BATCH_SIZE,\n",
    "            shuffle=False,\n",
    "            num_workers=NUM_WORKERS,\n",
    "            pin_memory=True,\n",
    "            collate_fn=custom_collate_fn # 验证集也使用，以防万一也有坏数据\n",
    "        )\n",
    "        print(f\"成功创建验证集 DataLoader。\")\n",
    "\n",
    "        # print(\"尝试从 val_loader 获取一个批次...\")\n",
    "        val_iter = iter(val_loader)\n",
    "        batch_data_val = next(val_iter, (None, None))\n",
    "\n",
    "        if batch_data_val != (None, None) and batch_data_val[0] is not None:\n",
    "            val_batch_images, val_batch_labels = batch_data_val\n",
    "            if val_batch_images.nelement() > 0:\n",
    "                print(f\"从 val_loader 获取的第一个批次 - 图片形状: {val_batch_images.shape}, 标签形状: {val_batch_labels.shape}\")\n",
    "            else:\n",
    "                print(\"从 val_loader 获取的第一个批次为空。\")\n",
    "        else:\n",
    "            print(\"从 val_loader 获取的第一个批次数据为 None 或无效。\")\n",
    "            \n",
    "    except Exception as e:\n",
    "        print(f\"创建或测试 val_loader 时发生错误: {e}\")\n",
    "else:\n",
    "    print(\"val_dataset 未定义或为空，无法创建验证集 DataLoader。\")\n",
    "\n",
    "print(\"-\" * 30)\n",
    "if train_loader and val_loader:\n",
    "    print(\"DataLoaders (train_loader, val_loader) 已使用修正后的 collate_fn 创建/更新。\")\n",
    "else:\n",
    "    print(\"DataLoaders 创建/更新 未完全成功。请检查以上日志。\")\n"
   ]
  },
  {
   "cell_type": "markdown",
   "metadata": {},
   "source": [
    "1. 定义Mixup和CutMix的实现函数"
   ]
  },
  {
   "cell_type": "code",
   "execution_count": 2,
   "metadata": {},
   "outputs": [],
   "source": [
    "import numpy as np\n",
    "import torch\n",
    "import torch.nn.functional as F\n",
    "import matplotlib.pyplot as plt\n",
    "from PIL import Image\n",
    "import torchvision.transforms as transforms\n",
    "\n",
    "def mixup_data(x, y, alpha=1.0, device='cuda'):\n",
    "    \"\"\"\n",
    "    执行Mixup数据增强\n",
    "    \n",
    "    参数:\n",
    "        x: 输入图片批次，shape为[batch_size, channels, height, width]\n",
    "        y: 标签批次，shape为[batch_size]\n",
    "        alpha: Beta分布的参数\n",
    "        device: 使用的设备，默认为'cuda'\n",
    "        \n",
    "    返回:\n",
    "        混合后的图片和标签，以及lambda值\n",
    "    \"\"\"\n",
    "    if alpha > 0:\n",
    "        lam = np.random.beta(alpha, alpha)\n",
    "    else:\n",
    "        lam = 1\n",
    "\n",
    "    batch_size = x.size()[0]\n",
    "    \n",
    "    # 确保在同一设备上\n",
    "    if device == 'cuda':\n",
    "        index = torch.randperm(batch_size).cuda()\n",
    "    else:\n",
    "        index = torch.randperm(batch_size)\n",
    "\n",
    "    mixed_x = lam * x + (1 - lam) * x[index, :]\n",
    "    y_a, y_b = y, y[index]\n",
    "    \n",
    "    return mixed_x, y_a, y_b, lam\n",
    "\n",
    "def mixup_criterion(criterion, pred, y_a, y_b, lam):\n",
    "    \"\"\"\n",
    "    应用Mixup的损失计算\n",
    "    \n",
    "    参数:\n",
    "        criterion: 损失函数\n",
    "        pred: 模型预测\n",
    "        y_a: 第一组标签\n",
    "        y_b: 第二组标签\n",
    "        lam: lambda值，混合比例\n",
    "        \n",
    "    返回:\n",
    "        计算出的混合损失\n",
    "    \"\"\"\n",
    "    return lam * criterion(pred, y_a) + (1 - lam) * criterion(pred, y_b)\n",
    "\n",
    "def cutmix_data(x, y, alpha=1.0, device='cuda'):\n",
    "    \"\"\"\n",
    "    执行CutMix数据增强\n",
    "    \n",
    "    参数:\n",
    "        x: 输入图片批次，shape为[batch_size, channels, height, width]\n",
    "        y: 标签批次，shape为[batch_size]\n",
    "        alpha: Beta分布的参数\n",
    "        device: 使用的设备，默认为'cuda'\n",
    "        \n",
    "    返回:\n",
    "        混合后的图片和标签，以及lambda值\n",
    "    \"\"\"\n",
    "    if alpha > 0:\n",
    "        lam = np.random.beta(alpha, alpha)\n",
    "    else:\n",
    "        lam = 1\n",
    "        \n",
    "    batch_size = x.size()[0]\n",
    "    \n",
    "    # 确保在同一设备上\n",
    "    if device == 'cuda':\n",
    "        index = torch.randperm(batch_size).cuda()\n",
    "    else:\n",
    "        index = torch.randperm(batch_size)\n",
    "    \n",
    "    # 获取图片宽高\n",
    "    h, w = x.size()[2], x.size()[3]\n",
    "    \n",
    "    # 计算切割区域大小\n",
    "    cut_rat = np.sqrt(1. - lam)  # 切割区域的相对大小\n",
    "    cut_w = np.int_(w * cut_rat)\n",
    "    cut_h = np.int_(h * cut_rat)\n",
    "    \n",
    "    # 随机选择切割区域的中心点\n",
    "    cx = np.random.randint(w)\n",
    "    cy = np.random.randint(h)\n",
    "    \n",
    "    # 确保切割区域在图片范围内\n",
    "    bbx1 = np.clip(cx - cut_w // 2, 0, w)\n",
    "    bby1 = np.clip(cy - cut_h // 2, 0, h)\n",
    "    bbx2 = np.clip(cx + cut_w // 2, 0, w)\n",
    "    bby2 = np.clip(cy + cut_h // 2, 0, h)\n",
    "    \n",
    "    # 执行切割并混合\n",
    "    mixed_x = x.clone()\n",
    "    mixed_x[:, :, bby1:bby2, bbx1:bbx2] = x[index, :, bby1:bby2, bbx1:bbx2]\n",
    "    \n",
    "    # 调整lambda以反映实际切割区域大小\n",
    "    lam = 1 - ((bbx2 - bbx1) * (bby2 - bby1) / (w * h))\n",
    "    \n",
    "    y_a, y_b = y, y[index]\n",
    "    \n",
    "    return mixed_x, y_a, y_b, lam\n",
    "\n",
    "def cutmix_criterion(criterion, pred, y_a, y_b, lam):\n",
    "    \"\"\"\n",
    "    与mixup_criterion相同，但保持命名上的一致性\n",
    "    \"\"\"\n",
    "    return lam * criterion(pred, y_a) + (1 - lam) * criterion(pred, y_b)"
   ]
  },
  {
   "cell_type": "markdown",
   "metadata": {},
   "source": [
    "2. 在训练循环中实现Mixup和CutMix"
   ]
  },
  {
   "cell_type": "code",
   "execution_count": 3,
   "metadata": {},
   "outputs": [],
   "source": [
    "def train_epoch_with_mixup_cutmix(model, train_loader, criterion, optimizer, device, \n",
    "                                  epoch, mixup_alpha=1.0, cutmix_alpha=1.0, \n",
    "                                  mixup_prob=0.5, cutmix_prob=0.5):\n",
    "    \"\"\"\n",
    "    使用Mixup和CutMix进行一个训练周期\n",
    "    \n",
    "    参数:\n",
    "        model: 模型\n",
    "        train_loader: 训练数据加载器\n",
    "        criterion: 损失函数\n",
    "        optimizer: 优化器\n",
    "        device: 使用的设备\n",
    "        epoch: 当前训练周期\n",
    "        mixup_alpha: Mixup的alpha参数\n",
    "        cutmix_alpha: CutMix的alpha参数\n",
    "        mixup_prob: 使用Mixup的概率\n",
    "        cutmix_prob: 使用CutMix的概率\n",
    "    \"\"\"\n",
    "    model.train()\n",
    "    train_loss = 0\n",
    "    correct = 0\n",
    "    total = 0\n",
    "    \n",
    "    # 设置混合增强的概率阈值\n",
    "    # 0 ~ mixup_prob: 使用mixup\n",
    "    # mixup_prob ~ (mixup_prob + cutmix_prob): 使用cutmix\n",
    "    # 其他: 不使用混合增强\n",
    "    \n",
    "    for batch_idx, (images, targets) in enumerate(train_loader):\n",
    "        # 检查批次是否为None（custom_collate_fn可能返回None）\n",
    "        if images is None or targets is None:\n",
    "            print(f\"跳过批次 {batch_idx} - 所有图片无效\")\n",
    "            continue\n",
    "            \n",
    "        images, targets = images.to(device), targets.to(device)\n",
    "        \n",
    "        # 决定是否使用混合增强\n",
    "        r = np.random.rand(1)\n",
    "        \n",
    "        # 应用混合增强\n",
    "        if r < mixup_prob and mixup_alpha > 0:\n",
    "            # 应用Mixup\n",
    "            images, targets_a, targets_b, lam = mixup_data(images, targets, mixup_alpha, device)\n",
    "            outputs = model(images)\n",
    "            loss = mixup_criterion(criterion, outputs, targets_a, targets_b, lam)\n",
    "            \n",
    "        elif r < mixup_prob + cutmix_prob and cutmix_alpha > 0:\n",
    "            # 应用CutMix\n",
    "            images, targets_a, targets_b, lam = cutmix_data(images, targets, cutmix_alpha, device)\n",
    "            outputs = model(images)\n",
    "            loss = cutmix_criterion(criterion, outputs, targets_a, targets_b, lam)\n",
    "            \n",
    "        else:\n",
    "            # 不使用混合增强\n",
    "            outputs = model(images)\n",
    "            loss = criterion(outputs, targets)\n",
    "        \n",
    "        # 反向传播和优化\n",
    "        optimizer.zero_grad()\n",
    "        loss.backward()\n",
    "        optimizer.step()\n",
    "        \n",
    "        # 更新训练统计信息\n",
    "        train_loss += loss.item()\n",
    "        _, predicted = outputs.max(1)\n",
    "        total += targets.size(0)\n",
    "        \n",
    "        # 对于mixup/cutmix，准确率计算是近似的\n",
    "        if r < mixup_prob + cutmix_prob:\n",
    "            correct += (lam * predicted.eq(targets_a).sum().float() + \n",
    "                       (1 - lam) * predicted.eq(targets_b).sum().float())\n",
    "        else:\n",
    "            correct += predicted.eq(targets).sum().item()\n",
    "        \n",
    "        # 打印进度\n",
    "        if (batch_idx + 1) % 50 == 0 or (batch_idx + 1) == len(train_loader):\n",
    "            print(f'Epoch: {epoch} [{batch_idx+1}/{len(train_loader)}] | '\n",
    "                  f'Loss: {train_loss/(batch_idx+1):.3f} | '\n",
    "                  f'Acc: {100.0*correct/total:.3f}% ({correct}/{total})')\n",
    "    \n",
    "    return train_loss / len(train_loader), 100.0 * correct / total"
   ]
  },
  {
   "cell_type": "markdown",
   "metadata": {},
   "source": [
    "3. 完整的训练函数包括验证"
   ]
  },
  {
   "cell_type": "code",
   "execution_count": 4,
   "metadata": {},
   "outputs": [],
   "source": [
    "def train_model(model, train_loader, val_loader, criterion, optimizer, scheduler, \n",
    "                device, num_epochs=10, mixup_alpha=1.0, cutmix_alpha=1.0,\n",
    "                mixup_prob=0.5, cutmix_prob=0.3):\n",
    "    \"\"\"\n",
    "    使用Mixup和CutMix训练模型的完整函数\n",
    "    \n",
    "    参数:\n",
    "        model: 模型\n",
    "        train_loader: 训练数据加载器\n",
    "        val_loader: 验证数据加载器\n",
    "        criterion: 损失函数\n",
    "        optimizer: 优化器\n",
    "        scheduler: 学习率调度器\n",
    "        device: 设备\n",
    "        num_epochs: 训练周期数\n",
    "        mixup_alpha: Mixup参数\n",
    "        cutmix_alpha: CutMix参数\n",
    "        mixup_prob: 使用Mixup的概率\n",
    "        cutmix_prob: 使用CutMix的概率\n",
    "    \"\"\"\n",
    "    best_acc = 0.0\n",
    "    history = {'train_loss': [], 'train_acc': [], 'val_loss': [], 'val_acc': []}\n",
    "    \n",
    "    for epoch in range(num_epochs):\n",
    "        # 训练阶段\n",
    "        print(f'\\nEpoch {epoch+1}/{num_epochs}')\n",
    "        train_loss, train_acc = train_epoch_with_mixup_cutmix(\n",
    "            model, train_loader, criterion, optimizer, device, epoch+1,\n",
    "            mixup_alpha, cutmix_alpha, mixup_prob, cutmix_prob\n",
    "        )\n",
    "        \n",
    "        # 验证阶段\n",
    "        val_loss, val_acc = evaluate(model, val_loader, criterion, device)\n",
    "        \n",
    "        # 更新学习率\n",
    "        if scheduler is not None:\n",
    "            if isinstance(scheduler, torch.optim.lr_scheduler.ReduceLROnPlateau):\n",
    "                scheduler.step(val_loss)\n",
    "            else:\n",
    "                scheduler.step()\n",
    "        \n",
    "        # 保存历史记录\n",
    "        history['train_loss'].append(train_loss)\n",
    "        history['train_acc'].append(train_acc)\n",
    "        history['val_loss'].append(val_loss)\n",
    "        history['val_acc'].append(val_acc)\n",
    "        \n",
    "        print(f'Train Loss: {train_loss:.4f} | Train Acc: {train_acc:.2f}%')\n",
    "        print(f'Val Loss: {val_loss:.4f} | Val Acc: {val_acc:.2f}%')\n",
    "        \n",
    "        # 保存最佳模型\n",
    "        if val_acc > best_acc:\n",
    "            print(f'保存最佳模型，验证准确率从 {best_acc:.2f}% 提升到 {val_acc:.2f}%')\n",
    "            best_acc = val_acc\n",
    "            torch.save(model.state_dict(), 'best_model.pth')\n",
    "    \n",
    "    return model, history"
   ]
  },
  {
   "cell_type": "markdown",
   "metadata": {},
   "source": [
    "4. 评估函数"
   ]
  },
  {
   "cell_type": "code",
   "execution_count": 5,
   "metadata": {},
   "outputs": [],
   "source": [
    "def evaluate(model, data_loader, criterion, device):\n",
    "    \"\"\"\n",
    "    评估模型在验证集或测试集上的性能\n",
    "    \"\"\"\n",
    "    model.eval()\n",
    "    loss = 0\n",
    "    correct = 0\n",
    "    total = 0\n",
    "    \n",
    "    with torch.no_grad():\n",
    "        for batch_idx, (images, targets) in enumerate(data_loader):\n",
    "            # 检查批次是否为None（custom_collate_fn可能返回None）\n",
    "            if images is None or targets is None:\n",
    "                continue\n",
    "                \n",
    "            images, targets = images.to(device), targets.to(device)\n",
    "            outputs = model(images)\n",
    "            batch_loss = criterion(outputs, targets)\n",
    "            \n",
    "            loss += batch_loss.item()\n",
    "            _, predicted = outputs.max(1)\n",
    "            total += targets.size(0)\n",
    "            correct += predicted.eq(targets).sum().item()\n",
    "    \n",
    "    # 计算平均损失和准确率\n",
    "    avg_loss = loss / len(data_loader)\n",
    "    accuracy = 100.0 * correct / total\n",
    "    \n",
    "    return avg_loss, accuracy"
   ]
  },
  {
   "cell_type": "markdown",
   "metadata": {},
   "source": [
    "5. 可视化函数，展示Mixup和CutMix的效果"
   ]
  },
  {
   "cell_type": "code",
   "execution_count": 6,
   "metadata": {},
   "outputs": [],
   "source": [
    "def visualize_mixup_cutmix(train_dataset, batch_size=4, device='cpu'):\n",
    "    \"\"\"\n",
    "    可视化Mixup和CutMix效果的函数\n",
    "    \"\"\"\n",
    "    # 创建简单的DataLoader\n",
    "    temp_loader = torch.utils.data.DataLoader(\n",
    "        train_dataset, batch_size=batch_size, shuffle=True\n",
    "    )\n",
    "    \n",
    "    # 获取一批数据\n",
    "    images, labels = next(iter(temp_loader))\n",
    "    images, labels = images.to(device), labels.to(device)\n",
    "    \n",
    "    # 应用Mixup\n",
    "    mixed_images, targets_a, targets_b, lam_mixup = mixup_data(images, labels, alpha=1.0, device=device)\n",
    "    \n",
    "    # 应用CutMix\n",
    "    cutmix_images, targets_a_cm, targets_b_cm, lam_cutmix = cutmix_data(images, labels, alpha=1.0, device=device)\n",
    "    \n",
    "    # 可视化\n",
    "    fig, axes = plt.subplots(3, batch_size, figsize=(15, 10))\n",
    "    \n",
    "    # 显示原始图像\n",
    "    for i in range(batch_size):\n",
    "        img = images[i].cpu().numpy().transpose(1, 2, 0)\n",
    "        # 反归一化函数，假设使用ImageNet的标准化参数\n",
    "        img = img * np.array([0.229, 0.224, 0.225]) + np.array([0.485, 0.456, 0.406])\n",
    "        img = np.clip(img, 0, 1)\n",
    "        axes[0, i].imshow(img)\n",
    "        axes[0, i].set_title(f'原始: {labels[i].item()}')\n",
    "        axes[0, i].axis('off')\n",
    "    \n",
    "    # 显示Mixup图像\n",
    "    for i in range(batch_size):\n",
    "        img = mixed_images[i].cpu().numpy().transpose(1, 2, 0)\n",
    "        img = img * np.array([0.229, 0.224, 0.225]) + np.array([0.485, 0.456, 0.406])\n",
    "        img = np.clip(img, 0, 1)\n",
    "        axes[1, i].imshow(img)\n",
    "        axes[1, i].set_title(f'Mixup: {targets_a[i].item()},{targets_b[i].item()}\\nλ={lam_mixup:.2f}')\n",
    "        axes[1, i].axis('off')\n",
    "    \n",
    "    # 显示CutMix图像\n",
    "    for i in range(batch_size):\n",
    "        img = cutmix_images[i].cpu().numpy().transpose(1, 2, 0)\n",
    "        img = img * np.array([0.229, 0.224, 0.225]) + np.array([0.485, 0.456, 0.406])\n",
    "        img = np.clip(img, 0, 1)\n",
    "        axes[2, i].imshow(img)\n",
    "        axes[2, i].set_title(f'CutMix: {targets_a_cm[i].item()},{targets_b_cm[i].item()}\\nλ={lam_cutmix:.2f}')\n",
    "        axes[2, i].axis('off')\n",
    "    \n",
    "    plt.tight_layout()\n",
    "    plt.show()\n",
    "    \n",
    "    return mixed_images, cutmix_images"
   ]
  },
  {
   "cell_type": "markdown",
   "metadata": {},
   "source": [
    "构建模型"
   ]
  },
  {
   "cell_type": "code",
   "execution_count": 7,
   "metadata": {},
   "outputs": [],
   "source": [
    "import torch\n",
    "import torch.nn as nn\n",
    "import torch.nn.functional as F\n",
    "import torchvision.models as models\n",
    "\n",
    "# 1. 基本的迁移学习ResNet152模型\n",
    "class ResNet152Transfer(nn.Module):\n",
    "    def __init__(self, num_classes=881, pretrained=True):\n",
    "        super(ResNet152Transfer, self).__init__()\n",
    "        # 加载预训练的ResNet152模型\n",
    "        self.model = models.resnet152(pretrained=pretrained)\n",
    "        # 修改最后的全连接层以匹配我们的类别数\n",
    "        in_features = self.model.fc.in_features\n",
    "        self.model.fc = nn.Linear(in_features, num_classes)\n",
    "        \n",
    "    def forward(self, x):\n",
    "        return self.model(x)\n",
    "\n",
    "# 2. 注意力机制模块\n",
    "class SpatialAttention(nn.Module):\n",
    "    def __init__(self, kernel_size=7):\n",
    "        super(SpatialAttention, self).__init__()\n",
    "        padding = kernel_size // 2\n",
    "        self.conv = nn.Conv2d(2, 1, kernel_size=kernel_size, padding=padding)\n",
    "        self.sigmoid = nn.Sigmoid()\n",
    "        \n",
    "    def forward(self, x):\n",
    "        # 计算空间注意力图\n",
    "        avg_out = torch.mean(x, dim=1, keepdim=True)\n",
    "        max_out, _ = torch.max(x, dim=1, keepdim=True)\n",
    "        attention = torch.cat([avg_out, max_out], dim=1)\n",
    "        attention = self.conv(attention)\n",
    "        attention_map = self.sigmoid(attention)\n",
    "        \n",
    "        # 应用注意力\n",
    "        return x * attention_map\n",
    "\n",
    "class ChannelAttention(nn.Module):\n",
    "    def __init__(self, in_channels, reduction_ratio=16):\n",
    "        super(ChannelAttention, self).__init__()\n",
    "        self.avg_pool = nn.AdaptiveAvgPool2d(1)\n",
    "        self.max_pool = nn.AdaptiveMaxPool2d(1)\n",
    "        self.fc1 = nn.Conv2d(in_channels, in_channels // reduction_ratio, kernel_size=1)\n",
    "        self.relu = nn.ReLU(inplace=True)\n",
    "        self.fc2 = nn.Conv2d(in_channels // reduction_ratio, in_channels, kernel_size=1)\n",
    "        self.sigmoid = nn.Sigmoid()\n",
    "        \n",
    "    def forward(self, x):\n",
    "        avg_out = self.fc2(self.relu(self.fc1(self.avg_pool(x))))\n",
    "        max_out = self.fc2(self.relu(self.fc1(self.max_pool(x))))\n",
    "        attention = self.sigmoid(avg_out + max_out)\n",
    "        return x * attention\n",
    "\n",
    "class CBAM(nn.Module):\n",
    "    def __init__(self, in_channels, reduction_ratio=16, kernel_size=7):\n",
    "        super(CBAM, self).__init__()\n",
    "        self.channel_attention = ChannelAttention(in_channels, reduction_ratio)\n",
    "        self.spatial_attention = SpatialAttention(kernel_size)\n",
    "        \n",
    "    def forward(self, x):\n",
    "        x = self.channel_attention(x)\n",
    "        x = self.spatial_attention(x)\n",
    "        return x\n",
    "\n",
    "# 3. 带注意力机制的ResNet152模型\n",
    "class ResNet152WithAttention(nn.Module):\n",
    "    def __init__(self, num_classes = 881, pretrained=True):\n",
    "        super(ResNet152WithAttention, self).__init__()\n",
    "        # 加载预训练的ResNet152模型，不包括最后的全连接层\n",
    "        model = models.resnet152(pretrained=pretrained)\n",
    "        self.conv1 = model.conv1\n",
    "        self.bn1 = model.bn1\n",
    "        self.relu = model.relu\n",
    "        self.maxpool = model.maxpool\n",
    "        \n",
    "        # ResNet的四个主要层块\n",
    "        self.layer1 = model.layer1\n",
    "        self.layer2 = model.layer2\n",
    "        self.layer3 = model.layer3\n",
    "        self.layer4 = model.layer4\n",
    "        \n",
    "        # 在layer4后添加注意力机制\n",
    "        self.cbam = CBAM(2048)\n",
    "        \n",
    "        # Global Average Pooling和分类器\n",
    "        self.avgpool = nn.AdaptiveAvgPool2d((1, 1))\n",
    "        self.fc = nn.Linear(2048, num_classes)\n",
    "        \n",
    "    def forward(self, x):\n",
    "        x = self.conv1(x)\n",
    "        x = self.bn1(x)\n",
    "        x = self.relu(x)\n",
    "        x = self.maxpool(x)\n",
    "        \n",
    "        x = self.layer1(x)\n",
    "        x = self.layer2(x)\n",
    "        x = self.layer3(x)\n",
    "        x = self.layer4(x)\n",
    "        \n",
    "        # 应用注意力机制\n",
    "        x = self.cbam(x)\n",
    "        \n",
    "        x = self.avgpool(x)\n",
    "        x = torch.flatten(x, 1)\n",
    "        x = self.fc(x)\n",
    "        \n",
    "        return x\n",
    "\n",
    "# 4. Local-Global模块\n",
    "class LocalGlobalModule(nn.Module):\n",
    "    def __init__(self, in_channels):\n",
    "        super(LocalGlobalModule, self).__init__()\n",
    "        # 局部分支 - 保持空间信息\n",
    "        self.local_branch = nn.Sequential(\n",
    "            nn.Conv2d(in_channels, in_channels, kernel_size=3, padding=1),\n",
    "            nn.BatchNorm2d(in_channels),\n",
    "            nn.ReLU(inplace=True)\n",
    "        )\n",
    "        \n",
    "        # 全局分支 - 捕获全局上下文\n",
    "        self.global_branch = nn.Sequential(\n",
    "            nn.AdaptiveAvgPool2d(1),\n",
    "            nn.Conv2d(in_channels, in_channels, kernel_size=1),\n",
    "            nn.BatchNorm2d(in_channels),\n",
    "            nn.ReLU(inplace=True)\n",
    "        )\n",
    "        \n",
    "        # 融合层\n",
    "        self.fusion = nn.Sequential(\n",
    "            nn.Conv2d(in_channels * 2, in_channels, kernel_size=1),\n",
    "            nn.BatchNorm2d(in_channels),\n",
    "            nn.ReLU(inplace=True)\n",
    "        )\n",
    "        \n",
    "    def forward(self, x):\n",
    "        local_feat = self.local_branch(x)\n",
    "        global_feat = self.global_branch(x)\n",
    "        global_feat = global_feat.expand_as(local_feat)\n",
    "        \n",
    "        # 融合局部和全局特征\n",
    "        fusion = torch.cat([local_feat, global_feat], dim=1)\n",
    "        output = self.fusion(fusion)\n",
    "        \n",
    "        return output + x  # 残差连接\n",
    "        \n",
    "# 5. 融合Local-Global的ResNet152模型\n",
    "class ResNet152WithLocalGlobal(nn.Module):\n",
    "    def __init__(self, num_classes=881, pretrained=True):\n",
    "        super(ResNet152WithLocalGlobal, self).__init__()\n",
    "        # 加载预训练的ResNet152模型，不包括最后的全连接层\n",
    "        model = models.resnet152(pretrained=pretrained)\n",
    "        self.conv1 = model.conv1\n",
    "        self.bn1 = model.bn1\n",
    "        self.relu = model.relu\n",
    "        self.maxpool = model.maxpool\n",
    "        \n",
    "        # ResNet的四个主要层块\n",
    "        self.layer1 = model.layer1\n",
    "        self.layer2 = model.layer2\n",
    "        self.layer3 = model.layer3\n",
    "        self.layer4 = model.layer4\n",
    "        \n",
    "        # 在每个阶段后添加Local-Global模块\n",
    "        self.lg1 = LocalGlobalModule(256)\n",
    "        self.lg2 = LocalGlobalModule(512)\n",
    "        self.lg3 = LocalGlobalModule(1024)\n",
    "        self.lg4 = LocalGlobalModule(2048)\n",
    "        \n",
    "        # Global Average Pooling和分类器\n",
    "        self.avgpool = nn.AdaptiveAvgPool2d((1, 1))\n",
    "        self.fc = nn.Linear(2048, num_classes)\n",
    "        \n",
    "    def forward(self, x):\n",
    "        x = self.conv1(x)\n",
    "        x = self.bn1(x)\n",
    "        x = self.relu(x)\n",
    "        x = self.maxpool(x)\n",
    "        \n",
    "        x = self.layer1(x)\n",
    "        x = self.lg1(x)\n",
    "        \n",
    "        x = self.layer2(x)\n",
    "        x = self.lg2(x)\n",
    "        \n",
    "        x = self.layer3(x)\n",
    "        x = self.lg3(x)\n",
    "        \n",
    "        x = self.layer4(x)\n",
    "        x = self.lg4(x)\n",
    "        \n",
    "        x = self.avgpool(x)\n",
    "        x = torch.flatten(x, 1)\n",
    "        x = self.fc(x)\n",
    "        \n",
    "        return x\n",
    "\n",
    "# 6. 结合注意力和Local-Global的最终模型\n",
    "class ResNet152WithAttentionAndLocalGlobal(nn.Module):\n",
    "    def __init__(self, num_classes=881, pretrained=True):\n",
    "        super(ResNet152WithAttentionAndLocalGlobal, self).__init__()\n",
    "        # 加载预训练的ResNet152模型，不包括最后的全连接层\n",
    "        model = models.resnet152(pretrained=pretrained)\n",
    "        self.conv1 = model.conv1\n",
    "        self.bn1 = model.bn1\n",
    "        self.relu = model.relu\n",
    "        self.maxpool = model.maxpool\n",
    "        \n",
    "        # ResNet的四个主要层块\n",
    "        self.layer1 = model.layer1\n",
    "        self.layer2 = model.layer2\n",
    "        self.layer3 = model.layer3\n",
    "        self.layer4 = model.layer4\n",
    "        \n",
    "        # 添加Local-Global模块\n",
    "        self.lg1 = LocalGlobalModule(256)\n",
    "        self.lg2 = LocalGlobalModule(512)\n",
    "        self.lg3 = LocalGlobalModule(1024)\n",
    "        self.lg4 = LocalGlobalModule(2048)\n",
    "        \n",
    "        # 添加注意力机制\n",
    "        self.cbam = CBAM(2048)\n",
    "        \n",
    "        # Global Average Pooling和分类器\n",
    "        self.avgpool = nn.AdaptiveAvgPool2d((1, 1))\n",
    "        self.fc = nn.Linear(2048, num_classes)\n",
    "        \n",
    "    def forward(self, x):\n",
    "        x = self.conv1(x)\n",
    "        x = self.bn1(x)\n",
    "        x = self.relu(x)\n",
    "        x = self.maxpool(x)\n",
    "        \n",
    "        x = self.layer1(x)\n",
    "        x = self.lg1(x)\n",
    "        \n",
    "        x = self.layer2(x)\n",
    "        x = self.lg2(x)\n",
    "        \n",
    "        x = self.layer3(x)\n",
    "        x = self.lg3(x)\n",
    "        \n",
    "        x = self.layer4(x)\n",
    "        x = self.lg4(x)\n",
    "        \n",
    "        # 应用注意力机制\n",
    "        x = self.cbam(x)\n",
    "        \n",
    "        x = self.avgpool(x)\n",
    "        x = torch.flatten(x, 1)\n",
    "        x = self.fc(x)\n",
    "        \n",
    "        return x\n",
    "    \n",
    "class MultiScaleFeatureFusion(nn.Module):\n",
    "    def __init__(self, channels=(512, 1024, 2048), fusion_dim=512):\n",
    "        super(MultiScaleFeatureFusion, self).__init__()\n",
    "        \n",
    "        # 用于将各层特征映射到相同维度\n",
    "        self.lateral_convs = nn.ModuleList([\n",
    "            nn.Conv2d(ch, fusion_dim, kernel_size=1) for ch in channels\n",
    "        ])\n",
    "        \n",
    "        # 上采样模块（可选，取决于如何融合不同尺度）\n",
    "        self.upsample = nn.Upsample(scale_factor=2, mode='bilinear', align_corners=False)\n",
    "        \n",
    "        # 融合后的卷积精炼\n",
    "        self.fusion_conv = nn.Conv2d(fusion_dim * len(channels), fusion_dim, kernel_size=3, padding=1)\n",
    "        self.fusion_norm = nn.BatchNorm2d(fusion_dim)\n",
    "        self.fusion_act = nn.ReLU(inplace=True)\n",
    "        \n",
    "        # 特征通道压缩\n",
    "        self.output_dim = fusion_dim\n",
    "    \n",
    "    def forward(self, features):\n",
    "        # features是从ResNet不同层获取的特征列表\n",
    "        \n",
    "        # 将所有特征转换为相同通道数\n",
    "        processed_features = [conv(feat) for conv, feat in zip(self.lateral_convs, features)]\n",
    "        \n",
    "        # 将所有特征上采样到相同尺寸(使用最大的特征图尺寸)\n",
    "        target_size = processed_features[0].shape[2:]\n",
    "        resized_features = [\n",
    "            F.interpolate(feat, size=target_size, mode='bilinear', align_corners=False) \n",
    "            if feat.shape[2:] != target_size else feat\n",
    "            for feat in processed_features\n",
    "        ]\n",
    "        \n",
    "        # 按通道拼接所有特征\n",
    "        fused = torch.cat(resized_features, dim=1)\n",
    "        \n",
    "        # 应用融合卷积\n",
    "        output = self.fusion_act(self.fusion_norm(self.fusion_conv(fused)))\n",
    "        \n",
    "        return output\n",
    "    \n",
    "class MultiScaleCBAM(nn.Module):\n",
    "    def __init__(self, in_channels, reduction_ratio=16):\n",
    "        super(MultiScaleCBAM, self).__init__()\n",
    "        \n",
    "        # 原始CBAM的通道注意力\n",
    "        self.channel_attention = ChannelAttention(in_channels, reduction_ratio)\n",
    "        \n",
    "        # 多尺度空间注意力 - 使用不同大小的卷积核\n",
    "        self.spatial_att_3 = SpatialAttention(kernel_size=3)\n",
    "        self.spatial_att_5 = SpatialAttention(kernel_size=5)\n",
    "        self.spatial_att_7 = SpatialAttention(kernel_size=7)\n",
    "        \n",
    "        # 融合多尺度空间注意力\n",
    "        self.spatial_fusion = nn.Conv2d(3, 1, kernel_size=1)\n",
    "        self.sigmoid = nn.Sigmoid()\n",
    "        \n",
    "    def forward(self, x):\n",
    "        # 通道注意力\n",
    "        x = self.channel_attention(x)\n",
    "        \n",
    "        # 多尺度空间注意力\n",
    "        att_3 = self.spatial_att_3(x)\n",
    "        att_5 = self.spatial_att_5(x)\n",
    "        att_7 = self.spatial_att_7(x)\n",
    "        \n",
    "        # 使用1x1卷积融合不同尺度的注意力图\n",
    "        spatial_maps = torch.cat([\n",
    "            att_3, att_5, att_7\n",
    "        ], dim=1)\n",
    "        \n",
    "        fused_attention = self.sigmoid(self.spatial_fusion(spatial_maps))\n",
    "        \n",
    "        # 应用融合后的空间注意力\n",
    "        return x * fused_attention\n",
    "\n",
    "class EnhancedLocalGlobalModule(nn.Module):\n",
    "    def __init__(self, in_channels):\n",
    "        super(EnhancedLocalGlobalModule, self).__init__()\n",
    "        \n",
    "        # 局部分支 - 增强版本，多尺度局部特征提取\n",
    "        self.local_branch = nn.Sequential(\n",
    "            nn.Conv2d(in_channels, in_channels, kernel_size=3, padding=1),\n",
    "            nn.BatchNorm2d(in_channels),\n",
    "            nn.ReLU(inplace=True),\n",
    "            nn.Conv2d(in_channels, in_channels, kernel_size=1),\n",
    "            nn.BatchNorm2d(in_channels),\n",
    "            nn.ReLU(inplace=True)\n",
    "        )\n",
    "        \n",
    "        # 多尺度全局分支 - 使用不同尺寸的池化\n",
    "        self.global_branch_1 = nn.Sequential(\n",
    "            nn.AdaptiveAvgPool2d(1),  # 全局池化\n",
    "            nn.Conv2d(in_channels, in_channels//4, kernel_size=1),\n",
    "            nn.BatchNorm2d(in_channels//4),\n",
    "            nn.ReLU(inplace=True)\n",
    "        )\n",
    "        \n",
    "        self.global_branch_2 = nn.Sequential(\n",
    "            nn.AdaptiveAvgPool2d(2),  # 2x2池化\n",
    "            nn.Conv2d(in_channels, in_channels//4, kernel_size=1),\n",
    "            nn.BatchNorm2d(in_channels//4),\n",
    "            nn.ReLU(inplace=True)\n",
    "        )\n",
    "        \n",
    "        self.global_branch_4 = nn.Sequential(\n",
    "            nn.AdaptiveAvgPool2d(4),  # 4x4池化\n",
    "            nn.Conv2d(in_channels, in_channels//4, kernel_size=1),\n",
    "            nn.BatchNorm2d(in_channels//4),\n",
    "            nn.ReLU(inplace=True)\n",
    "        )\n",
    "        \n",
    "        self.global_branch_8 = nn.Sequential(\n",
    "            nn.AdaptiveAvgPool2d(8),  # 8x8池化\n",
    "            nn.Conv2d(in_channels, in_channels//4, kernel_size=1),\n",
    "            nn.BatchNorm2d(in_channels//4),\n",
    "            nn.ReLU(inplace=True)\n",
    "        )\n",
    "        \n",
    "        # 融合层\n",
    "        self.fusion = nn.Sequential(\n",
    "            nn.Conv2d(in_channels * 2, in_channels, kernel_size=1),\n",
    "            nn.BatchNorm2d(in_channels),\n",
    "            nn.ReLU(inplace=True)\n",
    "        )\n",
    "        \n",
    "    def forward(self, x):\n",
    "        # 局部特征\n",
    "        local_feat = self.local_branch(x)\n",
    "        \n",
    "        # 多尺度全局特征\n",
    "        global_feat_1 = self.global_branch_1(x)\n",
    "        global_feat_2 = self.global_branch_2(x)\n",
    "        global_feat_4 = self.global_branch_4(x)\n",
    "        global_feat_8 = self.global_branch_8(x)\n",
    "        \n",
    "        # 上采样所有全局特征到输入尺寸\n",
    "        h, w = x.size()[2:]\n",
    "        \n",
    "        global_feat_1 = F.interpolate(global_feat_1, size=(h, w), mode='bilinear', align_corners=False)\n",
    "        global_feat_2 = F.interpolate(global_feat_2, size=(h, w), mode='bilinear', align_corners=False)\n",
    "        global_feat_4 = F.interpolate(global_feat_4, size=(h, w), mode='bilinear', align_corners=False)\n",
    "        global_feat_8 = F.interpolate(global_feat_8, size=(h, w), mode='bilinear', align_corners=False)\n",
    "        \n",
    "        # 连接所有全局特征\n",
    "        global_feat = torch.cat([global_feat_1, global_feat_2, global_feat_4, global_feat_8], dim=1)\n",
    "        \n",
    "        # 融合局部和全局特征\n",
    "        fusion = torch.cat([local_feat, global_feat], dim=1)\n",
    "        output = self.fusion(fusion)\n",
    "        \n",
    "        return output + x  # 残差连接\n",
    "\n",
    "class EnhancedResNet152(nn.Module):\n",
    "    def __init__(self, num_classes=57, pretrained=True):\n",
    "        super(EnhancedResNet152, self).__init__()\n",
    "        \n",
    "        # 加载基础ResNet152，但不包含最后的全连接层\n",
    "        base_model = models.resnet152(pretrained=pretrained)\n",
    "        \n",
    "        # 提取骨干网络不同层次的特征\n",
    "        self.layer1 = nn.Sequential(*list(base_model.children())[:5])  # conv1, bn1, relu, maxpool, layer1\n",
    "        self.layer2 = base_model.layer2  # stride=2\n",
    "        self.layer3 = base_model.layer3  # stride=2\n",
    "        self.layer4 = base_model.layer4  # stride=2\n",
    "        \n",
    "        # 多尺度特征融合模块\n",
    "        self.multi_scale_fusion = MultiScaleFeatureFusion(\n",
    "            channels=(512, 1024, 2048),  # ResNet各层输出通道数\n",
    "            fusion_dim=512\n",
    "        )\n",
    "        \n",
    "        # 增强的多尺度注意力机制 (替换原有CBAM)\n",
    "        self.enhanced_cbam = nn.ModuleList([\n",
    "            MultiScaleCBAM(channel=ch, reduction_ratio=16) \n",
    "            for ch in [512, 1024, 2048]\n",
    "        ])\n",
    "        \n",
    "        # 增强型局部-全局特征学习模块\n",
    "        self.enhanced_local_global = EnhancedLocalGlobalModule(\n",
    "            in_channels=512,\n",
    "            reduction_ratio=4\n",
    "        )\n",
    "        \n",
    "        # 全局上下文注意力\n",
    "        self.global_context = nn.Sequential(\n",
    "            nn.AdaptiveAvgPool2d(1),\n",
    "            nn.Conv2d(2048, 512, kernel_size=1),\n",
    "            nn.ReLU(inplace=True)\n",
    "        )\n",
    "        \n",
    "        # 特征整合\n",
    "        self.feature_integration = nn.Sequential(\n",
    "            nn.Conv2d(512 + 512, 512, kernel_size=3, padding=1),\n",
    "            nn.BatchNorm2d(512),\n",
    "            nn.ReLU(inplace=True)\n",
    "        )\n",
    "        \n",
    "        # 分类头\n",
    "        self.avgpool = nn.AdaptiveAvgPool2d(1)\n",
    "        self.fc = nn.Sequential(\n",
    "            nn.Dropout(0.5),\n",
    "            nn.Linear(512, num_classes)\n",
    "        )\n",
    "    \n",
    "    def forward(self, x):\n",
    "        # 提取多层次特征\n",
    "        x1 = self.layer1(x)\n",
    "        x2 = self.layer2(x1)\n",
    "        x3 = self.layer3(x2)\n",
    "        x4 = self.layer4(x3)\n",
    "        \n",
    "        # 应用多尺度注意力机制到不同层\n",
    "        x2_att = self.enhanced_cbam[0](x2)\n",
    "        x3_att = self.enhanced_cbam[1](x3)\n",
    "        x4_att = self.enhanced_cbam[2](x4)\n",
    "        \n",
    "        # 多尺度特征融合\n",
    "        multi_scale_features = self.multi_scale_fusion([x2_att, x3_att, x4_att])\n",
    "        \n",
    "        # 应用增强型局部-全局模块\n",
    "        enhanced_features = self.enhanced_local_global(multi_scale_features)\n",
    "        \n",
    "        # 全局上下文信息\n",
    "        global_context = self.global_context(x4)\n",
    "        \n",
    "        # 整合全局上下文与增强特征\n",
    "        B, C, H, W = enhanced_features.shape\n",
    "        expanded_global = global_context.expand(-1, -1, H, W)\n",
    "        integrated_features = torch.cat([enhanced_features, expanded_global], dim=1)\n",
    "        integrated_features = self.feature_integration(integrated_features)\n",
    "        \n",
    "        # 池化并分类\n",
    "        pooled_features = self.avgpool(integrated_features)\n",
    "        flattened_features = torch.flatten(pooled_features, 1)\n",
    "        logits = self.fc(flattened_features)\n",
    "        \n",
    "        # 返回特征和分类结果 (保持与原模型相同的返回格式)\n",
    "        return flattened_features, logits\n",
    "\n",
    "\n",
    "# 使用示例\n",
    "def get_model(model_name='resnet152_transfer', num_classes=881, pretrained=True):\n",
    "    \"\"\"\n",
    "    获取指定的模型\n",
    "    \n",
    "    参数:\n",
    "        model_name: 模型名称，可选值有'resnet152_transfer', 'resnet152_attention', \n",
    "                    'resnet152_local_global', 'resnet152_attention_local_global'\n",
    "        num_classes: 类别数量\n",
    "        pretrained: 是否使用预训练权重\n",
    "        \n",
    "    返回:\n",
    "        选择的模型实例\n",
    "    \"\"\"\n",
    "    if model_name == 'resnet152_transfer':\n",
    "        return ResNet152Transfer(num_classes=num_classes, pretrained=pretrained)\n",
    "    elif model_name == 'resnet152_attention':\n",
    "        return ResNet152WithAttention(num_classes=num_classes, pretrained=pretrained)\n",
    "    elif model_name == 'resnet152_local_global':\n",
    "        return ResNet152WithLocalGlobal(num_classes=num_classes, pretrained=pretrained)\n",
    "    elif model_name == 'resnet152_attention_local_global':\n",
    "        return ResNet152WithAttentionAndLocalGlobal(num_classes=num_classes, pretrained=pretrained)\n",
    "    elif model_name == 'enhanced_resnet152':\n",
    "        return EnhancedResNet152(num_classes=num_classes, pretrained=pretrained)\n",
    "    else:\n",
    "        raise ValueError(f\"不支持的模型名称: {model_name}\")"
   ]
  },
  {
   "cell_type": "code",
   "execution_count": 8,
   "metadata": {},
   "outputs": [],
   "source": [
    "import os\n",
    "import csv\n",
    "import time\n",
    "import numpy as np\n",
    "import pandas as pd\n",
    "from tqdm import tqdm\n",
    "from datetime import datetime\n",
    "\n",
    "import torch\n",
    "import torch.nn as nn\n",
    "import torch.optim as optim\n",
    "from torch.utils.data import DataLoader\n",
    "\n",
    "# 设置训练参数\n",
    "class TrainConfig:\n",
    "    def __init__(self):\n",
    "        # 基本训练参数\n",
    "        self.batch_size = 64\n",
    "        self.num_workers = 10\n",
    "        self.epochs = 60\n",
    "        self.learning_rate = 5e-5\n",
    "        self.weight_decay = 2e-4\n",
    "        \n",
    "        # 修改学习率调度器为余弦退火\n",
    "        self.scheduler_type = 'cosine'  # 或'plateau'\n",
    "        self.T_max = self.epochs  # 余弦退火需要\n",
    "        self.eta_min = 2e-6      # 余弦退火需要\n",
    "        \n",
    "        # 模型选择\n",
    "        self.model_name = 'enhanced_resnet152'  # 可选: 'resnet152_transfer', 'resnet152_attention', 'resnet152_local_global', 'resnet152_attention_local_global'\n",
    "        self.num_classes = 881\n",
    "        self.pretrained = True\n",
    "        \n",
    "        # 损失函数选择\n",
    "        self.loss_type = 'focal_contrastive'  # 可选: 'ce', 'focal', 'contrastive', 'focal_contrastive'\n",
    "        self.focal_gamma = 2.0\n",
    "        self.focal_alpha = None  # 可以设为None或按类别权重设置\n",
    "        self.contrastive_margin = 1.5  # 类间间隔\n",
    "        self.focal_weight = 1.0\n",
    "        self.contrastive_weight = 0.5\n",
    "        \n",
    "        # 数据增强参数\n",
    "        self.use_mixup = True\n",
    "        self.use_cutmix = True\n",
    "        self.mixup_alpha = 1.5\n",
    "        self.cutmix_alpha = 1.5\n",
    "        self.mixup_prob = 0.5\n",
    "        self.cutmix_prob = 0.5\n",
    "        \n",
    "        # 保存路径\n",
    "        self.save_dir = 'saved_models'\n",
    "        self.experiment_name = f\"{self.model_name}_{self.loss_type}_{datetime.now().strftime('%Y%m%d_%H%M%S')}\"\n",
    "        self.save_path = os.path.join(self.save_dir, self.experiment_name)\n",
    "        \n",
    "        # 断点续训参数\n",
    "        self.resume_training = False\n",
    "        self.checkpoint_path = None  # 如果resume_training为True，需要指定检查点路径\n",
    "\n",
    "\n",
    "# 创建保存目录\n",
    "def create_save_directory(config):\n",
    "    if not os.path.exists(config.save_dir):\n",
    "        os.makedirs(config.save_dir)\n",
    "    \n",
    "    if not os.path.exists(config.save_path):\n",
    "        os.makedirs(config.save_path)\n",
    "    \n",
    "    print(f\"模型和日志将保存在: {config.save_path}\")\n",
    "\n",
    "\n",
    "# 创建CSV记录文件\n",
    "def create_csv_logger(config):\n",
    "    csv_path = os.path.join(config.save_path, 'training_log.csv')\n",
    "    \n",
    "    # 检查是否存在\n",
    "    file_exists = os.path.isfile(csv_path)\n",
    "    \n",
    "    # 创建或打开CSV文件\n",
    "    csv_file = open(csv_path, 'a', newline='')\n",
    "    writer = csv.writer(csv_file)\n",
    "    \n",
    "    # 如果是新文件，写入表头\n",
    "    if not file_exists:\n",
    "        writer.writerow(['epoch', 'train_loss', 'train_acc', 'val_loss', 'val_acc', \n",
    "                         'best_val_acc', 'learning_rate', 'time_elapsed'])\n",
    "    \n",
    "    return csv_file, writer\n",
    "\n",
    "\n",
    "# 创建损失函数\n",
    "def get_loss_function(config, device):\n",
    "    if config.loss_type == 'ce':\n",
    "        print(\"使用交叉熵损失函数\")\n",
    "        return nn.CrossEntropyLoss()\n",
    "    \n",
    "    elif config.loss_type == 'focal':\n",
    "        print(f\"使用Focal Loss, gamma={config.focal_gamma}\")\n",
    "        return FocalLoss(gamma=config.focal_gamma, alpha=config.focal_alpha)\n",
    "    \n",
    "    elif config.loss_type == 'contrastive':\n",
    "        print(f\"使用Contrastive Loss, margin={config.contrastive_margin}\")\n",
    "        return ContrastiveLoss(margin=config.contrastive_margin)\n",
    "    \n",
    "    elif config.loss_type == 'focal_contrastive':\n",
    "        print(f\"使用Focal Contrastive Loss, gamma={config.focal_gamma}, margin={config.contrastive_margin}, \"\n",
    "              f\"focal_weight={config.focal_weight}, contrastive_weight={config.contrastive_weight}\")\n",
    "        return FocalContrastiveLoss(gamma=config.focal_gamma, alpha=config.focal_alpha, \n",
    "                                   margin=config.contrastive_margin, \n",
    "                                   focal_weight=config.focal_weight, \n",
    "                                   contrastive_weight=config.contrastive_weight)\n",
    "    else:\n",
    "        raise ValueError(f\"不支持的损失函数类型: {config.loss_type}\")\n",
    "\n",
    "\n",
    "# 加载或创建模型\n",
    "def load_or_create_model(config, device):\n",
    "    print(f\"创建模型: {config.model_name}\")\n",
    "    \n",
    "    # 根据损失函数类型选择合适的模型\n",
    "    if config.loss_type == 'contrastive' or config.loss_type == 'focal_contrastive':\n",
    "        # 这些损失函数需要特征，使用带特征输出的模型\n",
    "        model = ResNet152WithFeatures(num_classes=config.num_classes, pretrained=config.pretrained).to(device)\n",
    "        print(\"使用ResNet152WithFeatures模型以支持特征学习损失函数\")\n",
    "    else:\n",
    "        # 标准模型\n",
    "        model = get_model(config.model_name, num_classes=config.num_classes, pretrained=config.pretrained).to(device)\n",
    "    \n",
    "    # 如果需要断点续训\n",
    "    start_epoch = 0\n",
    "    if config.resume_training and config.checkpoint_path:\n",
    "        if os.path.isfile(config.checkpoint_path):\n",
    "            print(f\"加载检查点: {config.checkpoint_path}\")\n",
    "            checkpoint = torch.load(config.checkpoint_path)\n",
    "            model.load_state_dict(checkpoint['model_state_dict'])\n",
    "            start_epoch = checkpoint['epoch'] + 1\n",
    "            print(f\"从第 {start_epoch} 个epoch继续训练\")\n",
    "        else:\n",
    "            print(f\"未找到检查点文件: {config.checkpoint_path}, 将从头开始训练\")\n",
    "    \n",
    "    return model, start_epoch\n",
    "\n",
    "\n",
    "# 打印训练配置信息\n",
    "def print_training_info(config):\n",
    "    print(\"\\n\" + \"=\"*50)\n",
    "    print(\"训练配置:\")\n",
    "    print(f\"模型: {config.model_name}\")\n",
    "    print(f\"损失函数: {config.loss_type}\")\n",
    "    print(f\"批次大小: {config.batch_size}\")\n",
    "    print(f\"工作进程数: {config.num_workers}\")\n",
    "    print(f\"总训练周期: {config.epochs}\")\n",
    "    \n",
    "    # 数据增强信息\n",
    "    aug_methods = []\n",
    "    if config.use_mixup:\n",
    "        aug_methods.append(f\"Mixup(alpha={config.mixup_alpha}, prob={config.mixup_prob})\")\n",
    "    if config.use_cutmix:\n",
    "        aug_methods.append(f\"CutMix(alpha={config.cutmix_alpha}, prob={config.cutmix_prob})\")\n",
    "    \n",
    "    print(f\"数据增强方法: {', '.join(aug_methods) if aug_methods else '无'}\")\n",
    "    print(\"=\"*50 + \"\\n\")\n",
    "\n",
    "\n",
    "# 单个epoch的训练函数（支持不同类型的损失函数）\n",
    "def train_one_epoch(model, train_loader, criterion, optimizer, device, config, epoch):\n",
    "    model.train()\n",
    "    train_loss = 0\n",
    "    correct = 0\n",
    "    total = 0\n",
    "    \n",
    "    # 为带进度条的数据加载器设置描述\n",
    "    pbar = tqdm(train_loader, desc=f\"Epoch {epoch+1}/{config.epochs} [Train]\", unit=\"batch\")\n",
    "    \n",
    "    for batch_idx, (images, targets) in enumerate(pbar):\n",
    "        # 检查批次是否为None\n",
    "        if images is None or targets is None:\n",
    "            print(f\"跳过批次 {batch_idx} - 所有图片无效\")\n",
    "            continue\n",
    "            \n",
    "        images, targets = images.to(device), targets.to(device)\n",
    "        \n",
    "        # 根据损失函数类型处理\n",
    "        if config.loss_type == 'contrastive' or config.loss_type == 'focal_contrastive':\n",
    "            # 需要特征的损失函数使用的模型\n",
    "            features, logits = model(images)\n",
    "            \n",
    "            if config.loss_type == 'focal_contrastive':\n",
    "                loss = criterion(logits, features, targets)\n",
    "            else:  # contrastive\n",
    "                loss = criterion(features, targets)\n",
    "                logits = model.fc(features)  # 为了计算准确率\n",
    "                \n",
    "        else:\n",
    "            # 标准损失函数\n",
    "            # 决定是否使用混合增强\n",
    "            if config.use_mixup or config.use_cutmix:\n",
    "                r = np.random.rand()\n",
    "                \n",
    "                if r < config.mixup_prob and config.use_mixup:\n",
    "                    # 应用Mixup\n",
    "                    images, targets_a, targets_b, lam = mixup_data(images, targets, config.mixup_alpha, device)\n",
    "                    logits = model(images)\n",
    "                    loss = mixup_criterion(criterion, logits, targets_a, targets_b, lam)\n",
    "                    \n",
    "                    # 对于mixup，准确率计算是近似的\n",
    "                    _, predicted = logits.max(1)\n",
    "                    total += targets.size(0)\n",
    "                    correct += (lam * predicted.eq(targets_a).sum().float() + \n",
    "                              (1 - lam) * predicted.eq(targets_b).sum().float()).item()\n",
    "                    \n",
    "                elif r < config.mixup_prob + config.cutmix_prob and config.use_cutmix:\n",
    "                    # 应用CutMix\n",
    "                    images, targets_a, targets_b, lam = cutmix_data(images, targets, config.cutmix_alpha, device)\n",
    "                    logits = model(images)\n",
    "                    loss = cutmix_criterion(criterion, logits, targets_a, targets_b, lam)\n",
    "                    \n",
    "                    # 对于cutmix，准确率计算是近似的\n",
    "                    _, predicted = logits.max(1)\n",
    "                    total += targets.size(0)\n",
    "                    correct += (lam * predicted.eq(targets_a).sum().float() + \n",
    "                              (1 - lam) * predicted.eq(targets_b).sum().float()).item()\n",
    "                    \n",
    "                else:\n",
    "                    # 不使用混合增强\n",
    "                    logits = model(images)\n",
    "                    loss = criterion(logits, targets)\n",
    "                    \n",
    "                    # 标准准确率计算\n",
    "                    _, predicted = logits.max(1)\n",
    "                    total += targets.size(0)\n",
    "                    correct += predicted.eq(targets).sum().item()\n",
    "            else:\n",
    "                # 不使用任何混合增强\n",
    "                logits = model(images)\n",
    "                loss = criterion(logits, targets)\n",
    "                \n",
    "                # 标准准确率计算\n",
    "                _, predicted = logits.max(1)\n",
    "                total += targets.size(0)\n",
    "                correct += predicted.eq(targets).sum().item()\n",
    "        \n",
    "        # 反向传播和优化\n",
    "        optimizer.zero_grad()\n",
    "        loss.backward()\n",
    "        optimizer.step()\n",
    "        \n",
    "        # 更新训练统计信息\n",
    "        train_loss += loss.item()\n",
    "        \n",
    "        # 如果是标准模型（没有特征输出）且没有应用混合增强，计算准确率\n",
    "        if (config.loss_type != 'contrastive' and config.loss_type != 'focal_contrastive') and not (config.use_mixup or config.use_cutmix):\n",
    "            _, predicted = logits.max(1)\n",
    "            total += targets.size(0)\n",
    "            correct += predicted.eq(targets).sum().item()\n",
    "        \n",
    "        # 更新进度条\n",
    "        current_loss = train_loss / (batch_idx + 1)\n",
    "        current_acc = 100.0 * correct / total if total > 0 else 0\n",
    "        pbar.set_postfix({\n",
    "            'loss': f'{current_loss:.3f}', \n",
    "            'acc': f'{current_acc:.2f}%'\n",
    "        })\n",
    "    \n",
    "    # 计算平均训练损失和准确率\n",
    "    avg_train_loss = train_loss / len(train_loader)\n",
    "    train_acc = 100.0 * correct / total if total > 0 else 0\n",
    "    \n",
    "    return avg_train_loss, train_acc\n",
    "\n",
    "\n",
    "# 评估函数（支持不同类型的损失函数）\n",
    "def validate(model, val_loader, criterion, device, config):\n",
    "    model.eval()\n",
    "    val_loss = 0\n",
    "    correct = 0\n",
    "    total = 0\n",
    "    \n",
    "    pbar = tqdm(val_loader, desc=\"Validation\", unit=\"batch\")\n",
    "    \n",
    "    with torch.no_grad():\n",
    "        for batch_idx, (images, targets) in enumerate(pbar):\n",
    "            # 检查批次是否为None\n",
    "            if images is None or targets is None:\n",
    "                continue\n",
    "                \n",
    "            images, targets = images.to(device), targets.to(device)\n",
    "            \n",
    "            # 根据损失函数类型处理\n",
    "            if config.loss_type == 'contrastive' or config.loss_type == 'focal_contrastive':\n",
    "                features, logits = model(images)\n",
    "                \n",
    "                if config.loss_type == 'focal_contrastive':\n",
    "                    loss = criterion(logits, features, targets)\n",
    "                else:  # contrastive\n",
    "                    loss = criterion(features, targets)\n",
    "            else:\n",
    "                # 标准损失函数\n",
    "                logits = model(images)\n",
    "                loss = criterion(logits, targets)\n",
    "            \n",
    "            val_loss += loss.item()\n",
    "            \n",
    "            # 计算准确率\n",
    "            if config.loss_type == 'contrastive':\n",
    "                logits = model.fc(features)  # 为了计算准确率\n",
    "                \n",
    "            _, predicted = logits.max(1)\n",
    "            total += targets.size(0)\n",
    "            correct += predicted.eq(targets).sum().item()\n",
    "            \n",
    "            # 更新进度条\n",
    "            current_loss = val_loss / (batch_idx + 1)\n",
    "            current_acc = 100.0 * correct / total\n",
    "            pbar.set_postfix({\n",
    "                'loss': f'{current_loss:.3f}', \n",
    "                'acc': f'{current_acc:.2f}%'\n",
    "            })\n",
    "    \n",
    "    # 计算平均验证损失和准确率\n",
    "    avg_val_loss = val_loss / len(val_loader)\n",
    "    val_acc = 100.0 * correct / total\n",
    "    \n",
    "    return avg_val_loss, val_acc\n",
    "\n",
    "\n",
    "# 保存检查点的函数\n",
    "def save_checkpoint(model, optimizer, scheduler, epoch, train_history, best_val_acc, config, is_best=False):\n",
    "    checkpoint_name = 'best_model.pth' if is_best else f'checkpoint_epoch_{epoch}.pth'\n",
    "    checkpoint_path = os.path.join(config.save_path, checkpoint_name)\n",
    "    \n",
    "    torch.save({\n",
    "        'epoch': epoch,\n",
    "        'model_state_dict': model.state_dict(),\n",
    "        'optimizer_state_dict': optimizer.state_dict(),\n",
    "        'scheduler_state_dict': scheduler.state_dict() if scheduler else None,\n",
    "        'train_history': train_history,\n",
    "        'best_val_acc': best_val_acc,\n",
    "        'config': config.__dict__  # 保存配置以便复现\n",
    "    }, checkpoint_path)\n",
    "    \n",
    "    print(f\"{'最佳' if is_best else '检查点'} 模型已保存到 {checkpoint_path}\")\n",
    "    \n",
    "    # 如果不是最佳模型，只保留最近的检查点\n",
    "    if not is_best:\n",
    "        # 删除之前的检查点\n",
    "        for old_checkpoint in os.listdir(config.save_path):\n",
    "            if old_checkpoint.startswith('checkpoint_epoch_') and old_checkpoint != f'checkpoint_epoch_{epoch}.pth':\n",
    "                os.remove(os.path.join(config.save_path, old_checkpoint))\n",
    "\n",
    "\n",
    "# 可视化训练和验证曲线\n",
    "# Visualize training and validation curves\n",
    "def plot_training_history(train_history, config):\n",
    "    import matplotlib.pyplot as plt\n",
    "    \n",
    "    epochs = range(1, len(train_history['train_loss']) + 1)\n",
    "    \n",
    "    plt.figure(figsize=(12, 5))\n",
    "    \n",
    "    # Plot loss curves\n",
    "    plt.subplot(1, 2, 1)\n",
    "    plt.plot(epochs, train_history['train_loss'], 'b-', label='Train Loss')\n",
    "    plt.plot(epochs, train_history['val_loss'], 'r-', label='Validation Loss')\n",
    "    plt.title('Loss Curves')\n",
    "    plt.xlabel('Epochs')\n",
    "    plt.ylabel('Loss')\n",
    "    plt.legend()\n",
    "    plt.grid(True)\n",
    "    \n",
    "    # Plot accuracy curves\n",
    "    plt.subplot(1, 2, 2)\n",
    "    plt.plot(epochs, train_history['train_acc'], 'b-', label='Train Accuracy')\n",
    "    plt.plot(epochs, train_history['val_acc'], 'r-', label='Validation Accuracy')\n",
    "    plt.title('Accuracy Curves')\n",
    "    plt.xlabel('Epochs')\n",
    "    plt.ylabel('Accuracy (%)')\n",
    "    plt.legend()\n",
    "    plt.grid(True)\n",
    "    \n",
    "    plt.tight_layout()\n",
    "    plt.savefig(os.path.join(config.save_path, 'training_history.png'))\n",
    "    plt.close()\n",
    "\n",
    "\n",
    "# 主训练循环\n",
    "def train_and_validate(model, train_loader, val_loader, criterion, optimizer, scheduler, \n",
    "                      config, start_epoch=0):\n",
    "    create_save_directory(config)\n",
    "    \n",
    "    # 创建CSV日志记录\n",
    "    csv_file, csv_writer = create_csv_logger(config)\n",
    "    \n",
    "    # 获取设备\n",
    "    device = next(model.parameters()).device\n",
    "    \n",
    "    # 打印训练配置信息\n",
    "    print_training_info(config)\n",
    "    \n",
    "    # 初始化训练历史记录\n",
    "    train_history = {\n",
    "        'train_loss': [],\n",
    "        'train_acc': [],\n",
    "        'val_loss': [],\n",
    "        'val_acc': []\n",
    "    }\n",
    "    \n",
    "    # 如果是断点续训，加载历史训练记录\n",
    "    best_val_acc = 0\n",
    "    if config.resume_training and config.checkpoint_path:\n",
    "        checkpoint = torch.load(config.checkpoint_path)\n",
    "        if 'train_history' in checkpoint:\n",
    "            train_history = checkpoint['train_history']\n",
    "        if 'best_val_acc' in checkpoint:\n",
    "            best_val_acc = checkpoint['best_val_acc']\n",
    "    \n",
    "    # 主训练循环\n",
    "    print(\"\\n开始训练...\")\n",
    "    for epoch in range(start_epoch, config.epochs):\n",
    "        epoch_start_time = time.time()\n",
    "        \n",
    "        # 训练一个epoch\n",
    "        train_loss, train_acc = train_one_epoch(\n",
    "            model, train_loader, criterion, optimizer, device, config, epoch\n",
    "        )\n",
    "        \n",
    "        # 验证\n",
    "        val_loss, val_acc = validate(model, val_loader, criterion, device, config)\n",
    "        \n",
    "        # 更新学习率\n",
    "        if scheduler is not None:\n",
    "            if isinstance(scheduler, torch.optim.lr_scheduler.ReduceLROnPlateau):\n",
    "                scheduler.step(val_loss)\n",
    "            else:\n",
    "                scheduler.step()\n",
    "        \n",
    "        # 获取当前学习率\n",
    "        current_lr = optimizer.param_groups[0]['lr']\n",
    "        \n",
    "        # 保存训练历史\n",
    "        train_history['train_loss'].append(train_loss)\n",
    "        train_history['train_acc'].append(train_acc)\n",
    "        train_history['val_loss'].append(val_loss)\n",
    "        train_history['val_acc'].append(val_acc)\n",
    "        \n",
    "        # 计算耗时\n",
    "        epoch_time = time.time() - epoch_start_time\n",
    "        \n",
    "        # 记录到CSV\n",
    "        csv_writer.writerow([\n",
    "            epoch + 1, train_loss, train_acc, val_loss, val_acc, \n",
    "            max(best_val_acc, val_acc), current_lr, epoch_time\n",
    "        ])\n",
    "        csv_file.flush()  # 确保立即写入文件\n",
    "        \n",
    "        # 打印结果\n",
    "        print(f\"\\nEpoch {epoch+1}/{config.epochs} 完成 - 耗时: {epoch_time:.2f}秒\")\n",
    "        print(f\"训练损失: {train_loss:.4f}, 训练准确率: {train_acc:.2f}%\")\n",
    "        print(f\"验证损失: {val_loss:.4f}, 验证准确率: {val_acc:.2f}%\")\n",
    "        print(f\"当前学习率: {current_lr}\\n\")\n",
    "        \n",
    "        # 保存检查点\n",
    "        save_checkpoint(\n",
    "            model, optimizer, scheduler, epoch, train_history, best_val_acc, config, is_best=False\n",
    "        )\n",
    "        \n",
    "        # 检查是否是最佳模型\n",
    "        if val_acc > best_val_acc:\n",
    "            print(f\"验证准确率从 {best_val_acc:.2f}% 提升到 {val_acc:.2f}%\")\n",
    "            best_val_acc = val_acc\n",
    "            save_checkpoint(\n",
    "                model, optimizer, scheduler, epoch, train_history, best_val_acc, config, is_best=True\n",
    "            )\n",
    "    \n",
    "    # 训练完成后关闭CSV文件\n",
    "    csv_file.close()\n",
    "    \n",
    "    # 可视化训练历史\n",
    "    plot_training_history(train_history, config)\n",
    "    \n",
    "    print(f\"\\n训练完成! 最佳验证准确率: {best_val_acc:.2f}%\")\n",
    "    print(f\"模型和日志已保存到: {config.save_path}\")\n",
    "    \n",
    "    return model, train_history, best_val_acc"
   ]
  },
  {
   "cell_type": "code",
   "execution_count": 9,
   "metadata": {},
   "outputs": [],
   "source": [
    "import torch\n",
    "import torch.nn as nn\n",
    "import torch.nn.functional as F\n",
    "\n",
    "# Focal Loss实现\n",
    "class FocalLoss(nn.Module):\n",
    "    \"\"\"\n",
    "    Focal Loss实现，用于处理类别不平衡问题\n",
    "    \n",
    "    参数:\n",
    "        gamma: 聚焦参数，调整难分类样本的权重，默认为2.0\n",
    "        alpha: 类别权重参数，可以是None（不使用）、浮点数（所有正例权重）或张量（每个类别权重）\n",
    "        reduction: 损失计算方式，'mean'、'sum'或'none'\n",
    "    \"\"\"\n",
    "    def __init__(self, gamma=2.0, alpha=None, reduction='mean'):\n",
    "        super(FocalLoss, self).__init__()\n",
    "        self.gamma = gamma\n",
    "        self.alpha = alpha\n",
    "        self.reduction = reduction\n",
    "        \n",
    "    def forward(self, inputs, targets):\n",
    "        # 计算交叉熵(log_softmax + nll_loss)\n",
    "        ce_loss = F.cross_entropy(inputs, targets, reduction='none')\n",
    "        \n",
    "        # 获取预测概率\n",
    "        pt = torch.exp(-ce_loss)\n",
    "        \n",
    "        # 计算Focal Loss\n",
    "        focal_loss = (1 - pt) ** self.gamma * ce_loss\n",
    "        \n",
    "        # 应用alpha权重（如果提供）\n",
    "        if self.alpha is not None:\n",
    "            if isinstance(self.alpha, (float, int)):\n",
    "                # 单一alpha值应用于所有正样本\n",
    "                alpha_factor = torch.ones_like(targets) * self.alpha\n",
    "                alpha_factor = torch.where(targets > 0, alpha_factor, 1 - alpha_factor)\n",
    "            else:\n",
    "                # 每个类别使用不同的alpha值\n",
    "                alpha_factor = torch.ones_like(targets)\n",
    "                for i in range(len(self.alpha)):\n",
    "                    mask = targets == i\n",
    "                    alpha_factor[mask] = self.alpha[i]\n",
    "            \n",
    "            focal_loss = alpha_factor * focal_loss\n",
    "        \n",
    "        # 应用reduction\n",
    "        if self.reduction == 'mean':\n",
    "            return focal_loss.mean()\n",
    "        elif self.reduction == 'sum':\n",
    "            return focal_loss.sum()\n",
    "        else:\n",
    "            return focal_loss\n",
    "\n",
    "\n",
    "# Contrastive Loss实现\n",
    "class ContrastiveLoss(nn.Module):\n",
    "    \"\"\"\n",
    "    Contrastive Loss实现，用于增加不同类别样本之间的距离，减少同类样本之间的距离\n",
    "    \n",
    "    参数:\n",
    "        margin: 正负样本之间的目标间隔，默认为1.0\n",
    "        reduction: 损失计算方式，'mean'、'sum'或'none'\n",
    "    \"\"\"\n",
    "    def __init__(self, margin=1.0, reduction='mean'):\n",
    "        super(ContrastiveLoss, self).__init__()\n",
    "        self.margin = margin\n",
    "        self.reduction = reduction\n",
    "        \n",
    "    def forward(self, features, labels):\n",
    "        \"\"\"\n",
    "        参数:\n",
    "            features: 模型输出的特征向量，形状为[batch_size, embedding_dim]\n",
    "            labels: 样本的标签，形状为[batch_size]\n",
    "        \"\"\"\n",
    "        batch_size = features.size(0)\n",
    "    \n",
    "        # 添加这个检查\n",
    "        if batch_size < 2:\n",
    "            print(\"警告: 批次大小小于2，无法计算对比损失\")\n",
    "            return torch.tensor(0.0, device=features.device, requires_grad=True)\n",
    "    \n",
    "        # 添加NaN检查\n",
    "        if torch.isnan(features).any():\n",
    "            print(\"警告: 特征包含NaN值\")\n",
    "            features = torch.nan_to_num(features, nan=0.0)\n",
    "        \n",
    "        # 计算特征之间的欧氏距离矩阵\n",
    "        dist_matrix = self._pairwise_distances(features)\n",
    "    \n",
    "        # 创建标签相似性矩阵（1表示相同类，0表示不同类）\n",
    "        labels_matrix = labels.expand(batch_size, batch_size).eq(labels.expand(batch_size, batch_size).t())\n",
    "        labels_matrix = labels_matrix.float()\n",
    "    \n",
    "        # 计算对比损失\n",
    "        # 对于同类样本：loss = distance^2\n",
    "        # 对于不同类样本：loss = max(0, margin - distance)^2\n",
    "        positive_loss = labels_matrix * dist_matrix\n",
    "        negative_loss = (1 - labels_matrix) * torch.clamp(self.margin - dist_matrix, min=0)**2\n",
    "    \n",
    "        loss = positive_loss + negative_loss\n",
    "    \n",
    "        # 移除对角线（自身与自身的比较）\n",
    "        mask = torch.ones_like(loss) - torch.eye(batch_size, device=loss.device)\n",
    "        loss = loss * mask\n",
    "    \n",
    "        # 计算有效对数（非对角线元素）\n",
    "        num_valid_pairs = mask.sum()\n",
    "    \n",
    "        # 检查最终损失\n",
    "        final_loss = loss.sum() / max(num_valid_pairs, 1)\n",
    "        if torch.isnan(final_loss):\n",
    "            print(\"警告: 对比损失为NaN\")\n",
    "            return torch.tensor(0.0, device=features.device, requires_grad=True)\n",
    "        \n",
    "        # 应用reduction\n",
    "        if self.reduction == 'mean':\n",
    "            return final_loss\n",
    "        elif self.reduction == 'sum':\n",
    "            return loss.sum()\n",
    "        else:\n",
    "            return loss\n",
    "            \n",
    "    def _pairwise_distances(self, x):\n",
    "        \"\"\"计算批次中所有样本对之间的欧氏距离，增强数值稳定性\"\"\"\n",
    "        # 先对特征进行L2归一化\n",
    "        x = F.normalize(x, p=2, dim=1)\n",
    "    \n",
    "        # 安全计算点积\n",
    "        dot_product = torch.matmul(x, x.t())\n",
    "        # 限制在[-1, 1]范围内避免数值误差\n",
    "        dot_product = torch.clamp(dot_product, -1.0, 1.0)\n",
    "    \n",
    "        # 提取对角线元素\n",
    "        square_norm = torch.diag(dot_product)\n",
    "    \n",
    "        # 计算欧氏距离的平方\n",
    "        distances = square_norm.unsqueeze(0) + square_norm.unsqueeze(1) - 2.0 * dot_product\n",
    "    \n",
    "        # 处理数值误差导致的微小负值\n",
    "        distances = torch.clamp(distances, min=1e-8)\n",
    "    \n",
    "        # 添加epsilon避免对零取平方根\n",
    "        return torch.sqrt(distances + 1e-8)\n",
    "\n",
    "\n",
    "# Combined Focal + Contrastive Loss\n",
    "class FocalContrastiveLoss(nn.Module):\n",
    "    \"\"\"\n",
    "    结合Focal Loss和Contrastive Loss的损失函数\n",
    "    \n",
    "    参数:\n",
    "        gamma: Focal Loss的gamma参数\n",
    "        alpha: Focal Loss的alpha参数\n",
    "        margin: Contrastive Loss的margin参数\n",
    "        focal_weight: Focal Loss的权重\n",
    "        contrastive_weight: Contrastive Loss的权重\n",
    "    \"\"\"\n",
    "    def __init__(self, gamma=2.0, alpha=None, margin=1.0, \n",
    "                 focal_weight=1.0, contrastive_weight=1.0):\n",
    "        super(FocalContrastiveLoss, self).__init__()\n",
    "        self.focal_loss = FocalLoss(gamma=gamma, alpha=alpha)\n",
    "        self.contrastive_loss = ContrastiveLoss(margin=margin)\n",
    "        self.focal_weight = focal_weight\n",
    "        self.contrastive_weight = contrastive_weight\n",
    "        \n",
    "    def forward(self, logits, features, labels):\n",
    "        \"\"\"\n",
    "        参数:\n",
    "            logits: 模型分类层的输出，形状为[batch_size, num_classes]\n",
    "            features: 模型特征提取层的输出，形状为[batch_size, embedding_dim]\n",
    "            labels: 样本的标签，形状为[batch_size]\n",
    "        \"\"\"\n",
    "        f_loss = self.focal_loss(logits, labels)\n",
    "        c_loss = self.contrastive_loss(features, labels)\n",
    "    \n",
    "        # 添加NaN检查\n",
    "        if torch.isnan(f_loss):\n",
    "            print(\"警告: Focal Loss为NaN\")\n",
    "            f_loss = torch.tensor(0.0, device=logits.device, requires_grad=True)\n",
    "        if torch.isnan(c_loss):\n",
    "            print(\"警告: Contrastive Loss为NaN\")\n",
    "            c_loss = torch.tensor(0.0, device=features.device, requires_grad=True)\n",
    "    \n",
    "        return self.focal_weight * f_loss + self.contrastive_weight * c_loss\n",
    "\n",
    "\n",
    "# 修改模型以输出特征和分类结果\n",
    "class ResNet152WithFeatures(nn.Module):\n",
    "    \"\"\"\n",
    "    输出特征向量和分类结果的ResNet152模型，用于应用Contrastive Loss\n",
    "    \"\"\"\n",
    "    def __init__(self, num_classes=811, pretrained=True):\n",
    "        super(ResNet152WithFeatures, self).__init__()\n",
    "        # 加载预训练的ResNet152模型\n",
    "        model = models.resnet152(pretrained=pretrained)\n",
    "        # 提取除最后全连接层外的所有层\n",
    "        self.features = nn.Sequential(*list(model.children())[:-1])\n",
    "        # 添加Dropout层\n",
    "        self.dropout = nn.Dropout(0.3)\n",
    "        # 全连接分类层\n",
    "        self.fc = nn.Linear(2048, num_classes)\n",
    "        \n",
    "    def forward(self, x):\n",
    "        # 特征提取\n",
    "        features = self.features(x)\n",
    "        features = torch.flatten(features, 1)\n",
    "        # 应用dropout\n",
    "        features = self.dropout(features)\n",
    "        # 分类\n",
    "        logits = self.fc(features)\n",
    "        \n",
    "        # 返回特征和分类结果\n",
    "        return features, logits\n",
    "\n",
    "\n",
    "# 训练函数示例\n",
    "def train_with_focal_contrastive(model, train_loader, criterion, optimizer, device, epoch):\n",
    "    \"\"\"\n",
    "    使用Focal Loss、Contrastive Loss或它们的组合进行训练\n",
    "    \n",
    "    参数:\n",
    "        model: ResNet152WithFeatures模型\n",
    "        train_loader: 训练数据加载器\n",
    "        criterion: 损失函数，可以是FocalLoss、ContrastiveLoss或FocalContrastiveLoss\n",
    "        optimizer: 优化器\n",
    "        device: 使用的设备\n",
    "        epoch: 当前训练周期\n",
    "    \"\"\"\n",
    "    model.train()\n",
    "    train_loss = 0\n",
    "    correct = 0\n",
    "    total = 0\n",
    "    \n",
    "    for batch_idx, (images, targets) in enumerate(train_loader):\n",
    "        # 检查批次是否为None（custom_collate_fn可能返回None）\n",
    "        if images is None or targets is None:\n",
    "            continue\n",
    "            \n",
    "        images, targets = images.to(device), targets.to(device)\n",
    "        \n",
    "        # 前向传播\n",
    "        features, logits = model(images)\n",
    "        \n",
    "        # 计算损失\n",
    "        if isinstance(criterion, FocalContrastiveLoss):\n",
    "            loss = criterion(logits, features, targets)\n",
    "        elif isinstance(criterion, ContrastiveLoss):\n",
    "            loss = criterion(features, targets)\n",
    "        else:  # FocalLoss或标准CrossEntropyLoss\n",
    "            loss = criterion(logits, targets)\n",
    "        \n",
    "        # 反向传播和优化\n",
    "        optimizer.zero_grad()\n",
    "        loss.backward()\n",
    "        optimizer.step()\n",
    "        \n",
    "        # 更新训练统计信息\n",
    "        train_loss += loss.item()\n",
    "        _, predicted = logits.max(1)\n",
    "        total += targets.size(0)\n",
    "        correct += predicted.eq(targets).sum().item()\n",
    "        \n",
    "        # 打印进度\n",
    "        if (batch_idx + 1) % 50 == 0 or (batch_idx + 1) == len(train_loader):\n",
    "            print(f'Epoch: {epoch} [{batch_idx+1}/{len(train_loader)}] | '\n",
    "                  f'Loss: {train_loss/(batch_idx+1):.3f} | '\n",
    "                  f'Acc: {100.0*correct/total:.3f}% ({correct}/{total})')\n",
    "    \n",
    "    return train_loss / len(train_loader), 100.0 * correct / total"
   ]
  },
  {
   "cell_type": "markdown",
   "metadata": {},
   "source": [
    "训练验证循环"
   ]
  },
  {
   "cell_type": "markdown",
   "metadata": {},
   "source": [
    "初始学习率可能还是太高了 应该设置为5e-6\n",
    "\n",
    "调整训练集和验证集\n",
    "\n",
    "想办法用更强的数据增强手段"
   ]
  },
  {
   "cell_type": "code",
   "execution_count": 10,
   "metadata": {},
   "outputs": [
    {
     "data": {
      "text/plain": [
       "15115"
      ]
     },
     "execution_count": 10,
     "metadata": {},
     "output_type": "execute_result"
    }
   ],
   "source": [
    "import torch\n",
    "import gc\n",
    "   \n",
    "torch.cuda.empty_cache()\n",
    "gc.collect()"
   ]
  },
  {
   "cell_type": "markdown",
   "metadata": {},
   "source": [
    "是否应该提高学习率？\n",
    "\n",
    "还是过拟合问题，需要调整参数\n",
    "\n",
    "epoch可能还是太少，需要想办法调整"
   ]
  },
  {
   "cell_type": "code",
   "execution_count": 16,
   "metadata": {},
   "outputs": [
    {
     "name": "stdout",
     "output_type": "stream",
     "text": [
      "使用设备: cuda\n",
      "创建模型: enhanced_resnet152\n",
      "使用ResNet152WithFeatures模型以支持特征学习损失函数\n",
      "加载检查点: saved_models/enhanced_resnet152_focal_contrastive_20250521_142259/best_model.pth\n"
     ]
    },
    {
     "name": "stderr",
     "output_type": "stream",
     "text": [
      "/tmp/ipykernel_3750/3163188910.py:133: FutureWarning: You are using `torch.load` with `weights_only=False` (the current default value), which uses the default pickle module implicitly. It is possible to construct malicious pickle data which will execute arbitrary code during unpickling (See https://github.com/pytorch/pytorch/blob/main/SECURITY.md#untrusted-models for more details). In a future release, the default value for `weights_only` will be flipped to `True`. This limits the functions that could be executed during unpickling. Arbitrary objects will no longer be allowed to be loaded via this mode unless they are explicitly allowlisted by the user via `torch.serialization.add_safe_globals`. We recommend you start setting `weights_only=True` for any use case where you don't have full control of the loaded file. Please open an issue on GitHub for any issues related to this experimental feature.\n",
      "  checkpoint = torch.load(config.checkpoint_path)\n"
     ]
    },
    {
     "name": "stdout",
     "output_type": "stream",
     "text": [
      "从第 57 个epoch继续训练\n",
      "使用Focal Contrastive Loss, gamma=2.0, margin=1.5, focal_weight=1.0, contrastive_weight=0.5\n"
     ]
    },
    {
     "name": "stderr",
     "output_type": "stream",
     "text": [
      "/tmp/ipykernel_3750/1585933242.py:56: FutureWarning: You are using `torch.load` with `weights_only=False` (the current default value), which uses the default pickle module implicitly. It is possible to construct malicious pickle data which will execute arbitrary code during unpickling (See https://github.com/pytorch/pytorch/blob/main/SECURITY.md#untrusted-models for more details). In a future release, the default value for `weights_only` will be flipped to `True`. This limits the functions that could be executed during unpickling. Arbitrary objects will no longer be allowed to be loaded via this mode unless they are explicitly allowlisted by the user via `torch.serialization.add_safe_globals`. We recommend you start setting `weights_only=True` for any use case where you don't have full control of the loaded file. Please open an issue on GitHub for any issues related to this experimental feature.\n",
      "  checkpoint = torch.load(config.checkpoint_path)\n"
     ]
    },
    {
     "name": "stdout",
     "output_type": "stream",
     "text": [
      "模型和日志将保存在: saved_models/enhanced_resnet152_focal_contrastive_20250521_142259\n",
      "\n",
      "==================================================\n",
      "训练配置:\n",
      "模型: enhanced_resnet152\n",
      "损失函数: focal_contrastive\n",
      "批次大小: 64\n",
      "工作进程数: 10\n",
      "总训练周期: 65\n",
      "数据增强方法: Mixup(alpha=1.5, prob=0.5), CutMix(alpha=1.5, prob=0.5)\n",
      "==================================================\n",
      "\n"
     ]
    },
    {
     "name": "stderr",
     "output_type": "stream",
     "text": [
      "/tmp/ipykernel_3750/3163188910.py:410: FutureWarning: You are using `torch.load` with `weights_only=False` (the current default value), which uses the default pickle module implicitly. It is possible to construct malicious pickle data which will execute arbitrary code during unpickling (See https://github.com/pytorch/pytorch/blob/main/SECURITY.md#untrusted-models for more details). In a future release, the default value for `weights_only` will be flipped to `True`. This limits the functions that could be executed during unpickling. Arbitrary objects will no longer be allowed to be loaded via this mode unless they are explicitly allowlisted by the user via `torch.serialization.add_safe_globals`. We recommend you start setting `weights_only=True` for any use case where you don't have full control of the loaded file. Please open an issue on GitHub for any issues related to this experimental feature.\n",
      "  checkpoint = torch.load(config.checkpoint_path)\n"
     ]
    },
    {
     "name": "stdout",
     "output_type": "stream",
     "text": [
      "\n",
      "开始训练...\n"
     ]
    },
    {
     "name": "stderr",
     "output_type": "stream",
     "text": [
      "Epoch 58/65 [Train]: 100%|██████████| 2219/2219 [07:11<00:00,  5.14batch/s, loss=0.850, acc=0.00%]\n",
      "Validation: 100%|██████████| 392/392 [00:25<00:00, 15.60batch/s, loss=1.599, acc=64.43%]\n"
     ]
    },
    {
     "name": "stdout",
     "output_type": "stream",
     "text": [
      "\n",
      "Epoch 58/65 完成 - 耗时: 456.90秒\n",
      "训练损失: 0.8495, 训练准确率: 0.00%\n",
      "验证损失: 1.5987, 验证准确率: 64.43%\n",
      "当前学习率: 2.444952581255057e-06\n",
      "\n",
      "检查点 模型已保存到 saved_models/enhanced_resnet152_focal_contrastive_20250521_142259/checkpoint_epoch_57.pth\n"
     ]
    },
    {
     "name": "stderr",
     "output_type": "stream",
     "text": [
      "Epoch 59/65 [Train]: 100%|██████████| 2219/2219 [07:16<00:00,  5.08batch/s, loss=0.840, acc=0.00%]\n",
      "Validation: 100%|██████████| 392/392 [00:25<00:00, 15.18batch/s, loss=1.603, acc=64.63%]\n"
     ]
    },
    {
     "name": "stdout",
     "output_type": "stream",
     "text": [
      "\n",
      "Epoch 59/65 完成 - 耗时: 462.28秒\n",
      "训练损失: 0.8403, 训练准确率: 0.00%\n",
      "验证损失: 1.6028, 验证准确率: 64.63%\n",
      "当前学习率: 2.1113144215868186e-06\n",
      "\n",
      "检查点 模型已保存到 saved_models/enhanced_resnet152_focal_contrastive_20250521_142259/checkpoint_epoch_58.pth\n",
      "验证准确率从 64.59% 提升到 64.63%\n",
      "最佳 模型已保存到 saved_models/enhanced_resnet152_focal_contrastive_20250521_142259/best_model.pth\n"
     ]
    },
    {
     "name": "stderr",
     "output_type": "stream",
     "text": [
      "Epoch 60/65 [Train]: 100%|██████████| 2219/2219 [07:14<00:00,  5.11batch/s, loss=0.837, acc=0.00%]\n",
      "Validation: 100%|██████████| 392/392 [00:25<00:00, 15.34batch/s, loss=1.598, acc=64.73%]\n"
     ]
    },
    {
     "name": "stdout",
     "output_type": "stream",
     "text": [
      "\n",
      "Epoch 60/65 完成 - 耗时: 460.21秒\n",
      "训练损失: 0.8374, 训练准确率: 0.00%\n",
      "验证损失: 1.5985, 验证准确率: 64.73%\n",
      "当前学习率: 2e-06\n",
      "\n",
      "检查点 模型已保存到 saved_models/enhanced_resnet152_focal_contrastive_20250521_142259/checkpoint_epoch_59.pth\n",
      "验证准确率从 64.63% 提升到 64.73%\n",
      "最佳 模型已保存到 saved_models/enhanced_resnet152_focal_contrastive_20250521_142259/best_model.pth\n"
     ]
    },
    {
     "name": "stderr",
     "output_type": "stream",
     "text": [
      "Epoch 61/65 [Train]: 100%|██████████| 2219/2219 [07:12<00:00,  5.13batch/s, loss=0.831, acc=0.00%]\n",
      "Validation: 100%|██████████| 392/392 [00:25<00:00, 15.48batch/s, loss=1.601, acc=64.59%]\n"
     ]
    },
    {
     "name": "stdout",
     "output_type": "stream",
     "text": [
      "\n",
      "Epoch 61/65 完成 - 耗时: 457.86秒\n",
      "训练损失: 0.8313, 训练准确率: 0.00%\n",
      "验证损失: 1.6009, 验证准确率: 64.59%\n",
      "当前学习率: 2.032891165890228e-06\n",
      "\n",
      "检查点 模型已保存到 saved_models/enhanced_resnet152_focal_contrastive_20250521_142259/checkpoint_epoch_60.pth\n"
     ]
    },
    {
     "name": "stderr",
     "output_type": "stream",
     "text": [
      "Epoch 62/65 [Train]: 100%|██████████| 2219/2219 [07:12<00:00,  5.13batch/s, loss=0.822, acc=0.00%]\n",
      "Validation: 100%|██████████| 392/392 [00:25<00:00, 15.38batch/s, loss=1.593, acc=64.46%]\n"
     ]
    },
    {
     "name": "stdout",
     "output_type": "stream",
     "text": [
      "\n",
      "Epoch 62/65 完成 - 耗时: 458.40秒\n",
      "训练损失: 0.8224, 训练准确率: 0.00%\n",
      "验证损失: 1.5925, 验证准确率: 64.46%\n",
      "当前学习率: 2.1314745111614384e-06\n",
      "\n",
      "检查点 模型已保存到 saved_models/enhanced_resnet152_focal_contrastive_20250521_142259/checkpoint_epoch_61.pth\n"
     ]
    },
    {
     "name": "stderr",
     "output_type": "stream",
     "text": [
      "Epoch 63/65 [Train]: 100%|██████████| 2219/2219 [07:17<00:00,  5.08batch/s, loss=0.827, acc=0.00%]\n",
      "Validation: 100%|██████████| 392/392 [00:26<00:00, 14.99batch/s, loss=1.599, acc=64.58%]\n"
     ]
    },
    {
     "name": "stdout",
     "output_type": "stream",
     "text": [
      "\n",
      "Epoch 63/65 完成 - 耗时: 463.39秒\n",
      "训练损失: 0.8268, 训练准确率: 0.00%\n",
      "验证损失: 1.5986, 验证准确率: 64.58%\n",
      "当前学习率: 2.2954798257166935e-06\n",
      "\n",
      "检查点 模型已保存到 saved_models/enhanced_resnet152_focal_contrastive_20250521_142259/checkpoint_epoch_62.pth\n"
     ]
    },
    {
     "name": "stderr",
     "output_type": "stream",
     "text": [
      "Epoch 64/65 [Train]: 100%|██████████| 2219/2219 [07:12<00:00,  5.13batch/s, loss=0.830, acc=0.00%]\n",
      "Validation: 100%|██████████| 392/392 [00:25<00:00, 15.62batch/s, loss=1.600, acc=64.47%]\n"
     ]
    },
    {
     "name": "stdout",
     "output_type": "stream",
     "text": [
      "\n",
      "Epoch 64/65 完成 - 耗时: 457.88秒\n",
      "训练损失: 0.8299, 训练准确率: 0.00%\n",
      "验证损失: 1.5999, 验证准确率: 64.47%\n",
      "当前学习率: 2.5244575823886634e-06\n",
      "\n",
      "检查点 模型已保存到 saved_models/enhanced_resnet152_focal_contrastive_20250521_142259/checkpoint_epoch_63.pth\n"
     ]
    },
    {
     "name": "stderr",
     "output_type": "stream",
     "text": [
      "Epoch 65/65 [Train]: 100%|██████████| 2219/2219 [07:16<00:00,  5.08batch/s, loss=0.820, acc=0.00%]\n",
      "Validation: 100%|██████████| 392/392 [00:25<00:00, 15.29batch/s, loss=1.598, acc=64.30%]\n"
     ]
    },
    {
     "name": "stdout",
     "output_type": "stream",
     "text": [
      "\n",
      "Epoch 65/65 完成 - 耗时: 462.38秒\n",
      "训练损失: 0.8203, 训练准确率: 0.00%\n",
      "验证损失: 1.5981, 验证准确率: 64.30%\n",
      "当前学习率: 2.8177801690623576e-06\n",
      "\n",
      "检查点 模型已保存到 saved_models/enhanced_resnet152_focal_contrastive_20250521_142259/checkpoint_epoch_64.pth\n",
      "\n",
      "训练完成! 最佳验证准确率: 64.73%\n",
      "模型和日志已保存到: saved_models/enhanced_resnet152_focal_contrastive_20250521_142259\n"
     ]
    }
   ],
   "source": [
    "# 设置训练配置\n",
    "config = TrainConfig()\n",
    "\n",
    "# # 修改以下参数\n",
    "config.resume_training = True  # 设置为True开启断点续训\n",
    "config.checkpoint_path = \"saved_models/enhanced_resnet152_focal_contrastive_20250521_142259/best_model.pth\"  # 指向已保存的模型文件\n",
    "# # 或者使用 checkpoint_epoch_29.pth\n",
    "# config.checkpoint_path = \"saved_models/resnet152_attention_local_global_focal_contrastive_20250518_224828/checkpoint_epoch_29.pth\"\n",
    "\n",
    "# # 关键修改：使用相同的实验名称，而不是生成新的时间戳\n",
    "config.experiment_name = \"enhanced_resnet152_focal_contrastive_20250521_142259\"\n",
    "config.save_path = os.path.join(config.save_dir, config.experiment_name)\n",
    "\n",
    "# # 修改学习率 - 添加这一行\n",
    "config.learning_rate = 0.000003  # 将学习率调整为您需要的值，例如0.0001(降低10倍)\n",
    "\n",
    "# config.weight_decay = 2e-4\n",
    "\n",
    "# config.mixup_alpha = 1.5\n",
    "# config.cutmix_alpha = 1.5\n",
    "\n",
    "# # 设置接下来要训练多少个epoch\n",
    "config.epochs = 65  # 如果之前训练了30个，这里设置为60表示总共要训练60个epoch，即再训练30个\n",
    "\n",
    "# # 其他参数与之前保持一致\n",
    "# config.model_name = 'resnet50_attention_local_global'\n",
    "# config.loss_type = 'focal_contrastive'  # 或者你使用的其他损失函数\n",
    "    \n",
    "# 设置设备\n",
    "device = torch.device(\"cuda\" if torch.cuda.is_available() else \"cpu\")\n",
    "print(f\"使用设备: {device}\")\n",
    "    \n",
    "# 加载或创建模型\n",
    "model, start_epoch = load_or_create_model(config, device)\n",
    "    \n",
    "# 获取损失函数\n",
    "criterion = get_loss_function(config, device)\n",
    "    \n",
    "# 创建优化器\n",
    "optimizer = optim.Adam(model.parameters(), lr=config.learning_rate, weight_decay=config.weight_decay)\n",
    "    \n",
    "# 根据配置创建相应的学习率调度器\n",
    "if config.scheduler_type == 'cosine':\n",
    "    scheduler = optim.lr_scheduler.CosineAnnealingLR(\n",
    "        optimizer, \n",
    "        T_max=config.T_max,\n",
    "        eta_min=config.eta_min\n",
    "    )\n",
    "elif config.scheduler_type == 'plateau':\n",
    "    scheduler = optim.lr_scheduler.ReduceLROnPlateau(\n",
    "        optimizer, mode='min', factor=0.1, patience=5, verbose=True\n",
    "    )\n",
    "    \n",
    "# 如果是断点续训，加载优化器和调度器状态\n",
    "if config.resume_training and config.checkpoint_path and os.path.isfile(config.checkpoint_path):\n",
    "    checkpoint = torch.load(config.checkpoint_path)\n",
    "    if 'optimizer_state_dict' in checkpoint:\n",
    "        optimizer.load_state_dict(checkpoint['optimizer_state_dict'])\n",
    "    if 'scheduler_state_dict' in checkpoint and checkpoint['scheduler_state_dict']:\n",
    "        scheduler.load_state_dict(checkpoint['scheduler_state_dict'])\n",
    "        \n",
    "# 加载优化器状态后手动更新学习率\n",
    "if config.resume_training:\n",
    "    for param_group in optimizer.param_groups:\n",
    "        param_group['lr'] = config.learning_rate\n",
    "    \n",
    "# 修改回原来的函数调用\n",
    "model, train_history, best_val_acc = train_and_validate(\n",
    "    model, train_loader, val_loader, criterion, optimizer, scheduler, \n",
    "    config, start_epoch\n",
    ")"
   ]
  },
  {
   "cell_type": "code",
   "execution_count": 17,
   "metadata": {},
   "outputs": [
    {
     "name": "stdout",
     "output_type": "stream",
     "text": [
      "测试集数据变换 (test_transforms) 定义完成。\n",
      "TestDataset 类定义完成。\n",
      "成功创建测试集 Dataset，样本数: 75098\n",
      "测试集 DataLoader 创建完成。批次大小: 64, Shuffle: False\n",
      "尝试从 saved_models/enhanced_resnet152_focal_contrastive_20250521_142259/best_model.pth 加载模型...\n",
      "为测试实例化了 ResNet152WithFeatures (用于对比/焦点对比损失)\n"
     ]
    },
    {
     "name": "stderr",
     "output_type": "stream",
     "text": [
      "/root/miniconda3/lib/python3.12/site-packages/torchvision/models/_utils.py:223: UserWarning: Arguments other than a weight enum or `None` for 'weights' are deprecated since 0.13 and may be removed in the future. The current behavior is equivalent to passing `weights=None`.\n",
      "  warnings.warn(msg)\n",
      "/tmp/ipykernel_3750/3281498723.py:127: FutureWarning: You are using `torch.load` with `weights_only=False` (the current default value), which uses the default pickle module implicitly. It is possible to construct malicious pickle data which will execute arbitrary code during unpickling (See https://github.com/pytorch/pytorch/blob/main/SECURITY.md#untrusted-models for more details). In a future release, the default value for `weights_only` will be flipped to `True`. This limits the functions that could be executed during unpickling. Arbitrary objects will no longer be allowed to be loaded via this mode unless they are explicitly allowlisted by the user via `torch.serialization.add_safe_globals`. We recommend you start setting `weights_only=True` for any use case where you don't have full control of the loaded file. Please open an issue on GitHub for any issues related to this experimental feature.\n",
      "  checkpoint = torch.load(model_path, map_location=device)\n"
     ]
    },
    {
     "name": "stdout",
     "output_type": "stream",
     "text": [
      "模型权重从 saved_models/enhanced_resnet152_focal_contrastive_20250521_142259/best_model.pth 加载成功，并设置为评估模式。\n"
     ]
    },
    {
     "name": "stderr",
     "output_type": "stream",
     "text": [
      "正在预测测试集: 100%|██████████| 1174/1174 [01:10<00:00, 16.65batch/s]\n"
     ]
    },
    {
     "name": "stdout",
     "output_type": "stream",
     "text": [
      "测试集预测完成。共预测 75098 个样本。\n",
      "提交文件已保存到: saved_models/enhanced_resnet152_focal_contrastive_20250521_142259/submission.csv\n",
      "\n",
      "提交文件预览:\n",
      "           ID  Label\n",
      "0    0001.png    357\n",
      "1    0002.png     53\n",
      "2    0003.png    778\n",
      "3  0003_1.png    304\n",
      "4    0004.png    455\n"
     ]
    }
   ],
   "source": [
    "import os\n",
    "import pandas as pd\n",
    "import torch\n",
    "from torchvision import transforms\n",
    "from PIL import Image\n",
    "from tqdm import tqdm\n",
    "\n",
    "# --- 配置参数 ---\n",
    "# 测试图片所在的文件夹\n",
    "test_image_dir = 'chinese-medicine-image/test/test'\n",
    "# 训练好的模型路径 (请确保这是您最好的模型)\n",
    "\n",
    "#config.save_path = \"saved_models/resnet152_attention_local_global_focal_contrastive_20250519_193654\"\n",
    "\n",
    "model_path = os.path.join(config.save_path, 'best_model.pth') # 使用之前训练保存的最佳模型路径\n",
    "# 输出的CSV文件名\n",
    "submission_csv_path = os.path.join(config.save_path, 'submission.csv')\n",
    "\n",
    "# 确保 IMG_SIZE, normalize_mean, normalize_std 与训练时一致\n",
    "# 如果在 notebook 前面已经定义，这里可以不用重复定义\n",
    "# IMG_SIZE = 224\n",
    "# normalize_mean = [0.485, 0.456, 0.406]\n",
    "# normalize_std = [0.229, 0.224, 0.225]\n",
    "\n",
    "# --- 1. 定义测试集数据变换 ---\n",
    "test_transforms = transforms.Compose([\n",
    "    transforms.Resize(256),\n",
    "    transforms.CenterCrop(IMG_SIZE),\n",
    "    transforms.ToTensor(),\n",
    "    transforms.Normalize(mean=normalize_mean, std=normalize_std)\n",
    "])\n",
    "\n",
    "print(\"测试集数据变换 (test_transforms) 定义完成。\")\n",
    "\n",
    "# --- 2. 创建测试集 Dataset ---\n",
    "class TestDataset(torch.utils.data.Dataset):\n",
    "    def __init__(self, image_dir, transform=None):\n",
    "        self.image_dir = image_dir\n",
    "        self.transform = transform\n",
    "        # 获取所有图片文件名 (ID)\n",
    "        self.image_filenames = [f for f in os.listdir(image_dir) if os.path.isfile(os.path.join(image_dir, f))]\n",
    "        # 根据文件名排序，确保提交顺序一致性（如果需要）\n",
    "        self.image_filenames.sort() \n",
    "\n",
    "    def __len__(self):\n",
    "        return len(self.image_filenames)\n",
    "\n",
    "    def __getitem__(self, idx):\n",
    "        img_filename = self.image_filenames[idx]\n",
    "        img_path = os.path.join(self.image_dir, img_filename)\n",
    "        \n",
    "        try:\n",
    "            image = Image.open(img_path)\n",
    "            if image.mode == 'P' and 'transparency' in image.info:\n",
    "                image = image.convert('RGBA')\n",
    "            image = image.convert('RGB')\n",
    "        except Exception as e:\n",
    "            print(f\"警告: 无法加载测试图片 {img_path}，错误: {e}。将返回None。\")\n",
    "            # 或者可以返回一个占位符图像，但这取决于模型如何处理\n",
    "            return None, img_filename # 返回None表示图片加载失败\n",
    "\n",
    "        if self.transform:\n",
    "            image = self.transform(image)\n",
    "        \n",
    "        return image, img_filename\n",
    "\n",
    "print(\"TestDataset 类定义完成。\")\n",
    "\n",
    "# 创建测试集Dataset实例\n",
    "test_dataset = TestDataset(image_dir=test_image_dir, transform=test_transforms)\n",
    "if len(test_dataset) > 0:\n",
    "    print(f\"成功创建测试集 Dataset，样本数: {len(test_dataset)}\")\n",
    "    # 尝试获取一个样本\n",
    "    # img_sample_test, fname_sample_test = test_dataset[0]\n",
    "    # if img_sample_test is not None:\n",
    "    #     print(f\"测试集第一个样本 - 图片形状: {img_sample_test.shape}, 文件名: {fname_sample_test}\")\n",
    "    # else:\n",
    "    #     print(\"测试集第一个样本加载失败。\")\n",
    "else:\n",
    "    print(f\"错误: 在 '{test_image_dir}' 中未找到图片，或无法创建测试集 Dataset。\")\n",
    "\n",
    "# --- 3. 创建测试集 DataLoader ---\n",
    "# 注意：测试时 batch_size 可以设置得大一些，shuffle应为False\n",
    "test_loader = torch.utils.data.DataLoader(\n",
    "    test_dataset,\n",
    "    batch_size=config.batch_size, # 可以使用和训练时一样的batch_size，或者更大\n",
    "    shuffle=False,             # 测试时不需要打乱顺序\n",
    "    num_workers=config.num_workers, # 根据您的设置\n",
    "    pin_memory=True\n",
    ")\n",
    "print(f\"测试集 DataLoader 创建完成。批次大小: {config.batch_size}, Shuffle: False\")\n",
    "\n",
    "\n",
    "# --- 4. 加载训练好的模型 ---\n",
    "print(f\"尝试从 {model_path} 加载模型...\")\n",
    "\n",
    "if not os.path.exists(model_path):\n",
    "    print(f\"错误: 模型文件 {model_path} 未找到。请检查路径。\")\n",
    "    # exit() \n",
    "\n",
    "# 根据损失函数类型选择合适的模型实例化方式\n",
    "if 'focal_contrastive' in config.loss_type or 'contrastive' in config.loss_type:\n",
    "    print(f\"为测试实例化了 ResNet152WithFeatures (用于对比/焦点对比损失)\")\n",
    "    # ResNet152WithFeatures uses a standard resnet152 backbone internally\n",
    "    # Its __init__ is def __init__(self, num_classes=57, pretrained=True)\n",
    "    model_to_test = ResNet152WithFeatures(\n",
    "        num_classes=config.num_classes, \n",
    "        pretrained=False  # Important: Set to False when loading your own trained weights\n",
    "    ).to(device)\n",
    "else:\n",
    "    # 标准分类模型 (this part should be correct if config.model_name matches these)\n",
    "    print(f\"为测试实例化了标准分类模型: {config.model_name}\")\n",
    "    if config.model_name == 'resnet152_transfer':\n",
    "        model_to_test = ResNet152Transfer(num_classes=config.num_classes, pretrained=False).to(device)\n",
    "    elif config.model_name == 'resnet152_attention':\n",
    "        model_to_test = ResNet152WithAttention(num_classes=config.num_classes, pretrained=False).to(device)\n",
    "    elif config.model_name == 'resnet152_local_global':\n",
    "        model_to_test = ResNet152WithLocalGlobal(num_classes=config.num_classes, pretrained=False).to(device)\n",
    "    elif config.model_name == 'resnet152_attention_local_global':\n",
    "        model_to_test = ResNet152WithAttentionAndLocalGlobal(num_classes=config.num_classes, pretrained=False).to(device)\n",
    "    elif config.model_name == 'enhanced_resnet152':\n",
    "       model_to_test = EnhancedResNet152(num_classes=config.num_classes, pretrained=False).to(device)\n",
    "    else:\n",
    "        raise ValueError(f\"未知的模型名称 для стандартной классификации: {config.model_name}\")\n",
    "\n",
    "# 加载模型状态字典\n",
    "checkpoint = torch.load(model_path, map_location=device)\n",
    "model_to_test.load_state_dict(checkpoint['model_state_dict'])\n",
    "model_to_test.eval() # 非常重要：设置为评估模式\n",
    "print(f\"模型权重从 {model_path} 加载成功，并设置为评估模式。\")\n",
    "\n",
    "# --- 5. 进行预测 ---\n",
    "predictions = [] # 存储 (image_id, predicted_label)\n",
    "pbar_test = tqdm(test_loader, desc=\"正在预测测试集\", unit=\"batch\")\n",
    "\n",
    "with torch.no_grad(): # 关闭梯度计算\n",
    "    for images, filenames in pbar_test:\n",
    "        if images is None: # 跳过加载失败的批次（如果TestDataset返回None）\n",
    "            print(f\"警告: 跳过一个批次，因为包含无效图片。涉及的文件名: {filenames}\")\n",
    "            # 需要确保即使图片加载失败，文件名也能被记录用于生成占位符预测（如果比赛要求）\n",
    "            # 这里简单跳过，但您可能需要根据实际情况调整\n",
    "            continue\n",
    "\n",
    "        images = images.to(device)\n",
    "        \n",
    "        if 'focal_contrastive' in config.loss_type or 'contrastive' in config.loss_type :\n",
    "            # 模型返回 features, logits\n",
    "            _, outputs = model_to_test(images)\n",
    "        else:\n",
    "            # 标准模型返回 logits\n",
    "            outputs = model_to_test(images)\n",
    "            \n",
    "        _, predicted_indices = torch.max(outputs, 1)\n",
    "        \n",
    "        # 将预测的类别索引转换为实际的类别标签\n",
    "        # 比赛要求的标签是从1开始的，而模型输出是0开始的索引\n",
    "        predicted_labels = predicted_indices.cpu().numpy() + 1 \n",
    "        \n",
    "        for filename, label in zip(filenames, predicted_labels):\n",
    "            predictions.append({'ID': filename, 'Label': label})\n",
    "\n",
    "print(f\"测试集预测完成。共预测 {len(predictions)} 个样本。\")\n",
    "\n",
    "# --- 6. 保存结果为CSV ---\n",
    "submission_df = pd.DataFrame(predictions)\n",
    "\n",
    "# 确保列的顺序是 \"ID\", \"Label\"\n",
    "submission_df = submission_df[['ID', 'Label']]\n",
    "\n",
    "# 检查是否有任何图片加载失败导致没有预测 (如果TestDataset返回None且未处理)\n",
    "if len(submission_df) != len(test_dataset):\n",
    "    print(f\"警告: 预测数量 ({len(submission_df)})与测试集图片数量 ({len(test_dataset)}) 不符。\")\n",
    "    print(\"这可能是因为部分测试图片加载失败。请检查TestDataset和加载逻辑。\")\n",
    "    # 您可能需要为加载失败的图片添加默认预测或根据比赛规则处理\n",
    "\n",
    "submission_df.to_csv(submission_csv_path, index=False)\n",
    "print(f\"提交文件已保存到: {submission_csv_path}\")\n",
    "\n",
    "# 显示前几行提交文件以供检查\n",
    "print(\"\\n提交文件预览:\")\n",
    "print(submission_df.head())"
   ]
  }
 ],
 "metadata": {
  "kernelspec": {
   "display_name": "Python 3",
   "language": "python",
   "name": "python3"
  },
  "language_info": {
   "codemirror_mode": {
    "name": "ipython",
    "version": 3
   },
   "file_extension": ".py",
   "mimetype": "text/x-python",
   "name": "python",
   "nbconvert_exporter": "python",
   "pygments_lexer": "ipython3",
   "version": "3.12.4"
  }
 },
 "nbformat": 4,
 "nbformat_minor": 2
}
